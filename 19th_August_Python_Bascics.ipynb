{
 "cells": [
  {
   "cell_type": "raw",
   "id": "6951355c-a646-4a20-b930-562b028f9fd0",
   "metadata": {},
   "source": [
    "Python Basics Variable"
   ]
  },
  {
   "cell_type": "code",
   "execution_count": null,
   "id": "e917fe79-d981-4917-9cc4-8ac4d6951916",
   "metadata": {},
   "outputs": [
    {
     "name": "stdout",
     "output_type": "stream",
     "text": [
      " Before Swapping  first number  10\n",
      " Before Swapping  second  number  20\n",
      " After  Swapping  first number  20\n",
      " After  Swapping  second  number  10\n"
     ]
    }
   ],
   "source": [
    "\"\"\"\n",
    "Declare two variables, `x` and `y`, and assign them integer values.\n",
    "Swap the values of these variables without using any temporary\n",
    "variable.\n",
    "\"\"\"\n",
    "x=10 #first number as integer\n",
    "y=20 #second  number as integer\n",
    "\n",
    "print (\" Before Swapping  first number \",x)\n",
    "print (\" Before Swapping  second  number \",y)\n",
    "\n",
    "x=x+y #taking sum of two number\n",
    "\n",
    "y=x-y\n",
    "x=x-y\n",
    "\n",
    "print (\" After  Swapping  first number \",x)\n",
    "print (\" After  Swapping  second  number \",y)\n",
    "\n",
    "\n"
   ]
  },
  {
   "cell_type": "code",
   "execution_count": 5,
   "id": "12fb2090-d77e-4217-a0dc-4bf9edd2ccda",
   "metadata": {},
   "outputs": [
    {
     "name": "stdin",
     "output_type": "stream",
     "text": [
      " Enter the length 2\n",
      " Enter the breath 0\n"
     ]
    },
    {
     "name": "stdout",
     "output_type": "stream",
     "text": [
      "Area of the rectangle  0\n"
     ]
    }
   ],
   "source": [
    "\"\"\"Create a program that calculates the area of a rectangle. Take the\n",
    "length and width as inputs from the user and store them in variables.\n",
    "Calculate and display the area.\"\"\"\n",
    "\n",
    "\n",
    "\n",
    "length=int (input (\" Enter the length\")) #enter the length \n",
    "breath=int (input (\" Enter the breath\")) #enter the breath \n",
    "\n",
    "area=length*breath #area of rectangle\n",
    "\n",
    "print (\"Area of the rectangle \",area)\n",
    "\n"
   ]
  },
  {
   "cell_type": "code",
   "execution_count": 7,
   "id": "16a53ba2-c553-4618-96ed-39c9076eb56d",
   "metadata": {},
   "outputs": [
    {
     "name": "stdin",
     "output_type": "stream",
     "text": [
      "Enter a temperature in celsius  2\n"
     ]
    },
    {
     "name": "stdout",
     "output_type": "stream",
     "text": [
      "Temperature in celsius: 2.0\n",
      "Temperature in Fahrenheit: 35.6\n"
     ]
    }
   ],
   "source": [
    "\"\"\"\n",
    "Write a Python program that converts temperature from Celsius to\n",
    "Fahrenheit. Take the temperature in Celsius as input, store it in a\n",
    "variable, convert it to Fahrenheit, and display the result.\n",
    "\n",
    "\"\"\"\n",
    "celsius= float (input(\"Enter a temperature in celsius \")) #taking input as float \n",
    "\n",
    "Fahrenheit = ( 9/5 * celsius) + 32 #converting celsius to Fahrenheit\n",
    "\n",
    "print (\"Temperature in celsius:\",celsius) #temperature in Celsius \n",
    "print (\"Temperature in Fahrenheit:\",Fahrenheit)#temperature in Fahrenheit\n"
   ]
  },
  {
   "cell_type": "code",
   "execution_count": null,
   "id": "59a0661e-21b8-4024-8d59-45fce1946699",
   "metadata": {},
   "outputs": [],
   "source": [
    "String Based Questions"
   ]
  },
  {
   "cell_type": "code",
   "execution_count": 8,
   "id": "2a931743-fb7a-4e35-8536-3f8cdc68af66",
   "metadata": {},
   "outputs": [
    {
     "name": "stdin",
     "output_type": "stream",
     "text": [
      " Enter a string whose length which you want : a\n"
     ]
    },
    {
     "name": "stdout",
     "output_type": "stream",
     "text": [
      " Length of string a is : 1\n"
     ]
    }
   ],
   "source": [
    "\"\"\"\n",
    "Write a Python program that takes a string as input and prints the\n",
    "length of the string.\n",
    "\"\"\"\n",
    "\n",
    "st= input (\" Enter a string whose length which you want :\") # taking input as string \n",
    "\n",
    "\n",
    "print (\" Length of string\",st,\"is :\",len(st)) #to find length we are using len() in which string is passed as parameter\n",
    "\n",
    "\n"
   ]
  },
  {
   "cell_type": "code",
   "execution_count": 23,
   "id": "5adb63c5-c1dc-466a-b212-720abeb56e25",
   "metadata": {},
   "outputs": [
    {
     "name": "stdin",
     "output_type": "stream",
     "text": [
      " Enter a sentence  baaat\n"
     ]
    },
    {
     "name": "stdout",
     "output_type": "stream",
     "text": [
      "Number of vowels in sentence is : 3\n"
     ]
    }
   ],
   "source": [
    "\"\"\"\n",
    "Create a program that takes a sentence from the user and counts the\n",
    "number of vowels (a, e, i, o, u) in the string.\n",
    "\n",
    "\"\"\"\n",
    "\n",
    "ocheck = input (\" Enter a sentence \") #taking input as string\n",
    "lcheck= ocheck.lower() #coverting each character to lower\n",
    "\n",
    "vcount=0 # using vcount to store number of vowels               \n",
    "for i in lcheck: #iterating  over each character \n",
    "    if i == 'a' or  i== 'e' or  i=='i' or  i=='o' or  i=='u': #checking i as vowels \n",
    "        vcount=vcount+1  #if vowels found increment value of vcount by one  \n",
    "        \n",
    "print(\"Number of vowels in sentence is :\",vcount)     \n"
   ]
  },
  {
   "cell_type": "code",
   "execution_count": 26,
   "id": "9fbe3e6e-1fdd-43e6-aa4b-64cc1cd424a6",
   "metadata": {},
   "outputs": [
    {
     "name": "stdin",
     "output_type": "stream",
     "text": [
      "Enter a string to reverse  : bat\n"
     ]
    },
    {
     "name": "stdout",
     "output_type": "stream",
     "text": [
      "Original String : bat\n",
      "Original String : tab\n"
     ]
    }
   ],
   "source": [
    "\"\"\"\n",
    "\n",
    "Given a string, reverse the order of characters using string slicing and\n",
    "print the reversed string.\n",
    "\n",
    "\"\"\"\n",
    "ostring= input ( \"Enter a string to reverse  :\") #taking input as string \n",
    "rstring=ostring[-1::-1] #reversing a string using negative indexing here we set step size as -1 \n",
    "\n",
    "print (\"Original String :\",ostring) \n",
    "\n",
    "print (\"Original String :\",rstring)\n",
    "\n"
   ]
  },
  {
   "cell_type": "code",
   "execution_count": 28,
   "id": "a534eaee-f368-4499-9763-e21e507d0800",
   "metadata": {},
   "outputs": [
    {
     "name": "stdin",
     "output_type": "stream",
     "text": [
      "Enter a string to reverse  : tat\n"
     ]
    },
    {
     "name": "stdout",
     "output_type": "stream",
     "text": [
      "tat : is  Plaindrome \n"
     ]
    }
   ],
   "source": [
    "\"\"\"\n",
    "Write a program that takes a string as input and checks if it is a\n",
    "palindrome (reads the same forwards and backwards).\n",
    "\"\"\"\n",
    "ostring= input ( \"Enter a string to reverse  :\") #taking input as string \n",
    "rstring=ostring[-1::-1] #reversing a string using negative indexing here step size as -1 \n",
    "\n",
    "if ostring == rstring : #checking the string is palindrome or not by comparing original string with reverse string\n",
    "    print (ostring ,\": is  Plaindrome \")\n",
    "    \n",
    "else :\n",
    "    print (ostring,\": is not Plaindrome \")"
   ]
  },
  {
   "cell_type": "code",
   "execution_count": 30,
   "id": "94b18b53-1bd5-441a-ac5b-698f9500f3a0",
   "metadata": {},
   "outputs": [
    {
     "name": "stdin",
     "output_type": "stream",
     "text": [
      " Enter a string  baaa t\n"
     ]
    },
    {
     "name": "stdout",
     "output_type": "stream",
     "text": [
      " String after whitespace removed  baaat\n"
     ]
    }
   ],
   "source": [
    "\"\"\"\n",
    "Create a program that takes a string as input and removes all the\n",
    "spaces from it. Print the modified string without spaces.\n",
    "\"\"\"\n",
    "\n",
    "ostring= input (\" Enter a string \")#taking string as input \n",
    "nstring=ostring.replace(\" \",\"\") #using replace() to remove all the white space \n",
    "print(\" String after whitespace removed \", nstring)  \n",
    "\n"
   ]
  }
 ],
 "metadata": {
  "kernelspec": {
   "display_name": "Python 3 (ipykernel)",
   "language": "python",
   "name": "python3"
  },
  "language_info": {
   "codemirror_mode": {
    "name": "ipython",
    "version": 3
   },
   "file_extension": ".py",
   "mimetype": "text/x-python",
   "name": "python",
   "nbconvert_exporter": "python",
   "pygments_lexer": "ipython3",
   "version": "3.10.8"
  }
 },
 "nbformat": 4,
 "nbformat_minor": 5
}
