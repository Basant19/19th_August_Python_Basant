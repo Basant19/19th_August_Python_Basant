{
 "cells": [
  {
   "cell_type": "code",
   "execution_count": 24,
   "id": "4909467e",
   "metadata": {},
   "outputs": [
    {
     "name": "stdout",
     "output_type": "stream",
     "text": [
      "False\n"
     ]
    }
   ],
   "source": [
    "'''Given an array, check if it contains any duplicates or not. \n",
    "arr = [1, 2, 4, 2, 5, 9] \n",
    "Output = True\n",
    "'''\n",
    "\n",
    "def show(arr):\n",
    "    l = len(arr)\n",
    "    for i in range(l):\n",
    "        for j in range(i + 1, l):  \n",
    "            if arr[i] == arr[j]:\n",
    "                return True  \n",
    "    return False  \n",
    "\n",
    "arr = [1, 2, 4, 5, 9]\n",
    "print(show(arr))   "
   ]
  },
  {
   "cell_type": "code",
   "execution_count": 12,
   "id": "65aeb9c7",
   "metadata": {},
   "outputs": [
    {
     "name": "stdout",
     "output_type": "stream",
     "text": [
      "[4, 5, 1, 2, 3]\n"
     ]
    }
   ],
   "source": [
    "'''Given an array and an integer k, rotate the array to the right by k steps. \n",
    "arr = [1, 2, 3, 4, 5, 6, 7] k = 3 \n",
    "Output = [5, 6, 7, 1, 2, 3, 4]\n",
    "'''\n",
    "def rotate_array(arr, k):\n",
    "    l = len(arr)\n",
    "    k = k % l\n",
    "    start, end = 0, l - 1\n",
    "    while start < end:\n",
    "        arr[start], arr[end] = arr[end], arr[start]\n",
    "        start += 1\n",
    "        end -= 1\n",
    "\n",
    "    start, end = 0, k - 1\n",
    "    while start < end:\n",
    "        arr[start], arr[end] = arr[end], arr[start]\n",
    "        start += 1\n",
    "        end -= 1\n",
    "\n",
    "    start, end = k, l - 1\n",
    "    while start < end:\n",
    "        arr[start], arr[end] = arr[end], arr[start]\n",
    "        start += 1\n",
    "        end -= 1\n",
    "\n",
    "    return arr\n",
    "\n",
    "arr = [1, 2, 3, 4, 5]\n",
    "k = 2\n",
    "print(rotate_array(arr, k))"
   ]
  },
  {
   "cell_type": "code",
   "execution_count": 14,
   "id": "859d9355",
   "metadata": {},
   "outputs": [
    {
     "name": "stdout",
     "output_type": "stream",
     "text": [
      "750000\n"
     ]
    }
   ],
   "source": [
    "'''Given an array of integers, find the maximum element in an array\n",
    "\n",
    " arr = [10, 5, 20, 8, 15]\n",
    "\n",
    " Output = 20\n",
    "\n",
    "'''\n",
    "def show (arr):\n",
    "    l= len (arr)\n",
    "    maxnum=arr [0]\n",
    "    \n",
    "    for i in range (1,l):\n",
    "        if maxnum < arr [i]:\n",
    "            maxnum= arr [i]  \n",
    "    \n",
    "    \n",
    "    return maxnum\n",
    "\n",
    "\n",
    "arr= [10,120,33,45,750000,999]\n",
    "print (show (arr))"
   ]
  },
  {
   "cell_type": "code",
   "execution_count": 23,
   "id": "6666603c",
   "metadata": {},
   "outputs": [
    {
     "name": "stdout",
     "output_type": "stream",
     "text": [
      "[1, 2, 3, 4, 5]\n"
     ]
    }
   ],
   "source": [
    "'''Given a sorted array, remove the duplicate element without using any extra data structure. \n",
    "arr = [1, 1, 2, 2, 2, 3, 3, 4, 4, 4, 5, 5] \n",
    "Output = [1, 2, 3, 4, 5]\n",
    "'''\n",
    "\n",
    "def check (arr):\n",
    "    j=0\n",
    "    l=len (arr)\n",
    "    if l == 0:\n",
    "        return arr\n",
    "    for i in range (1,l):\n",
    "        if  arr [i]!=arr[j]:\n",
    "             j+=1\n",
    "        arr[j]=arr[i]\n",
    "       \n",
    "    return arr [:j+1]\n",
    "\n",
    "    \n",
    "arr = [1, 1, 2, 2, 2, 3, 3, 4, 4, 4, 5, 5]\n",
    "result =check (arr)\n",
    "print( result)"
   ]
  }
 ],
 "metadata": {
  "kernelspec": {
   "display_name": "Python 3 (ipykernel)",
   "language": "python",
   "name": "python3"
  },
  "language_info": {
   "codemirror_mode": {
    "name": "ipython",
    "version": 3
   },
   "file_extension": ".py",
   "mimetype": "text/x-python",
   "name": "python",
   "nbconvert_exporter": "python",
   "pygments_lexer": "ipython3",
   "version": "3.10.9"
  }
 },
 "nbformat": 4,
 "nbformat_minor": 5
}
