{
 "cells": [
  {
   "cell_type": "code",
   "execution_count": 4,
   "id": "14941235",
   "metadata": {},
   "outputs": [
    {
     "name": "stdout",
     "output_type": "stream",
     "text": [
      "You deposited: 200\n",
      "Your bank balance is: 75600\n",
      "Your account number is: 78554854134\n",
      "Your account name is: bt\n",
      "Your bank balance is: 75600\n",
      "You withdrew: 100\n",
      "Your bank balance is: 75500\n",
      "Your account number is: 78554854134\n",
      "Your account name is: bt\n",
      "Your bank balance is: 75500\n"
     ]
    }
   ],
   "source": [
    "\"\"\"Problem 1: Bank Account Create a class representing a bank account with attributes like account number, account holder name, and balance. Implement methods to deposit and withdraw money from the account.\n",
    "\"\"\"\n",
    "class Bank:\n",
    "    def __init__(self, accnumber, accname, currbal):\n",
    "        self.accnumber = accnumber\n",
    "        self.accname = accname\n",
    "        self.currbal = currbal\n",
    "\n",
    "    def deposit(self, amount):\n",
    "        print(\"You deposited:\", amount)\n",
    "        self.currbal += amount\n",
    "        print(\"Your bank balance is:\", self.currbal)\n",
    "\n",
    "    def withdraw(self, amount):\n",
    "        if amount > self.currbal:\n",
    "            print(\"Insufficient funds. Withdrawal not allowed.\")\n",
    "        else:\n",
    "            print(\"You withdrew:\", amount)\n",
    "            self.currbal -= amount\n",
    "            print(\"Your bank balance is:\", self.currbal)\n",
    "\n",
    "    def show(self):\n",
    "        print(\"Your account number is:\", self.accnumber)\n",
    "        print(\"Your account name is:\", self.accname)\n",
    "        print(\"Your bank balance is:\", self.currbal)\n",
    "\n",
    "obj = Bank(78554854134, \"bt\", 75400)\n",
    "obj.deposit(200)\n",
    "obj.show()\n",
    "obj.withdraw(100)\n",
    "obj.show()"
   ]
  },
  {
   "cell_type": "code",
   "execution_count": 10,
   "id": "9dda0deb",
   "metadata": {},
   "outputs": [
    {
     "name": "stdout",
     "output_type": "stream",
     "text": [
      "Your yearly bonus is : 1000\n",
      "Your salary is: 1500\n",
      "Your employee id is: 1\n",
      "Your Name is: bt\n",
      "Ypur salary is : 1500\n"
     ]
    }
   ],
   "source": [
    "\"\"\"Problem 2: Employee Management Create a class representing an employee with attributes like employee ID, name, and salary. Implement methods to calculate the yearly bonus and display employee details.\n",
    "\"\"\"\n",
    "class employee:\n",
    "    \n",
    "    def __init__ (self,empid,empname,empsal):\n",
    "        self.empid=empid\n",
    "        self.empname=empname\n",
    "        self.empsal=empsal\n",
    "        \n",
    "    def ybonus (self,bonus):\n",
    "        print (\"Your yearly bonus is :\",bonus)\n",
    "        self.empsal += bonus\n",
    "        print (\"Your current salary is:\",self.empsal)\n",
    "        \n",
    "    def show (self):\n",
    "        print (\"Your employee id is:\",self.empid)\n",
    "        print (\"Your Name is:\",self.empname)\n",
    "        print (\"Your current salary is :\",self.empsal)\n",
    "        \n",
    "\n",
    "obj=employee(1,\"bt\",500)\n",
    "obj.ybonus(1000)\n",
    "obj.show()"
   ]
  },
  {
   "cell_type": "code",
   "execution_count": 11,
   "id": "77e5b538",
   "metadata": {},
   "outputs": [
    {
     "name": "stdout",
     "output_type": "stream",
     "text": [
      "List of Vehicles for rental: ['Car', 'car2', 'Bike']\n",
      "You have rented Car\n",
      "Available Vehicles: ['car2', 'Bike']\n",
      "You have returned Car\n",
      "Available Vehicles: ['car2', 'Bike', 'Car']\n"
     ]
    }
   ],
   "source": [
    "\"\"\"Problem 3: Vehicle Rental Create a class representing a vehicle rental system. Implement methods to rent a vehicle, return a vehicle, and display available vehicles.\n",
    "\"\"\"\n",
    "class VehicleRental:\n",
    "    def __init__(self, vlist):\n",
    "        self.vlist = vlist\n",
    "        self.rentedvehicles = []\n",
    "\n",
    "    def available_vehicles(self):\n",
    "        print(\"List of Vehicles for rental:\", self.vlist)\n",
    "\n",
    "    def rent_vehicle(self, vneed):\n",
    "        if vneed in self.vlist:\n",
    "            print(\"You have rented\", vneed)\n",
    "            self.vlist.remove(vneed)\n",
    "            self.rentedvehicles.append(vneed)\n",
    "            print(\"Available Vehicles:\", self.vlist)\n",
    "        else:\n",
    "            print(\"Sorry,\", vneed, \"is not available for rent.\")\n",
    "\n",
    "    def return_vehicle(self, vreturned):\n",
    "        if vreturned in self.rentedvehicles:\n",
    "            print(\"You have returned\", vreturned)\n",
    "            self.rentedvehicles.remove(vreturned)\n",
    "            self.vlist.append(vreturned)\n",
    "            print(\"Available Vehicles:\", self.vlist)\n",
    "        else:\n",
    "            print(\"You didn't rent\", vreturned, \"from us.\")\n",
    "\n",
    "\n",
    "rental_system = VehicleRental([\"Car\", \"car2\", \"Bike\"])\n",
    "rental_system.available_vehicles()\n",
    "rental_system.rent_vehicle(\"Car\")\n",
    "rental_system.return_vehicle(\"Car\")\n"
   ]
  },
  {
   "cell_type": "code",
   "execution_count": 4,
   "id": "7b535a44",
   "metadata": {},
   "outputs": [
    {
     "name": "stdout",
     "output_type": "stream",
     "text": [
      "Newbook added Book4\n",
      "book borrowed Book2\n",
      "Available books: ['Book1', 'Book3', 'Book4']\n",
      "You have returned: Book2\n",
      "Available books: ['Book1', 'Book3', 'Book4', 'Book2']\n",
      "Available book is: ['Book1', 'Book3', 'Book4', 'Book2']\n"
     ]
    }
   ],
   "source": [
    "\"\"\"Problem 4: Library Catalog Create classes representing a library and a book. Implement methods to add books to the library, borrow books, and display available books.\n",
    "\"\"\"\n",
    "class Library:\n",
    "    def __init__(self, available_books):\n",
    "        self.available_books = available_books\n",
    "        self.borrowed_books = []\n",
    "        \n",
    "        \n",
    "    def show(self):\n",
    "        print (\"Available book is:\",self.available_books)\n",
    "\n",
    "    def add_book(self, new_book):\n",
    "        self.available_books.append(new_book)\n",
    "        print(\"Newbook added\",new_book)\n",
    "\n",
    "    def borrow_book(self, book_to_borrow):\n",
    "        if book_to_borrow in self.available_books:\n",
    "            print( \"book borrowed\",book_to_borrow)\n",
    "            self.available_books.remove(book_to_borrow)\n",
    "            self.borrowed_books.append(book_to_borrow)\n",
    "            print(\"Available books:\", self.available_books)\n",
    "        else:\n",
    "            print(book_to_borrow,\"book not found\")\n",
    "\n",
    "    def return_book(self, book_to_return):\n",
    "        if book_to_return in self.borrowed_books:\n",
    "            print(\"You have returned:\", book_to_return)\n",
    "            self.borrowed_books.remove(book_to_return)\n",
    "            self.available_books.append(book_to_return)\n",
    "            print(\"Available books:\", self.available_books)\n",
    "        else:\n",
    "            print(book_to_return)\n",
    "\n",
    "\n",
    "library_catalog = Library([\"Book1\", \"Book2\", \"Book3\"])\n",
    "library_catalog.add_book(\"Book4\")\n",
    "library_catalog.borrow_book(\"Book2\")\n",
    "library_catalog.return_book(\"Book2\")\n",
    "library_catalog.show()"
   ]
  },
  {
   "cell_type": "code",
   "execution_count": 11,
   "id": "e79aa458",
   "metadata": {},
   "outputs": [
    {
     "name": "stdout",
     "output_type": "stream",
     "text": [
      "Available items in inventory:\n",
      "Mongo: 7\n",
      "Pendrive: 7\n",
      "Cricket Kit: 10\n",
      "Available items in inventory:\n",
      "Mongo: 10\n",
      "Pendrive: 7\n",
      "Cricket Kit: 10\n"
     ]
    }
   ],
   "source": [
    "\"\"\"Problem 5: Product Inventory Create classes representing a product and an inventory system. Implement methods to add products to the inventory, update product quantity, and display available products.\n",
    "\"\"\"\n",
    "\n",
    "class Product:\n",
    "    def __init__(self, name, quantity):\n",
    "        self.name = name\n",
    "        self.quantity = quantity\n",
    "\n",
    "class InventorySystem:\n",
    "    def __init__(self):\n",
    "        self.inventory = {}\n",
    "\n",
    "    def add_product(self, product):\n",
    "        if product.name not in self.inventory:\n",
    "            self.inventory[product.name] = product.quantity\n",
    "        else:\n",
    "            self.inventory[product.name] += product.quantity\n",
    "\n",
    "    def update_quantity(self, product_name, new_quantity):\n",
    "        if product_name in self.inventory:\n",
    "            self.inventory[product_name] = new_quantity\n",
    "        else:\n",
    "            print(\"Product not found in inventory.\",product_name)\n",
    "\n",
    "    def show_inventory(self):\n",
    "        print(\"Available items in inventory:\")\n",
    "        for product_name, quantity in self.inventory.items():\n",
    "            print(f\"{product_name}: {quantity}\")\n",
    "\n",
    "\n",
    "product1 = Product(\"Mongo\", 7)\n",
    "product2 = Product(\"Pendrive\", 7)\n",
    "product3 = Product(\"Cricket Kit\", 10)\n",
    "\n",
    "\n",
    "inventory_system = InventorySystem()\n",
    "\n",
    "inventory_system.add_product(product1)\n",
    "inventory_system.add_product(product2)\n",
    "inventory_system.add_product(product3)\n",
    "\n",
    "inventory_system.show_inventory()\n",
    "\n",
    "inventory_system.update_quantity(\"Mongo\", 10)\n",
    "inventory_system.show_inventory()"
   ]
  },
  {
   "cell_type": "code",
   "execution_count": 13,
   "id": "4356697f",
   "metadata": {},
   "outputs": [
    {
     "name": "stdout",
     "output_type": "stream",
     "text": [
      " Area of the square  is : 8\n"
     ]
    }
   ],
   "source": [
    "\"\"\"Problem 6: Shape Calculation Create a class representing a shape with attributes like length, width, and height. Implement methods to calculate the area and perimeter of the shape.\n",
    "\"\"\"\n",
    "\n",
    "class shape :\n",
    "    def __init__ (self,length,width,height):\n",
    "        self.length=length\n",
    "        self.width=width\n",
    "        self.height=height\n",
    "        \n",
    "    def area(self):\n",
    "        print (\" Area of the square  is :\",self.length*self.width)\n",
    "        \n",
    "        \n",
    "    def premiter(self):\n",
    "        print (\"Area of the premeter is :\",4*self.length)\n",
    "obj=shape(4,2,10)\n",
    "obj.area()\n",
    "obj.permeter()"
   ]
  },
  {
   "cell_type": "code",
   "execution_count": 6,
   "id": "70a8228d",
   "metadata": {},
   "outputs": [
    {
     "name": "stdout",
     "output_type": "stream",
     "text": [
      "Your id is : 1\n",
      "Your name is : BT\n",
      "Your subject marks is : 1\n",
      "Your subject marks is : 2\n",
      "Your subject marks is : 3\n",
      "Average is : 2\n"
     ]
    }
   ],
   "source": [
    "\"\"\"Problem 7: Student Management Create a class representing a student with attributes like student ID, name, and grades. Implement methods to calculate the average grade and display student details.\n",
    "\"\"\"\n",
    "\n",
    "class student :\n",
    "    \n",
    "    def __init__ (self,stdid,stdname,sub1,sub2,sub3): \n",
    "        \n",
    "        self.stdid=stdid\n",
    "        self.stdname=stdname\n",
    "        self.sub1=sub1\n",
    "        self.sub2=sub2\n",
    "        self.sub3=sub3\n",
    "        \n",
    "    def show (self):\n",
    "        \n",
    "        print (\"Your id is :\",self.stdid)\n",
    "        print (\"Your name is :\",self.stdname)\n",
    "        print (\"Your subject marks is :\",self.sub1)\n",
    "        print (\"Your subject marks is :\",self.sub2)\n",
    "        print (\"Your subject marks is :\",self.sub3)\n",
    "        \n",
    "    def avg (self):\n",
    "        avg=(self.sub1+self.sub2+self.sub3)//3\n",
    "        print (\"Average is :\",avg)\n",
    "   \n",
    "obj= student(1,\"BT\",1,2,3)\n",
    "obj.show()\n",
    "obj.avg()"
   ]
  },
  {
   "cell_type": "code",
   "execution_count": 12,
   "id": "13e02cee",
   "metadata": {},
   "outputs": [
    {
     "name": "stdout",
     "output_type": "stream",
     "text": [
      "Recipient not found\n"
     ]
    }
   ],
   "source": [
    "\"\"\"Problem 8: Email Management Create a class representing an email with attributes like sender, recipient, and subject. Implement methods to send an email and display email details.\n",
    "\"\"\"\n",
    "class EmailManagement:\n",
    "    def __init__(self, sender, recipient, subject, message):\n",
    "        self.sender = sender\n",
    "        self.recipient = recipient\n",
    "        self.subject = subject\n",
    "        self.message = message\n",
    "        self.sent = False\n",
    "\n",
    "    def send_email(self, recipient):\n",
    "        if self.recipient == recipient:\n",
    "            self.sent = True\n",
    "            print(\"Subject:\", self.subject)\n",
    "            print(\"Message sent from:\", self.sender, \"to\", self.recipient)\n",
    "        else:\n",
    "            print(\"Recipient not found\")\n",
    "\n",
    "    def show(self):\n",
    "        if self.sent:\n",
    "            print(\"Subject:\", self.subject)\n",
    "            print(\"Message sent from:\", self.sender, \"to\", self.recipient)\n",
    "            print(\"Message:\", self.message)\n",
    "\n",
    "\n",
    "obj = EmailManagement(\"xyz@example.com\", \"bt@example.com\", \"Invitataion\", \"Hello, we would like to invite you to our tea party .\")\n",
    "obj.send_email(\"bt@example.com\")\n",
    "obj.show()"
   ]
  },
  {
   "cell_type": "code",
   "execution_count": 15,
   "id": "c7067c93",
   "metadata": {},
   "outputs": [
    {
     "name": "stdout",
     "output_type": "stream",
     "text": [
      "['hello world']\n",
      "['bat check']\n",
      "['yan']\n",
      "['hello world']\n",
      "['bat check']\n",
      "['yan']\n",
      "['New post!']\n",
      "Whole sentence: bat check\n"
     ]
    }
   ],
   "source": [
    "\"\"\"Problem 9: Social Media Profile Create a class representing a social media profile with attributes like username and posts. Implement methods to add posts, display posts, and search for posts by keyword.\n",
    "\"\"\"\n",
    "class SocialManagement:\n",
    "    def __init__(self, username, posts):\n",
    "        self.username = username\n",
    "        self.posts = posts\n",
    "        self.umatch = False\n",
    "        self.pmatch = False\n",
    "\n",
    "    def show(self, user):\n",
    "        if self.username == user:\n",
    "            for post in self.posts:\n",
    "                print(post)\n",
    "        else:\n",
    "            print(\"User not found\")\n",
    "\n",
    "    def add_post(self, user, new_post):\n",
    "        if self.username == user:\n",
    "            self.posts.append([new_post])\n",
    "        else:\n",
    "            print(\"User not found\")\n",
    "\n",
    "    def search(self, keyword):\n",
    "        for post in self.posts:\n",
    "            post_text = post[0]\n",
    "            if keyword in post_text:\n",
    "                print(\"Whole sentence:\", post_text)\n",
    "\n",
    "\n",
    "obj = SocialManagement(\"BT\", [[\"hello world\"], [\"bat check\"], [\"yan\"]])\n",
    "obj.show(\"BT\")\n",
    "obj.add_post(\"BT\", \"New post!\")\n",
    "obj.show(\"BT\")\n",
    "obj.search(\"bat\")\n"
   ]
  },
  {
   "cell_type": "code",
   "execution_count": 4,
   "id": "0a8acdf2",
   "metadata": {},
   "outputs": [
    {
     "name": "stdout",
     "output_type": "stream",
     "text": [
      "New task added.\n",
      "New task added.\n",
      "Pending tasks:\n",
      "Task: Complete assignment, Due Date: 2023-11-30\n",
      "Task: Read a book, Due Date: 2023-12-05\n",
      "Task marked as completed. Complete assignment\n",
      "Pending tasks:\n",
      "Task: Read a book, Due Date: 2023-12-05\n"
     ]
    }
   ],
   "source": [
    "\"\"\"Problem 10: ToDo List Create a class representing a ToDo list with attributes like tasks and due dates. Implement methods to add tasks, mark tasks as completed, and display pending tasks.\n",
    "\"\"\"\n",
    "\n",
    "class todolist:\n",
    "    def __init__ (self):\n",
    "        self.tasks=[]\n",
    "        \n",
    "        \n",
    "    def add_task(self, task, due_date):\n",
    "        self.tasks.append({\"task\": task, \"due_date\": due_date})\n",
    "        print(\"New task added.\")\n",
    "        \n",
    "    def markscomp (self,task):        \n",
    "        for t in self.tasks:\n",
    "            if t[\"task\"] == task:\n",
    "                t[\"completed\"] = True\n",
    "                print(\"Task marked as completed.\",task)\n",
    "                return\n",
    "        print(\"Task  not found in the ToDo list.\",task)\n",
    "        \n",
    "    def display_pending_tasks(self):\n",
    "        pending_tasks = []\n",
    "        for t in self.tasks:\n",
    "            if not t.get(\"completed\", False):\n",
    "                pending_tasks.append(t)\n",
    "\n",
    "        if pending_tasks:\n",
    "            print(\"Pending tasks:\")\n",
    "            for t in pending_tasks:\n",
    "                print(f\"Task: {t['task']}, Due Date: {t['due_date']}\")\n",
    "        else:\n",
    "            print(\"No pending tasks.\")\n",
    "            \n",
    "obj = todolist()\n",
    "obj.add_task(\"Complete assignment\", \"2023-11-30\")\n",
    "obj.add_task(\"Read a book\", \"2023-12-05\")\n",
    "obj.display_pending_tasks()\n",
    "\n",
    "obj.markscomp(\"Complete assignment\")\n",
    "obj.display_pending_tasks()            "
   ]
  },
  {
   "cell_type": "code",
   "execution_count": null,
   "id": "e85c57fa",
   "metadata": {},
   "outputs": [],
   "source": []
  }
 ],
 "metadata": {
  "kernelspec": {
   "display_name": "Python 3 (ipykernel)",
   "language": "python",
   "name": "python3"
  },
  "language_info": {
   "codemirror_mode": {
    "name": "ipython",
    "version": 3
   },
   "file_extension": ".py",
   "mimetype": "text/x-python",
   "name": "python",
   "nbconvert_exporter": "python",
   "pygments_lexer": "ipython3",
   "version": "3.10.9"
  }
 },
 "nbformat": 4,
 "nbformat_minor": 5
}
