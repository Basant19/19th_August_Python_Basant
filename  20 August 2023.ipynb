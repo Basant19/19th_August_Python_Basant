{
 "cells": [
  {
   "cell_type": "markdown",
   "id": "8c2aef35",
   "metadata": {},
   "source": [
    "# String Based Assignment Problem"
   ]
  },
  {
   "cell_type": "code",
   "execution_count": 3,
   "id": "af0d82da",
   "metadata": {},
   "outputs": [
    {
     "name": "stdout",
     "output_type": "stream",
     "text": [
      "tnasaB"
     ]
    }
   ],
   "source": [
    "'''Write a program to reverse a string\n",
    "'''\n",
    " \n",
    "str = 'Basant'\n",
    "for i in range (len(str)-1,-1,-1):\n",
    "    print (str[i],end = '' )"
   ]
  },
  {
   "cell_type": "code",
   "execution_count": 4,
   "id": "9d10788f",
   "metadata": {},
   "outputs": [
    {
     "name": "stdout",
     "output_type": "stream",
     "text": [
      "tnasaB"
     ]
    }
   ],
   "source": [
    "'''Check if a string is a palindrome\n",
    "'''\n",
    "str = 'Basant'\n",
    "for i in range (len(str)-1,-1,-1):\n",
    "    print (str[i],end = '' )"
   ]
  },
  {
   "cell_type": "code",
   "execution_count": 5,
   "id": "f9545cbe",
   "metadata": {},
   "outputs": [
    {
     "name": "stdout",
     "output_type": "stream",
     "text": [
      "BASANT\n"
     ]
    }
   ],
   "source": [
    "'''Convert a string to uppercase\n",
    "'''\n",
    "\n",
    "oldstr='Basant'\n",
    "newstr=''\n",
    "newstr= oldstr.upper () \n",
    "print (newstr)"
   ]
  },
  {
   "cell_type": "code",
   "execution_count": 6,
   "id": "3b92369b",
   "metadata": {},
   "outputs": [
    {
     "name": "stdout",
     "output_type": "stream",
     "text": [
      "basant\n"
     ]
    }
   ],
   "source": [
    "'''\n",
    "Convert a string to lowercase.\n",
    "'''\n",
    "olsdstr='BASANT'\n",
    "newstr= ''\n",
    "newstr=oldstr.lower ()\n",
    "print (newstr) \n",
    " "
   ]
  },
  {
   "cell_type": "code",
   "execution_count": 7,
   "id": "c723d248",
   "metadata": {},
   "outputs": [
    {
     "name": "stdout",
     "output_type": "stream",
     "text": [
      "5\n"
     ]
    }
   ],
   "source": [
    "''' length of string without using len function \n",
    "'''\n",
    "\n",
    "s = {1, 2, 3, 4, 5}\n",
    "count = 0\n",
    "for _ in s:\n",
    "    count += 1\n",
    "print(count)\n"
   ]
  },
  {
   "cell_type": "code",
   "execution_count": 8,
   "id": "bea351e1",
   "metadata": {},
   "outputs": [],
   "source": [
    "'''Clear all elements from a set:\n",
    "'''\n",
    "s = {1, 2, 3, 4, 5}\n",
    "s.clear()\n"
   ]
  },
  {
   "cell_type": "code",
   "execution_count": 9,
   "id": "ae206541",
   "metadata": {},
   "outputs": [
    {
     "name": "stdout",
     "output_type": "stream",
     "text": [
      "{2, 4, 6, 8, 10}\n"
     ]
    }
   ],
   "source": [
    "# Create a set of even numbers from 1 to 10\n",
    "even_set = {x for x in range(1, 11) if x % 2 == 0}\n",
    "print(even_set)"
   ]
  },
  {
   "cell_type": "code",
   "execution_count": 10,
   "id": "8c932dc7",
   "metadata": {},
   "outputs": [
    {
     "name": "stdout",
     "output_type": "stream",
     "text": [
      "{1, 3, 5, 7, 9}\n"
     ]
    }
   ],
   "source": [
    "# Create a set of odd numbers from 1 to 10\n",
    "odd_set = {x for x in range(1, 11) if x % 2 != 0}\n",
    "print(odd_set)"
   ]
  },
  {
   "cell_type": "code",
   "execution_count": 11,
   "id": "a6e36e38",
   "metadata": {},
   "outputs": [
    {
     "name": "stdout",
     "output_type": "stream",
     "text": [
      "{1, 2, 3, 4, 5, 6, 7, 8, 9, 10}\n"
     ]
    }
   ],
   "source": [
    "# Find the union of two sets\n",
    "union_set = even_set | odd_set\n",
    "print(union_set)"
   ]
  },
  {
   "cell_type": "code",
   "execution_count": 12,
   "id": "de0db1bd",
   "metadata": {},
   "outputs": [
    {
     "name": "stdout",
     "output_type": "stream",
     "text": [
      "set()\n"
     ]
    }
   ],
   "source": [
    "# Find the intersection of two sets\n",
    "intersection_set = even_set & odd_set\n",
    "print(intersection_set)"
   ]
  },
  {
   "cell_type": "code",
   "execution_count": 13,
   "id": "2d2f9f74",
   "metadata": {},
   "outputs": [
    {
     "name": "stdout",
     "output_type": "stream",
     "text": [
      "{2, 4, 6, 8, 10}\n"
     ]
    }
   ],
   "source": [
    "# Find the difference between two sets\n",
    "difference_set = even_set - odd_set\n",
    "print(difference_set)"
   ]
  },
  {
   "cell_type": "code",
   "execution_count": 14,
   "id": "e29f0ef0",
   "metadata": {},
   "outputs": [
    {
     "name": "stdout",
     "output_type": "stream",
     "text": [
      "True\n"
     ]
    }
   ],
   "source": [
    "# Check if a set is a subset of another set\n",
    "print(odd_set.issubset(union_set))"
   ]
  },
  {
   "cell_type": "code",
   "execution_count": 15,
   "id": "0a1f78b0",
   "metadata": {},
   "outputs": [
    {
     "name": "stdout",
     "output_type": "stream",
     "text": [
      "True\n"
     ]
    }
   ],
   "source": [
    "# Check if a set is a superset of another set\n",
    "print(union_set.issuperset(odd_set))"
   ]
  },
  {
   "cell_type": "code",
   "execution_count": 16,
   "id": "015593fe",
   "metadata": {},
   "outputs": [
    {
     "name": "stdout",
     "output_type": "stream",
     "text": [
      "{1, 2, 3, 4, 5}\n"
     ]
    }
   ],
   "source": [
    "# Create a set from a list\n",
    "lst = [1, 2, 3, 4, 5]\n",
    "set_from_list = set(lst)\n",
    "print(set_from_list)"
   ]
  },
  {
   "cell_type": "code",
   "execution_count": 17,
   "id": "e2bd0cbe",
   "metadata": {},
   "outputs": [
    {
     "name": "stdout",
     "output_type": "stream",
     "text": [
      "[1, 2, 3, 4, 5]\n"
     ]
    }
   ],
   "source": [
    "# Convert a set to a list\n",
    "set_to_list = list(set_from_list)\n",
    "print(set_to_list)"
   ]
  },
  {
   "cell_type": "code",
   "execution_count": 18,
   "id": "ef596b57",
   "metadata": {},
   "outputs": [
    {
     "name": "stdout",
     "output_type": "stream",
     "text": [
      "{2, 3, 4, 5}\n"
     ]
    }
   ],
   "source": [
    "# Remove a random element from a set\n",
    "set_from_list.pop()\n",
    "print(set_from_list)"
   ]
  },
  {
   "cell_type": "code",
   "execution_count": 19,
   "id": "5f2ae4dc",
   "metadata": {},
   "outputs": [
    {
     "name": "stdout",
     "output_type": "stream",
     "text": [
      "{3, 4, 5}\n"
     ]
    }
   ],
   "source": [
    "# Pop an element from a set\n",
    "set_from_list.pop()\n",
    "print(set_from_list)"
   ]
  },
  {
   "cell_type": "code",
   "execution_count": 20,
   "id": "a82b1c74",
   "metadata": {},
   "outputs": [
    {
     "name": "stdout",
     "output_type": "stream",
     "text": [
      "True\n"
     ]
    }
   ],
   "source": [
    "# Check if two sets have no elements in common\n",
    "disjoint_sets = even_set.isdisjoint(odd_set)\n",
    "print(disjoint_sets)"
   ]
  },
  {
   "cell_type": "code",
   "execution_count": 21,
   "id": "c61278b4",
   "metadata": {},
   "outputs": [
    {
     "name": "stdout",
     "output_type": "stream",
     "text": [
      "{1, 2, 3, 4, 5, 6, 7, 8, 9, 10}\n"
     ]
    }
   ],
   "source": [
    "# Find the symmetric difference between two sets\n",
    "symmetric_difference_set = even_set ^ odd_set\n",
    "print(symmetric_difference_set)"
   ]
  },
  {
   "cell_type": "code",
   "execution_count": 22,
   "id": "39d6139a",
   "metadata": {},
   "outputs": [
    {
     "name": "stdout",
     "output_type": "stream",
     "text": [
      "{1, 2, 3, 4, 5, 6, 7, 8, 9, 10}\n"
     ]
    }
   ],
   "source": [
    "# Update a set with elements from another set\n",
    "even_set.update(odd_set)\n",
    "print(even_set)"
   ]
  },
  {
   "cell_type": "code",
   "execution_count": 23,
   "id": "e9c8db73",
   "metadata": {},
   "outputs": [
    {
     "name": "stdout",
     "output_type": "stream",
     "text": [
      "{2, 3, 5, 7, 11}\n"
     ]
    }
   ],
   "source": [
    "# Create a set of the first 5 prime numbers\n",
    "prime_set = {2, 3, 5, 7, 11}\n",
    "print(prime_set)"
   ]
  },
  {
   "cell_type": "code",
   "execution_count": 24,
   "id": "8521e05d",
   "metadata": {},
   "outputs": [
    {
     "name": "stdout",
     "output_type": "stream",
     "text": [
      "True\n"
     ]
    }
   ],
   "source": [
    "# Check if two sets are identical\n",
    "set1 = {1, 2, 3}\n",
    "set2 = {3, 2, 1}\n",
    "print(set1 == set2)"
   ]
  },
  {
   "cell_type": "code",
   "execution_count": 25,
   "id": "e0e265c1",
   "metadata": {},
   "outputs": [
    {
     "name": "stdout",
     "output_type": "stream",
     "text": [
      "frozenset({1, 2, 3, 4})\n"
     ]
    }
   ],
   "source": [
    "# Create a frozen set\n",
    "frozen_set = frozenset([1, 2, 3, 4])\n",
    "print(frozen_set)"
   ]
  },
  {
   "cell_type": "code",
   "execution_count": 26,
   "id": "19554577",
   "metadata": {},
   "outputs": [
    {
     "name": "stdout",
     "output_type": "stream",
     "text": [
      "False\n"
     ]
    }
   ],
   "source": [
    "# Check if a set is disjoint with another set\n",
    "disjoint_check = set1.isdisjoint(set2)\n",
    "print(disjoint_check)"
   ]
  },
  {
   "cell_type": "code",
   "execution_count": 27,
   "id": "a93b3b28",
   "metadata": {},
   "outputs": [
    {
     "name": "stdout",
     "output_type": "stream",
     "text": [
      "{1, 4, 9, 16, 25}\n"
     ]
    }
   ],
   "source": [
    "# Create a set of squares of numbers from 1 to 5\n",
    "square_set = {x ** 2 for x in range(1, 6)}\n",
    "print(square_set)"
   ]
  },
  {
   "cell_type": "code",
   "execution_count": 28,
   "id": "e78d41c4",
   "metadata": {},
   "outputs": [
    {
     "name": "stdout",
     "output_type": "stream",
     "text": [
      "{1, 9, 25}\n"
     ]
    }
   ],
   "source": [
    "# Filter out all even numbers from a set\n",
    "filtered_set = {x for x in square_set if x % 2 != 0}\n",
    "print(filtered_set)"
   ]
  },
  {
   "cell_type": "code",
   "execution_count": 29,
   "id": "b0bffcba",
   "metadata": {},
   "outputs": [
    {
     "name": "stdout",
     "output_type": "stream",
     "text": [
      "{32, 2, 8, 18, 50}\n"
     ]
    }
   ],
   "source": [
    "\n",
    "# Multiply all elements in a set by 2\n",
    "multiplied_set = {x * 2 for x in square_set}\n",
    "print(multiplied_set)"
   ]
  },
  {
   "cell_type": "code",
   "execution_count": 30,
   "id": "f1eda62f",
   "metadata": {},
   "outputs": [
    {
     "name": "stdout",
     "output_type": "stream",
     "text": [
      "{73, 52, 37, 33}\n"
     ]
    }
   ],
   "source": [
    "# Create a set of random numbers\n",
    "import random\n",
    "random_set = {random.randint(1, 100) for _ in range(5)}\n",
    "print(random_set)"
   ]
  },
  {
   "cell_type": "code",
   "execution_count": 31,
   "id": "241eb5d0",
   "metadata": {},
   "outputs": [
    {
     "name": "stdout",
     "output_type": "stream",
     "text": [
      "True\n"
     ]
    }
   ],
   "source": [
    "# Check if a set is empty\n",
    "empty_set = set()\n",
    "print(len(empty_set) == 0)"
   ]
  },
  {
   "cell_type": "code",
   "execution_count": 32,
   "id": "8adf740f",
   "metadata": {},
   "outputs": [
    {
     "name": "stdout",
     "output_type": "stream",
     "text": [
      "{frozenset({3, 4}), frozenset({1, 2})}\n"
     ]
    }
   ],
   "source": [
    "# Create a nested set (hint: use frozenset)\n",
    "nested_set = {frozenset([1, 2]), frozenset([3, 4])}\n",
    "print(nested_set)"
   ]
  },
  {
   "cell_type": "code",
   "execution_count": 33,
   "id": "d015dbda",
   "metadata": {},
   "outputs": [
    {
     "name": "stdout",
     "output_type": "stream",
     "text": [
      "{2, 3}\n"
     ]
    }
   ],
   "source": [
    "# Remove an element from a set using the discard method\n",
    "set1.discard(1)\n",
    "print(set1)\n"
   ]
  },
  {
   "cell_type": "code",
   "execution_count": 34,
   "id": "8ca4feed",
   "metadata": {},
   "outputs": [
    {
     "name": "stdout",
     "output_type": "stream",
     "text": [
      "False\n"
     ]
    }
   ],
   "source": [
    "# Compare two sets\n",
    "print(set1 == set2)"
   ]
  },
  {
   "cell_type": "code",
   "execution_count": 35,
   "id": "3a773096",
   "metadata": {},
   "outputs": [
    {
     "name": "stdout",
     "output_type": "stream",
     "text": [
      "{'e', 'l', 'o', 'h'}\n"
     ]
    }
   ],
   "source": [
    "# Create a set from a string\n",
    "string_set = set(\"hello\")\n",
    "print(string_set)\n"
   ]
  },
  {
   "cell_type": "code",
   "execution_count": 36,
   "id": "1fa0e572",
   "metadata": {},
   "outputs": [
    {
     "name": "stdout",
     "output_type": "stream",
     "text": [
      "{1, 2, 3}\n"
     ]
    }
   ],
   "source": [
    "# Convert a set of strings to a set of integers\n",
    "string_set = {\"1\", \"2\", \"3\"}\n",
    "integer_set = {int(x) for x in string_set}\n",
    "print(integer_set)"
   ]
  },
  {
   "cell_type": "code",
   "execution_count": null,
   "id": "b423b62a",
   "metadata": {},
   "outputs": [],
   "source": [
    "# Convert a set of integers to a set of strings\n",
    "\n",
    "intset = {1, 2, 3, 4, 5}\n",
    "\n",
    "\n",
    "strset = {str(change) for change in intset}\n",
    "\n",
    "print(strset)  \n",
    "\n"
   ]
  },
  {
   "cell_type": "code",
   "execution_count": 42,
   "id": "5e86f33d",
   "metadata": {},
   "outputs": [
    {
     "name": "stdout",
     "output_type": "stream",
     "text": [
      "{1, 2, 3, 4}\n"
     ]
    }
   ],
   "source": [
    "# Create a set from a tuple\n",
    "tuple_set = set((1, 2, 3, 4))\n",
    "print(tuple_set)"
   ]
  },
  {
   "cell_type": "code",
   "execution_count": 43,
   "id": "e62f59d3",
   "metadata": {},
   "outputs": [
    {
     "name": "stdout",
     "output_type": "stream",
     "text": [
      "(1, 2, 3, 4)\n"
     ]
    }
   ],
   "source": [
    "# Convert a set to a tuple\n",
    "set_to_tuple = tuple(tuple_set)\n",
    "print(set_to_tuple)\n"
   ]
  },
  {
   "cell_type": "code",
   "execution_count": 44,
   "id": "4bba4fd9",
   "metadata": {},
   "outputs": [
    {
     "name": "stdout",
     "output_type": "stream",
     "text": [
      "4\n"
     ]
    }
   ],
   "source": [
    "# Find the maximum value in a set\n",
    "print(max(tuple_set))"
   ]
  },
  {
   "cell_type": "code",
   "execution_count": null,
   "id": "8ca49cf6",
   "metadata": {},
   "outputs": [],
   "source": [
    "# Create a set from user input\n",
    "user_input = set(map(int, input(\"Enter numbers separated by space: \").split()))\n",
    "print(user_input)"
   ]
  },
  {
   "cell_type": "code",
   "execution_count": 45,
   "id": "59c58d9e",
   "metadata": {},
   "outputs": [
    {
     "name": "stdout",
     "output_type": "stream",
     "text": [
      "True\n"
     ]
    }
   ],
   "source": [
    "# Check if the intersection of two sets is empty\n",
    "set3 = {10, 11, 12}\n",
    "print(set3.isdisjoint(set1))"
   ]
  },
  {
   "cell_type": "code",
   "execution_count": 46,
   "id": "0e2f50ef",
   "metadata": {},
   "outputs": [
    {
     "name": "stdout",
     "output_type": "stream",
     "text": [
      "{0, 1, 2, 3}\n"
     ]
    }
   ],
   "source": [
    "# Create a set of the first 5 Fibonacci numbers\n",
    "fibonacci_set = {0, 1, 1, 2, 3}\n",
    "print(fibonacci_set)\n"
   ]
  },
  {
   "cell_type": "code",
   "execution_count": 47,
   "id": "d4a653ad",
   "metadata": {},
   "outputs": [
    {
     "name": "stdout",
     "output_type": "stream",
     "text": [
      "{1, 2, 3, 4}\n"
     ]
    }
   ],
   "source": [
    "# Remove duplicates from a list using sets\n",
    "lst_with_duplicates = [1, 2, 2, 3, 4, 4]\n",
    "set_without_duplicates = set(lst_with_duplicates)\n",
    "print(set_without_duplicates)"
   ]
  },
  {
   "cell_type": "code",
   "execution_count": 48,
   "id": "afcd4355",
   "metadata": {},
   "outputs": [
    {
     "name": "stdout",
     "output_type": "stream",
     "text": [
      "True\n"
     ]
    }
   ],
   "source": [
    "# Check if two sets have the same elements, regardless of their count\n",
    "set4 = {1, 2, 3}\n",
    "set5 = {3, 2, 1}\n",
    "print(set4 == set5)"
   ]
  },
  {
   "cell_type": "code",
   "execution_count": 49,
   "id": "58afebf8",
   "metadata": {},
   "outputs": [
    {
     "name": "stdout",
     "output_type": "stream",
     "text": [
      "{1, 2, 4, 8, 16}\n"
     ]
    }
   ],
   "source": [
    "# Create a set of the first n powers of 2\n",
    "n = 5\n",
    "power_set = {2 ** x for x in range(n)}\n",
    "print(power_set)"
   ]
  },
  {
   "cell_type": "code",
   "execution_count": 50,
   "id": "41a2a8dc",
   "metadata": {},
   "outputs": [
    {
     "name": "stdout",
     "output_type": "stream",
     "text": [
      "{1, 2, 3}\n"
     ]
    }
   ],
   "source": [
    "# Find the common elements between a set and a list\n",
    "common_elements = set4.intersection(lst)\n",
    "print(common_elements)"
   ]
  },
  {
   "cell_type": "code",
   "execution_count": 51,
   "id": "afc573cb",
   "metadata": {},
   "outputs": [
    {
     "name": "stdout",
     "output_type": "stream",
     "text": [
      "{1, 3, 6, 10, 15}\n"
     ]
    }
   ],
   "source": [
    "# Create a set of the first n triangular numbers\n",
    "triangular_set = {n * (n + 1) // 2 for n in range(1, 6)}\n",
    "print(triangular_set)"
   ]
  },
  {
   "cell_type": "code",
   "execution_count": 52,
   "id": "691e01fe",
   "metadata": {},
   "outputs": [
    {
     "name": "stdout",
     "output_type": "stream",
     "text": [
      "True\n"
     ]
    }
   ],
   "source": [
    "# Check if a set contains another set as a subset\n",
    "print(set4.issubset(set5))"
   ]
  },
  {
   "cell_type": "code",
   "execution_count": 53,
   "id": "23c93913",
   "metadata": {},
   "outputs": [
    {
     "name": "stdout",
     "output_type": "stream",
     "text": [
      "{0, 1}\n"
     ]
    }
   ],
   "source": [
    "# Create a set of alternating 1s and 0s of length n\n",
    "n = 6\n",
    "alternating_set = {i % 2 for i in range(n)}\n",
    "print(alternating_set)\n"
   ]
  },
  {
   "cell_type": "code",
   "execution_count": 54,
   "id": "905cbc1a",
   "metadata": {},
   "outputs": [
    {
     "name": "stdout",
     "output_type": "stream",
     "text": [
      "{1, 2, 3}\n"
     ]
    }
   ],
   "source": [
    "# Merge multiple sets into one\n",
    "merged_set = set1 | set2 | set4\n",
    "print(merged_set)"
   ]
  },
  {
   "cell_type": "code",
   "execution_count": null,
   "id": "362b6dcd",
   "metadata": {},
   "outputs": [],
   "source": []
  }
 ],
 "metadata": {
  "kernelspec": {
   "display_name": "Python 3 (ipykernel)",
   "language": "python",
   "name": "python3"
  },
  "language_info": {
   "codemirror_mode": {
    "name": "ipython",
    "version": 3
   },
   "file_extension": ".py",
   "mimetype": "text/x-python",
   "name": "python",
   "nbconvert_exporter": "python",
   "pygments_lexer": "ipython3",
   "version": "3.10.9"
  }
 },
 "nbformat": 4,
 "nbformat_minor": 5
}
