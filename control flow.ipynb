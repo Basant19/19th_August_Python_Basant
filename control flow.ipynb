{
 "cells": [
  {
   "cell_type": "markdown",
   "id": "bc2989ad",
   "metadata": {},
   "source": [
    "Basic if else satatements"
   ]
  },
  {
   "cell_type": "code",
   "execution_count": 5,
   "id": "b519c106",
   "metadata": {},
   "outputs": [
    {
     "name": "stdout",
     "output_type": "stream",
     "text": [
      "Enter a number  0\n",
      "0 :is neither positive or negative  \n"
     ]
    }
   ],
   "source": [
    "\"\"\"\n",
    "Write a Python program to check if a given number is positive or negative.\n",
    "\n",
    "\"\"\"\n",
    "\n",
    "num=int(input(\"Enter a number  \"))\n",
    "\n",
    "if num<0:\n",
    "    print (num,\":is a Negative Number\")\n",
    "\n",
    "elif num>0:\n",
    "    print(num,\":is a positive number\")\n",
    "    \n",
    "else :\n",
    "    print (num,\":is neither positive or negative  \")"
   ]
  },
  {
   "cell_type": "code",
   "execution_count": 2,
   "id": "d52689b7",
   "metadata": {},
   "outputs": [
    {
     "name": "stdout",
     "output_type": "stream",
     "text": [
      " Enter a age:45\n",
      "Age 45  is eligible to vote \n"
     ]
    }
   ],
   "source": [
    "\"\"\"\n",
    "Create a program that determines if a person is eligible to vote based on their age\n",
    "\"\"\"\n",
    "\n",
    "num=int(input(\" Enter a age:\"))\n",
    "\n",
    "if num>=18:\n",
    "    print(\"Age\",num,\" is eligible to vote \")\n",
    "else:\n",
    "    print(\"Age\",num,\"is not  eligible to vote \")\n"
   ]
  },
  {
   "cell_type": "code",
   "execution_count": null,
   "id": "a201aaaf",
   "metadata": {},
   "outputs": [],
   "source": [
    "\"\"\"\n",
    "Develop a program to find the maximum of two numbers using if-else statements.\n",
    "\n",
    "\"\"\"\n",
    "\n",
    "firstnum=int(input (\" Enter first number :\"))\n",
    "secondnum=int(input(\" Enter second number \"))\n",
    "\n",
    "\n",
    "if a>b:\n",
    "    print (a,\":is bigger than:\",)\n",
    "\n"
   ]
  },
  {
   "cell_type": "code",
   "execution_count": 1,
   "id": "8e941186",
   "metadata": {},
   "outputs": [
    {
     "name": "stdout",
     "output_type": "stream",
     "text": [
      " Enter a Year:2020\n",
      "2020 :is a leap year \n"
     ]
    }
   ],
   "source": [
    "\"\"\"\n",
    "Write a Python script to classify a given year as a leap year or not\n",
    "\"\"\"\n",
    "year=int(input(\" Enter a Year:\"))\n",
    "\n",
    "if year%400==0 or year%4==0:\n",
    "    print (year,\":is a leap year \")\n",
    "else :\n",
    "    print (year,\":is not a leap year \")\n"
   ]
  },
  {
   "cell_type": "code",
   "execution_count": 8,
   "id": "ea900328",
   "metadata": {},
   "outputs": [
    {
     "name": "stdout",
     "output_type": "stream",
     "text": [
      " Enter a character A\n",
      "A is vowel \n"
     ]
    }
   ],
   "source": [
    "\"\"\"\n",
    "Create a program that checks whether a character is a vowel or a consonant\n",
    "\"\"\"\n",
    "\n",
    "char= input (\" Enter a character \")\n",
    "check=char.lower()\n",
    "\n",
    "if check=='a' or check=='e' or check=='i' or  check=='o'  or check=='u':\n",
    "    print (char,\"is vowel \")\n",
    "else:\n",
    "    print (char,\"is consonant\")"
   ]
  },
  {
   "cell_type": "code",
   "execution_count": 10,
   "id": "e0ab58f9",
   "metadata": {},
   "outputs": [
    {
     "name": "stdout",
     "output_type": "stream",
     "text": [
      "Enter a number 45\n",
      "45 is odd \n"
     ]
    }
   ],
   "source": [
    "\"\"\"\n",
    "Implement a program to determine whether a given number is even or odd\n",
    "\"\"\"\n",
    "num=int (input(\"Enter a number \"))\n",
    "\n",
    "if num%2==0:\n",
    "    print (num,\"is even\")\n",
    "else :\n",
    "    print (num,\"is odd \")"
   ]
  },
  {
   "cell_type": "code",
   "execution_count": 6,
   "id": "e80ff890",
   "metadata": {},
   "outputs": [
    {
     "name": "stdout",
     "output_type": "stream",
     "text": [
      " Enter a number :45\n",
      "45  : absolute value is : 45\n"
     ]
    }
   ],
   "source": [
    "\"\"\"\n",
    " Write a Python function to calculate the absolute value of a number without using the `abs()` function.\n",
    "\n",
    "\"\"\"\n",
    "num=int(input (\" Enter a number :\"))\n",
    "\n",
    "if num <0:\n",
    "    print (num,\" : absolute value is :\",-(num))\n",
    "else :\n",
    "     print (num,\" : absolute value is :\",num)\n"
   ]
  },
  {
   "cell_type": "code",
   "execution_count": 7,
   "id": "56216bfe",
   "metadata": {},
   "outputs": [
    {
     "name": "stdout",
     "output_type": "stream",
     "text": [
      " Enter first number :45\n",
      " Enter second number :12\n",
      " Enter third number :10\n",
      "45 :is greatest \n"
     ]
    }
   ],
   "source": [
    "\"\"\"\n",
    "Develop a program that determines the largest of three given numbers using if-else statements\n",
    "\"\"\"\n",
    "\n",
    "num1=int (input (\" Enter first number :\"))\n",
    "num2=int (input (\" Enter second number :\"))\n",
    "num3=int (input (\" Enter third number :\"))\n",
    "\n",
    "if num1>num2 and num1>num3:\n",
    "    print (num1,\":is greatest \")\n",
    "elif num2>num1 and num2>num3:\n",
    "     print (num2,\":is greatest \")\n",
    "elif num3>num1 and num23num2:\n",
    "    print (num3,\":is greatest \")\n",
    "else:\n",
    "    print(\"All are equal \")"
   ]
  },
  {
   "cell_type": "code",
   "execution_count": 9,
   "id": "e49efa48",
   "metadata": {},
   "outputs": [
    {
     "name": "stdout",
     "output_type": "stream",
     "text": [
      ":Enter a string to find Plaindrome :bat\n",
      "Reverse word : tab\n"
     ]
    }
   ],
   "source": [
    "\"\"\"Create a program that checks if a given string is a palindrome.\n",
    "\"\"\"\n",
    "word=input(\":Enter a string to find Plaindrome :\")\n",
    "\n",
    "revword=word[::-1]\n",
    "\n",
    "\n",
    "print (\"Reverse word :\",revword)"
   ]
  },
  {
   "cell_type": "code",
   "execution_count": 28,
   "id": "8f880236",
   "metadata": {},
   "outputs": [
    {
     "name": "stdout",
     "output_type": "stream",
     "text": [
      "Enter your score : 0\n",
      "You have got C grade\n"
     ]
    }
   ],
   "source": [
    "\"\"\"\n",
    "Write a Python program to calculate the grade based on a student's score.\n",
    "\"\"\"\n",
    "score=int (input (\"Enter your score : \"))\n",
    "if score>=0:\n",
    "    \n",
    "    if score >= 80:\n",
    "        print (\"You have got A grade  \")\n",
    "    if score >=50 and  score <= 79:\n",
    "        print (\"You have got B grade\")\n",
    "    if score >=0 and score<=49:\n",
    "        print (\"You have got C grade\")\n",
    "else :\n",
    "    print (\" Invalid score \")\n",
    "    "
   ]
  },
  {
   "cell_type": "markdown",
   "id": "081687da",
   "metadata": {},
   "source": [
    "# Nested if else statements "
   ]
  },
  {
   "cell_type": "code",
   "execution_count": 10,
   "id": "2ca01cec",
   "metadata": {},
   "outputs": [
    {
     "name": "stdout",
     "output_type": "stream",
     "text": [
      "Enter first number: 52\n",
      "Enter second number: 45\n",
      "Enter third number: 45\n",
      "52 is the greatest\n"
     ]
    }
   ],
   "source": [
    "\"\"\"Write a program to find the largest among three numbers using nested if-else statements\n",
    "\"\"\"\n",
    "\n",
    "num1 = int(input(\"Enter first number: \"))\n",
    "num2 = int(input(\"Enter second number: \"))\n",
    "num3 = int(input(\"Enter third number: \"))\n",
    "\n",
    "if num1 == num2 == num3:\n",
    "    print(\"All three numbers are equal\")\n",
    "else:\n",
    "    if num1 >= num2 and num1 >= num3:\n",
    "        print(num1, \"is the greatest\")\n",
    "    elif num2 >= num1 and num2 >= num3:\n",
    "        print(num2, \"is the greatest\")\n",
    "    else:\n",
    "        print(num3, \"is the greatest\")\n",
    "\n",
    "    \n",
    "      "
   ]
  },
  {
   "cell_type": "code",
   "execution_count": 17,
   "id": "ac7d124d",
   "metadata": {},
   "outputs": [
    {
     "name": "stdout",
     "output_type": "stream",
     "text": [
      " Enter first side 45\n",
      " Enter second side45\n",
      " Enter third side32\n",
      "Isoceles triangle \n"
     ]
    }
   ],
   "source": [
    "\"\"\" Implement a program to determine if a triangle is equilateral, isosceles, or scalene.\n",
    "\"\"\"\n",
    "side1=int (input (\" Enter first side \"))\n",
    "side2=int (input (\" Enter second side\"))\n",
    "side3=int (input (\" Enter third side\"))\n",
    "\n",
    "\n",
    "if side1!=side2 and side2!=side3:\n",
    "    print (\"Scalene Triangle\")\n",
    "if side1==side2 and side2==side3:\n",
    "    print (\"Equilateral triangle\")\n",
    "    \n",
    "if side1==side2  :\n",
    "    if side1!=side3  :\n",
    "        print (\"Isoceles triangle \")\n",
    "    \n",
    "if side2==side3  :\n",
    "    if side2!=side1  :\n",
    "        print (\"Isoceles triangle \")\n",
    "        \n",
    "if side3==side1  :\n",
    "    if side3!=side2  :\n",
    "        print (\"Isoceles triangle \")\n",
    "                \n"
   ]
  },
  {
   "cell_type": "code",
   "execution_count": 5,
   "id": "f458d432",
   "metadata": {},
   "outputs": [
    {
     "name": "stdout",
     "output_type": "stream",
     "text": [
      ": Enter a year2004\n",
      "2004  :is a leap year but not century year \n"
     ]
    }
   ],
   "source": [
    "\"\"\"Develop a program that checks if a year is a leap year and also if it is a century year.\n",
    "\"\"\"\n",
    "year=int (input (\" :Enter a year\"))\n",
    "if year%4==0 or year%400==0:\n",
    "    if year%100==0:\n",
    "        print (year,\" :is a leap year and century year\")\n",
    "    else:\n",
    "        print (year, \" :is a leap year but not century year \")\n",
    "    \n",
    "else :\n",
    "    print (year,\" :is not a leap year\")\n"
   ]
  },
  {
   "cell_type": "code",
   "execution_count": 19,
   "id": "68a7634e",
   "metadata": {},
   "outputs": [
    {
     "name": "stdout",
     "output_type": "stream",
     "text": [
      "Enter a number:0\n",
      "0 : is Zero\n"
     ]
    }
   ],
   "source": [
    "\"\"\"Write a Python script to determine if a number is positive, negative, or zero.\n",
    "\"\"\"\n",
    "num=int(input(\"Enter a number:\"))\n",
    "\n",
    "if num!=0:\n",
    "    if num>0:\n",
    "        print (num,\": is positive number \")\n",
    "    else :\n",
    "        print (num,\": is negative number \")\n",
    "else:\n",
    "    print (num,\": is Zero\")\n",
    "\n",
    "\n"
   ]
  },
  {
   "cell_type": "code",
   "execution_count": 10,
   "id": "36d96197",
   "metadata": {},
   "outputs": [
    {
     "name": "stdout",
     "output_type": "stream",
     "text": [
      "Enter a age15\n",
      "15 :Person is a teenager\n"
     ]
    }
   ],
   "source": [
    "\"\"\"Create a program to check if a person is a teenager (between 13 and 19 years old).\n",
    "\"\"\"\n",
    "age=int(input(\"Enter a age\"))\n",
    "if age>13 and age<19:\n",
    "    print (age,\":Person is a teenager\")\n",
    "else :\n",
    "    print(age,\":Person is not a teenager \")"
   ]
  },
  {
   "cell_type": "code",
   "execution_count": 58,
   "id": "f40d8001",
   "metadata": {},
   "outputs": [
    {
     "name": "stdout",
     "output_type": "stream",
     "text": [
      "Enter a angle:90\n",
      "Enter a angle:45\n",
      "Enter a angle:45\n",
      "90 :Right angle\n"
     ]
    }
   ],
   "source": [
    "\"\"\"Develop a program that determines the type of angle based on its measure (acute, obtuse, or right)\n",
    "\"\"\"\n",
    "angel1=int(input(\"Enter a angle:\"))\n",
    "angel2=int(input(\"Enter a angle:\"))\n",
    "angel3=int(input(\"Enter a angle:\"))\n",
    "sum=angel1+angel2+angel3\n",
    "\n",
    "if sum==180:    \n",
    "    if angel1 >90 or angel2 > 90 or angel3>90:\n",
    "        \n",
    "        print (angle,\":obtuse Angle\")\n",
    "        \n",
    "    if  angel1<90 and angel2<90 and angel3 <90: \n",
    "        \n",
    "        print(angle,\":Acute Angle \")\n",
    "        \n",
    "    if angel1==90 or angel2==90 or angel3==90:\n",
    "        \n",
    "        print(angle,\":Right angle\")\n",
    "        \n",
    "else:\n",
    "    print (\"Triangle will not performed  \")\n",
    "    \n"
   ]
  },
  {
   "cell_type": "code",
   "execution_count": 34,
   "id": "413aeace",
   "metadata": {},
   "outputs": [
    {
     "name": "stdout",
     "output_type": "stream",
     "text": [
      "Enter coefficient of x^2: 2\n",
      "Enter coefficient of x: 2\n",
      "Enter  constant : 1\n",
      " first Roots is  : -1.0\n",
      " second Roots is   : 0.0\n"
     ]
    }
   ],
   "source": [
    "\"\"\"Write a Python program to calculate the roots of a quadratic equation\n",
    "\"\"\"\n",
    "import math  \n",
    "a = float(input('Enter coefficient of x^2: '))  \n",
    "b = float(input('Enter coefficient of x: '))  \n",
    "c = float(input('Enter  constant : '))  \n",
    "  \n",
    "d = (b**2) - (4*a*c)  \n",
    "sqrt=math.sqrt(abs(d))\n",
    "   \n",
    "sol1 = (-b-sqrt)/(2*a) \n",
    "sol2 = (-b+sqrt)/(2*a)\n",
    "\n",
    "print (\" first Roots is  :\",sol1)\n",
    "print (\" second Roots is   :\",sol2)\n"
   ]
  },
  {
   "cell_type": "code",
   "execution_count": 38,
   "id": "f9fa7348",
   "metadata": {},
   "outputs": [
    {
     "name": "stdout",
     "output_type": "stream",
     "text": [
      "Enter a day:4\n",
      "4 :is Thrusday\n"
     ]
    }
   ],
   "source": [
    "\"\"\"\n",
    " Implement a program to determine the day of the week based on a user-provided number (1 for Monday, 2 \n",
    "for Tuesday, etc.\n",
    "\"\"\"\n",
    "day=int(input(\"Enter a day:\"))\n",
    "if day>0 and day <8:\n",
    "    if day==1:\n",
    "        print (day,\":is Monday\")\n",
    "    if day==2:\n",
    "        print (day,\":is Tuesday\")\n",
    "    if day==3:\n",
    "        print (day,\":is Wednesday\")\n",
    "    if day==4:\n",
    "        print (day,\":is Thrusday\")\n",
    "    if day==5:\n",
    "        print (day,\":is Friday\")\n",
    "    if day==6:\n",
    "        print (day,\":is Saturday\")\n",
    "    if day ==7:\n",
    "        print (day,\":is Sunday\")\n",
    "else:\n",
    "    print (\"Enter a valid day\")"
   ]
  },
  {
   "cell_type": "code",
   "execution_count": 40,
   "id": "bb259439",
   "metadata": {},
   "outputs": [
    {
     "name": "stdout",
     "output_type": "stream",
     "text": [
      "Enter a year2222\n",
      "2222 :is not  a leap year\n"
     ]
    }
   ],
   "source": [
    "\"\"\"\n",
    "Create a program that determines if a year is a leap year and also if it is evenly divisible by 400\n",
    "\"\"\"\n",
    "year=int(input(\"Enter a year\"))\n",
    "if year%4==0 :\n",
    "    if year%400:\n",
    "        print (year,\":is a leap year and  divisible by 400\")\n",
    "    else :\n",
    "        print (year,\":is a leap year but not divisible by 400\")\n",
    "else:\n",
    "    print (year,\":is not  a leap year\")\n"
   ]
  },
  {
   "cell_type": "code",
   "execution_count": 49,
   "id": "93a0177e",
   "metadata": {},
   "outputs": [
    {
     "name": "stdout",
     "output_type": "stream",
     "text": [
      " Enter a number :23\n",
      "23 :is  a prime number \n"
     ]
    }
   ],
   "source": [
    "\"\"\"Develop a program that checks if a given number is prime or not using nested if-else statements.\n",
    "\"\"\"\n",
    "\n",
    "num=int(input (\" Enter a number :\"))\n",
    "check=False\n",
    "\n",
    "if num>1:\n",
    "    for i in range (2,num):\n",
    "        if num%i==0:\n",
    "            check=True \n",
    "    if check==False :\n",
    "        print (num,\":is a prime number \")\n",
    "    else :\n",
    "        print(num,\": is not  a prime number\")\n",
    "else :\n",
    "    print (num,\"is not a prime number\")\n"
   ]
  },
  {
   "cell_type": "markdown",
   "id": "13081605",
   "metadata": {},
   "source": [
    "# Elif Statements"
   ]
  },
  {
   "cell_type": "code",
   "execution_count": 56,
   "id": "ca5b425a",
   "metadata": {},
   "outputs": [
    {
     "name": "stdout",
     "output_type": "stream",
     "text": [
      " Enter a score -45\n",
      "Invalid score \n"
     ]
    }
   ],
   "source": [
    "\"\"\"Write a Python program to assign grades based on different ranges of scores using elif statements\n",
    "\"\"\"\n",
    "scores=int (input (\" Enter a score \"))\n",
    "\n",
    "if scores>=80:\n",
    "    print (\" You got A grade\")\n",
    "elif scores>=50 and scores<=79:\n",
    "    print (\"You got B grade\")\n",
    "elif scores>=0 and scores<=49:\n",
    "    print(\"You got C grade \")\n",
    "else:\n",
    "    print (\"Invalid score \")\n"
   ]
  },
  {
   "cell_type": "code",
   "execution_count": 63,
   "id": "bb796c51",
   "metadata": {},
   "outputs": [
    {
     "name": "stdout",
     "output_type": "stream",
     "text": [
      "Enter first angle 696565\n",
      "Enter second angle 6565632\n",
      "Enter third angle6666\n",
      "Triangle will not performed  \n"
     ]
    }
   ],
   "source": [
    "\"\"\"Implement a program to determine the type of a triangle based on its angles\n",
    "\"\"\"\n",
    "angle1=int(input(\"Enter first angle \"))\n",
    "angle2=int(input(\"Enter second angle \"))\n",
    "angle3=int(input(\"Enter third angle\")) \n",
    "\n",
    "sum=angle1+angle2+angle3\n",
    "\n",
    "if sum==180:    \n",
    "    if angle1 >90 or angle2 > 90 or angle3>90:\n",
    "        \n",
    "        print (\"obtuse triangle\")\n",
    "        \n",
    "    elif  angle1<90 and angle2<90 and angle3 <90: \n",
    "        \n",
    "        print(\"Acute triangle \")\n",
    "        \n",
    "    elif angle1==90 or angle2==90 or angle3==90:\n",
    "        \n",
    "        print(angle,\"Right triangle\")\n",
    "        \n",
    "else:\n",
    "    print (\"Triangle will not performed  \")\n",
    "\n"
   ]
  },
  {
   "cell_type": "code",
   "execution_count": 66,
   "id": "8e80b8bc",
   "metadata": {},
   "outputs": [
    {
     "name": "stdout",
     "output_type": "stream",
     "text": [
      "Enter your height:7\n",
      "Enter your weight:50\n",
      "7.142857142857143 :Underweight \n"
     ]
    }
   ],
   "source": [
    "\n",
    "\"\"\"Develop a program to categorize a given person's BMI into underweight, normal, overweight, or obese using \n",
    "elif statements.\n",
    "\"\"\"\n",
    "\n",
    "\"\"\"\n",
    "BMI Categories:\n",
    "Underweight = <18.5\n",
    "Normal weight = 18.5–24.9\n",
    "Overweight = 25–29.9\n",
    "Obesity = BMI of 30 or greater\n",
    "\n",
    "\"\"\"\n",
    "height=float(input(\"Enter your height:\"))\n",
    "weight=float(input(\"Enter your weight:\"))\n",
    "\n",
    "\n",
    "BMI=weight/height \n",
    "\n",
    "if BMI>=25 and BMI<=29.9:\n",
    "    print(,BMI,\":Overweight\")\n",
    "elif BMI>18.5 and BMI<24.9:\n",
    "    print(BMI,\":Normal weight \")\n",
    "elif BMI<=18.5:\n",
    "    print(BMI,\":Underweight \")\n",
    "else :\n",
    "    print(BMI,\":Obesity \")"
   ]
  },
  {
   "cell_type": "code",
   "execution_count": 68,
   "id": "613c65f6",
   "metadata": {},
   "outputs": [
    {
     "name": "stdout",
     "output_type": "stream",
     "text": [
      "Enter a number 0\n",
      "equal to zero \n"
     ]
    }
   ],
   "source": [
    "\"\"\"\n",
    "Create a program that determines whether a given number is positive, negative, or zero using elif \n",
    "statements.\n",
    "\n",
    "\"\"\"\n",
    "num=int(input(\"Enter a number \"))\n",
    "if num>0:\n",
    "    print (\"Positive number\")\n",
    "elif num<0:\n",
    "    print (\"Negative number\")\n",
    "else:\n",
    "    print (\"equal to zero \")\n"
   ]
  },
  {
   "cell_type": "code",
   "execution_count": 71,
   "id": "396317f2",
   "metadata": {},
   "outputs": [
    {
     "name": "stdout",
     "output_type": "stream",
     "text": [
      "Enter a character:\\\n",
      "\\ is special character\n"
     ]
    }
   ],
   "source": [
    "\"\"\"Write a Python script to determine the type of a character (uppercase, lowercase, or special) using elif \n",
    "statements.\n",
    "\"\"\"\n",
    "char = input(\"Enter a character:\")\n",
    "if char.isupper():\n",
    "    print(char,\":character is uppercase\")\n",
    "elif char.islower():\n",
    "    print(char,\":character is lowercase\")\n",
    "else :\n",
    "    print (char,\":is special character\")"
   ]
  },
  {
   "cell_type": "code",
   "execution_count": 8,
   "id": "416b787e",
   "metadata": {},
   "outputs": [
    {
     "name": "stdout",
     "output_type": "stream",
     "text": [
      "Enter purchase amount:5000\n",
      "Original price : 5000\n",
      "after applying 10% discount   4500.0\n"
     ]
    }
   ],
   "source": [
    "\"\"\"Implement a program to calculate the discounted price based on different purchase amounts using elif \n",
    "statements\n",
    "\"\"\"\n",
    "op=int(input(\"Enter purchase amount:\"))\n",
    "if op >= 5000:\n",
    "    dis=10/100*op\n",
    "\n",
    "    rp= op - dis\n",
    "    print(\"Original price :\",op)\n",
    "    print(\"after applying 10% discount  \",rp)\n",
    "elif op>0 and op<5000:\n",
    "    dis=5/100*op\n",
    "    rp= op - dis\n",
    "    print(\"Original price :\",op)\n",
    "    print(\"after applying 5% discount\",rp)\n",
    "\n",
    "else:\n",
    "    print(\"Enter valid amount :\",op)\n"
   ]
  },
  {
   "cell_type": "code",
   "execution_count": 90,
   "id": "b2aa14a0",
   "metadata": {},
   "outputs": [
    {
     "name": "stdout",
     "output_type": "stream",
     "text": [
      "Enter your unit:150\n",
      "Total charge is : 75.0\n"
     ]
    }
   ],
   "source": [
    "\"\"\"Develop a program to calculate the electricity bill based on different consumption slabs using elif \n",
    "statements\n",
    "\"\"\"\n",
    "\n",
    "unit=(float(input(\"Enter your unit:\")))\n",
    "charge=0\n",
    "\n",
    "if unit >=0 and  unit<=300:\n",
    "    charge=unit*0.5\n",
    "elif unit >=301 and unit<=700:\n",
    "    check=(unit-300)*0.75\n",
    "    charge=100+check\n",
    "elif unit >=701:\n",
    "    check=(unit-700)*0.9\n",
    "    charge=200+check\n",
    "else:\n",
    "    print(\"Enter valid unit\")\n",
    "    \n",
    "print(\"Total charge is :\",charge)    "
   ]
  },
  {
   "cell_type": "code",
   "execution_count": 101,
   "id": "1a7f29c5",
   "metadata": {},
   "outputs": [
    {
     "name": "stdout",
     "output_type": "stream",
     "text": [
      "Enter the side : 90\n",
      "Enter the side  : 90\n",
      "Enter the side : 90\n",
      "Enter the side : 90\n",
      "Enter the angle : 90\n",
      "Enter the angle : 90\n",
      "Enter the angle : 90\n",
      "Enter the angle : 90\n",
      "It's a square.\n"
     ]
    }
   ],
   "source": [
    "\"\"\"\n",
    "Create a program to determine the type of quadrilateral based on its angles and sides using elif \n",
    "statements\n",
    "\"\"\"\n",
    "\n",
    "\n",
    "s1 = float(input(\"Enter the side : \"))\n",
    "s2 = float(input(\"Enter the side  : \"))\n",
    "s3 = float(input(\"Enter the side : \"))\n",
    "s4 = float(input(\"Enter the side : \"))\n",
    "\n",
    "angle1 = float(input(\"Enter the angle : \"))\n",
    "angle2 = float(input(\"Enter the angle : \"))\n",
    "angle3 = float(input(\"Enter the angle : \"))\n",
    "angle4 = float(input(\"Enter the angle : \"))\n",
    "\n",
    "\n",
    "if s1 + s2 + s3 + s4 != 360.0 :\n",
    "    if angle1 + angle2 + angle3 + angle4 != 360.0 :\n",
    "        \n",
    "        print(\"These values do not represent a valid quadrilateral.\")\n",
    "else:\n",
    "    \n",
    "    if s1 == s2 == s3 == s4:\n",
    "        if angle1 == angle2 == angle3 == angle4 == 90:\n",
    "            print(\"It's a square.\")\n",
    "        else:\n",
    "            print(\"It's a rhombus.\")\n",
    "    elif angle1 == angle2 == angle3 == angle4 == 90:\n",
    "        print(\"It's a rectangle.\")\n",
    "    elif s1 == s3 and s2 == s4 and angle1 != angle3 and angle2 != angle4:\n",
    "        print(\"It's a parallelogram.\")\n",
    "    else:\n",
    "        print(\"It's a general quadrilateral.\")\n"
   ]
  },
  {
   "cell_type": "code",
   "execution_count": 7,
   "id": "eb1fc96e",
   "metadata": {},
   "outputs": [
    {
     "name": "stdout",
     "output_type": "stream",
     "text": [
      "enter a month a name:JANUARY\n",
      "Winter Season\n"
     ]
    }
   ],
   "source": [
    "\"\"\"Write a Python script to determine the season based on a user-provided month using elif statements\n",
    "\"\"\"\n",
    "month=input(\"enter a month a name:\")\n",
    "check=month.lower()\n",
    "if check==\"november\" or check==\"december\" or check==\"january\" or check=='febuary':\n",
    "    \n",
    "    print (\"Winter Season\")\n",
    "elif check==\"march\"  or check=='april' or check=='may':\n",
    "    \n",
    "    print(\" Spring Season\")\n",
    "elif check==\"june\" or check ==\"july\" or check==\"august\":\n",
    "    print(\"Summer Season\")\n",
    "elif check==\"september\" or check==\"october\":\n",
    "    print(\"Rainy Season\")\n",
    "else :\n",
    "    print (\"Enter valid month\")"
   ]
  },
  {
   "cell_type": "code",
   "execution_count": 12,
   "id": "4ea4b30d",
   "metadata": {},
   "outputs": [
    {
     "name": "stdout",
     "output_type": "stream",
     "text": [
      "Enter a year: 2020\n",
      " Enter a month2\n",
      "2020 Year is leap\n",
      " Year is leap so febuary has 29 days \n"
     ]
    }
   ],
   "source": [
    "\"\"\"\n",
    "Implement a program to determine the type of a year (leap or common) and month (30 or 31 days) using \n",
    "elif statements\n",
    "\"\"\"\n",
    "\n",
    "year=int(input(\"Enter a year: \"))\n",
    "month=int(input(\" Enter a month:\"))\n",
    "\n",
    "leapcheck=False\n",
    "\n",
    "if year%4==0 or year%400==0:\n",
    "    leapcheck=True\n",
    "    print(year,\"Year is leap\")\n",
    "else:\n",
    "    print (year,\"Common Year \")\n",
    "    \n",
    "if month== 1 or month== 3 or month== 5 or month== 7 or month== 9 or month== 10 or month== 12 :\n",
    "    print (\"Month has 31 days\")\n",
    "elif month==2:\n",
    "    if leapcheck:\n",
    "        print(\" Year is leap so febuary has 29 days \")\n",
    "    else:\n",
    "        print(\"Year is not leap so febuary has 28 days \")\n",
    "elif month==4 or month==6 or month==8 or month==11:\n",
    "    print(\" Month has 30 days \")\n",
    "else :\n",
    "    print(\"Invalid month\")"
   ]
  },
  {
   "cell_type": "markdown",
   "id": "772547da",
   "metadata": {},
   "source": [
    "# Basic level"
   ]
  },
  {
   "cell_type": "code",
   "execution_count": 1,
   "id": "35c3ad05",
   "metadata": {},
   "outputs": [
    {
     "name": "stdout",
     "output_type": "stream",
     "text": [
      "Enter a number:-1\n",
      "-1 : is negatuve number \n"
     ]
    }
   ],
   "source": [
    "\"\"\"Write a Python program that checks if a given number is positive, negative, or zero\n",
    "\"\"\"\n",
    "\n",
    "num=int(input(\"Enter a number:\"))\n",
    "\n",
    "if num!=0:\n",
    "    if num>0:\n",
    "        print (num,\": is positive number \")\n",
    "    else :\n",
    "        print (num,\": is negative number \")\n",
    "else:\n",
    "    print (num,\": is Zero\")\n",
    "\n"
   ]
  },
  {
   "cell_type": "code",
   "execution_count": null,
   "id": "d4aa4775",
   "metadata": {},
   "outputs": [],
   "source": [
    "\"\"\"Create a program to determine if a person is eligible to vote based on their age.\n",
    "\"\"\"\n",
    "\n",
    "age=int(input(\"Enter a age :\"))\n",
    "\n",
    "if age >=18:\n",
    "    print (age,\"Is Eligible to vote \")\n",
    "else:\n",
    "    print (age,\"Is not Eligible to vote \")\n"
   ]
  },
  {
   "cell_type": "code",
   "execution_count": 2,
   "id": "1c5975d4",
   "metadata": {},
   "outputs": [
    {
     "name": "stdout",
     "output_type": "stream",
     "text": [
      " Enter first number: 45\n",
      " Enter a second number:10\n",
      "Maximum number is : 45\n"
     ]
    }
   ],
   "source": [
    "\"\"\"\n",
    "Write a program to find the maximum of two given numbers using conditional statements.\n",
    "\n",
    "\"\"\"\n",
    "num1=int(input(\" Enter first number: \"))\n",
    "num2=int(input(\" Enter a second number:\"))\n",
    "\n",
    "if num1>num2:\n",
    "    print (num1,\" is maximun number \")\n",
    "else:\n",
    "    print (num2,\" is minimum number \")\n"
   ]
  },
  {
   "cell_type": "code",
   "execution_count": 3,
   "id": "f37d09d3",
   "metadata": {},
   "outputs": [
    {
     "name": "stdout",
     "output_type": "stream",
     "text": [
      " Enter a score 56\n",
      "You got B grade\n"
     ]
    }
   ],
   "source": [
    "\"\"\"\n",
    "Develop a program that calculates the grade of a student based on their exam score\n",
    "\n",
    "\"\"\"\n",
    "\n",
    "scores=int (input (\" Enter a score \"))\n",
    "\n",
    "if scores>=80:\n",
    "    print (\" You got A grade\")\n",
    "elif scores>=50 and scores<=79:\n",
    "    print (\"You got B grade\")\n",
    "elif scores>=0 and scores<=49:\n",
    "    print(\"You got C grade \")\n",
    "else:\n",
    "    print (\"Invalid score \")\n"
   ]
  },
  {
   "cell_type": "code",
   "execution_count": null,
   "id": "47a23fe4",
   "metadata": {},
   "outputs": [],
   "source": [
    "\"\"\"Create a program that checks if a year is a leap year or not.\n",
    "\"\"\"\n",
    "year=int(input(\" Enter a Year:\"))\n",
    "\n",
    "if year%400==0 or year%4==0:\n",
    "    print (year,\":is a leap year \")\n",
    "else :\n",
    "    print (year,\":is not a leap year \")\n"
   ]
  },
  {
   "cell_type": "code",
   "execution_count": 5,
   "id": "ac3fb66d",
   "metadata": {},
   "outputs": [
    {
     "name": "stdout",
     "output_type": "stream",
     "text": [
      " Enter first side 10\n",
      " Enter second side12\n",
      " Enter third side10\n",
      "Scalene Triangle\n",
      "Isoceles triangle \n"
     ]
    }
   ],
   "source": [
    "\"\"\"Write a program to classify a triangle based on its sides' lengths.\n",
    "\"\"\"\n",
    "\n",
    "side1=int (input (\" Enter first side \"))\n",
    "side2=int (input (\" Enter second side\"))\n",
    "side3=int (input (\" Enter third side\"))\n",
    "\n",
    "\n",
    "if side1!=side2 and side2!=side3:\n",
    "    print (\"Scalene Triangle\")\n",
    "if side1==side2 and side2==side3:\n",
    "    print (\"Equilateral triangle\")\n",
    "    \n",
    "if side1==side2  :\n",
    "    if side1!=side3  :\n",
    "        print (\"Isoceles triangle \")\n",
    "    \n",
    "if side2==side3  :\n",
    "    if side2!=side1  :\n",
    "        print (\"Isoceles triangle \")\n",
    "        \n",
    "if side3==side1  :\n",
    "    if side3!=side2  :\n",
    "        print (\"Isoceles triangle \")\n",
    "                \n"
   ]
  },
  {
   "cell_type": "code",
   "execution_count": 9,
   "id": "823cb940",
   "metadata": {},
   "outputs": [
    {
     "name": "stdout",
     "output_type": "stream",
     "text": [
      " Enter first number :20\n",
      " Enter second number :21\n",
      " Enter third number :23\n",
      "21 : is greatest\n",
      "23 :is greatest\n"
     ]
    }
   ],
   "source": [
    "\"\"\"Build a program that determines the largest of three given numbers\n",
    "\"\"\"\n",
    "num1 = int(input(\"Enter first number: \"))\n",
    "num2 = int(input(\"Enter second number: \"))\n",
    "num3 = int(input(\"Enter third number: \"))\n",
    "\n",
    "if num1 == num2 == num3:\n",
    "    print(\"All three numbers are equal\")\n",
    "else:\n",
    "    if num1 >= num2 and num1 >= num3:\n",
    "        print(num1, \"is the greatest\")\n",
    "    elif num2 >= num1 and num2 >= num3:\n",
    "        print(num2, \"is the greatest\")\n",
    "    else:\n",
    "        print(num3, \"is the greatest\")\n"
   ]
  },
  {
   "cell_type": "code",
   "execution_count": 2,
   "id": "ccce48a5",
   "metadata": {},
   "outputs": [
    {
     "name": "stdout",
     "output_type": "stream",
     "text": [
      " Enter a character c\n",
      "c is consonant\n"
     ]
    }
   ],
   "source": [
    "\"\"\" Develop a program that checks whether a character is a vowel or a consonant\n",
    "\"\"\"\n",
    "\n",
    "char= input (\" Enter a character \")\n",
    "check=char.lower()\n",
    "\n",
    "if check=='a' or check=='e' or check=='i' or  check=='o'  or check=='u':\n",
    "    print (char,\"is vowel \")\n",
    "else:\n",
    "    print (char,\"is consonant\")\n",
    "\n"
   ]
  },
  {
   "cell_type": "code",
   "execution_count": 6,
   "id": "a8e07f4d",
   "metadata": {},
   "outputs": [
    {
     "name": "stdout",
     "output_type": "stream",
     "text": [
      "Enter purchase amount:5500\n",
      "Original price : 5500\n",
      "after applying 10% discount   4950.0\n"
     ]
    }
   ],
   "source": [
    "\"\"\"\n",
    "Create a program to calculate the total cost of a shopping cart based on discounts\n",
    "\n",
    "\"\"\"\n",
    "\n",
    "\n",
    "mp=int (input(\"Enter purchase amount:\"))\n",
    "if mp >= 3000:\n",
    "    dis=10/100*mp\n",
    "\n",
    "    rp= mp - dis\n",
    "    \n",
    "    print(\"Original price :\",mp)\n",
    "    print(\"after applying 10% discount  \",rp)\n",
    "elif mp>0 and mp<3000:\n",
    "    dis=5/100*mp\n",
    "    rp= mp - dis\n",
    "    \n",
    "    print(\"Original price :\",mp)\n",
    "    print(\"after applying 5% discount\",rp)\n",
    "\n",
    "else:\n",
    "    print(\"Enter valid amount :\",mp)\n"
   ]
  },
  {
   "cell_type": "code",
   "execution_count": 9,
   "id": "4e5a40df",
   "metadata": {},
   "outputs": [
    {
     "name": "stdout",
     "output_type": "stream",
     "text": [
      "Enter a number 54\n",
      "54 is even\n"
     ]
    }
   ],
   "source": [
    "\"\"\"\n",
    " Write a program that checks if a given number is even or odd.\n",
    "\n",
    "\"\"\"\n",
    "\n",
    "num=int (input(\"Enter a number \"))\n",
    "\n",
    "if num%2==0:\n",
    "    print (num,\"is even\")\n",
    "else :\n",
    "    print (num,\"is odd \")\n"
   ]
  },
  {
   "cell_type": "markdown",
   "id": "04f8b49f",
   "metadata": {},
   "source": [
    "# Intermediate Level"
   ]
  },
  {
   "cell_type": "code",
   "execution_count": 17,
   "id": "a4787100",
   "metadata": {},
   "outputs": [
    {
     "name": "stdout",
     "output_type": "stream",
     "text": [
      "Enter the coefficient of x^2: 1\n",
      "Enter the coefficient of x: 1\n",
      "Enter the constant term: 1\n",
      "The roots of equation : ax**2+b*x+c\n",
      "Root 1 = (-0.5+0.8660254037844386j)\n",
      "Root 2 = (-0.5-0.8660254037844386j)\n"
     ]
    }
   ],
   "source": [
    "\"\"\"\n",
    " Write a program that calculates the roots of a quadratic equation\n",
    " \n",
    "\"\"\"\n",
    "\n",
    "\n",
    "import cmath\n",
    "\n",
    "a = float(input(\"Enter the coefficient of x^2: \"))\n",
    "b = float(input(\"Enter the coefficient of x: \"))\n",
    "c = float(input(\"Enter the constant term: \"))\n",
    "\n",
    "\n",
    "d = b**2 - 4*a*c\n",
    "\n",
    "r1 = (-b + cmath.sqrt(d)) / (2*a)\n",
    "r2 = (-b - cmath.sqrt(d)) / (2*a)\n",
    "\n",
    "print(\"The roots of equation : ax**2+b*x+c\")\n",
    "print(\"Root 1 =\", r1)\n",
    "print(\"Root 2 =\", r2)\n"
   ]
  },
  {
   "cell_type": "code",
   "execution_count": 18,
   "id": "a86dfccf",
   "metadata": {},
   "outputs": [
    {
     "name": "stdout",
     "output_type": "stream",
     "text": [
      "Enter a day:4\n",
      "4 :is Thrusday\n"
     ]
    }
   ],
   "source": [
    "\"\"\"\n",
    "Create a program that determines the day of the week based on the day number (1-7)\n",
    "\"\"\"\n",
    "day=int(input(\"Enter a day:\"))\n",
    "if day>0 and day <8:\n",
    "    if day==1:\n",
    "        print (day,\":is Monday\")\n",
    "    if day==2:\n",
    "        print (day,\":is Tuesday\")\n",
    "    if day==3:\n",
    "        print (day,\":is Wednesday\")\n",
    "    if day==4:\n",
    "        print (day,\":is Thrusday\")\n",
    "    if day==5:\n",
    "        print (day,\":is Friday\")\n",
    "    if day==6:\n",
    "        print (day,\":is Saturday\")\n",
    "    if day ==7:\n",
    "        print (day,\":is Sunday\")\n",
    "else:\n",
    "    print (\"Enter a valid day\")\n"
   ]
  },
  {
   "cell_type": "code",
   "execution_count": 26,
   "id": "e0075c98",
   "metadata": {},
   "outputs": [
    {
     "name": "stdout",
     "output_type": "stream",
     "text": [
      " Enter a number :3\n",
      " Factorail of  3 is : 6\n"
     ]
    }
   ],
   "source": [
    "\"\"\"Develop a program that calculates the factorial of a given number using recursion\n",
    "\"\"\"\n",
    "def fact(n):\n",
    "    if n==0 or n==1:\n",
    "        return 1\n",
    "    else:        \n",
    "        return n*fact(n-1)\n",
    "    \n",
    "n=int(input(\" Enter a number :\"))\n",
    "\n",
    "f=fact(n)\n",
    "\n",
    "print (\" Factorail of \",n,\"is :\",f)\n"
   ]
  },
  {
   "cell_type": "code",
   "execution_count": null,
   "id": "5b570b2b",
   "metadata": {},
   "outputs": [],
   "source": [
    "\"\"\"Write a program to find the largest among three numbers without using the `max()` function.\n",
    "\"\"\"\n",
    "num1 = int(input(\"Enter first number: \"))\n",
    "num2 = int(input(\"Enter second number: \"))\n",
    "num3 = int(input(\"Enter third number: \"))\n",
    "\n",
    "if num1 == num2 == num3:\n",
    "    print(\"All three numbers are equal\")\n",
    "else:\n",
    "    if num1 >= num2 and num1 >= num3:\n",
    "        print(num1, \"is the greatest\")\n",
    "    elif num2 >= num1 and num2 >= num3:\n",
    "        print(num2, \"is the greatest\")\n",
    "    else:\n",
    "        print(num3, \"is the greatest\")\n"
   ]
  },
  {
   "cell_type": "code",
   "execution_count": null,
   "id": "6ff5c925",
   "metadata": {},
   "outputs": [],
   "source": [
    "\n",
    "\n",
    "    \n"
   ]
  },
  {
   "cell_type": "code",
   "execution_count": 13,
   "id": "4bf0e580",
   "metadata": {},
   "outputs": [
    {
     "name": "stdout",
     "output_type": "stream",
     "text": [
      "Enter your pin :0\n",
      "Wrong pin  Attempted Left: 2\n",
      "Enter your pin :1\n",
      "Wrong pin  Attempted Left: 1\n",
      "Enter your pin :1234\n",
      "Correct Pin \n",
      "Press 1:Cash Widthdraw \n",
      "Press 2:Cash Deposit \n",
      "Press 3:Balance Check \n",
      "Press 4:Exist \n",
      " Enter your choice :3\n",
      "Your Balance is : 1000\n",
      "Press 1:Cash Widthdraw \n",
      "Press 2:Cash Deposit \n",
      "Press 3:Balance Check \n",
      "Press 4:Exist \n",
      " Enter your choice :4\n",
      " Good Bye \n"
     ]
    }
   ],
   "source": [
    "\"\"\" Create a program that simulates a basic ATM transaction menu\n",
    "\"\"\"\n",
    "balance=1000\n",
    "pin=1234\n",
    "count=3\n",
    "\n",
    "for i in range (1,4):  \n",
    "        upin=int(input(\"Enter your pin :\"))\n",
    "        if upin!=pin:\n",
    "            count=count-1\n",
    "            print(\"Wrong pin  Attempted Left:\",count)\n",
    "        elif count==0:\n",
    "            print(\"No attempt left\")\n",
    "            break\n",
    "            \n",
    "        else:\n",
    "            print (\"Correct Pin \")\n",
    "            while True:\n",
    "                print (\"Press 1:Cash Widthdraw \")\n",
    "                print (\"Press 2:Cash Deposit \")\n",
    "                print (\"Press 3:Balance Check \")\n",
    "                print (\"Press 4:Exist \")\n",
    "                ch=int(input(\" Enter your choice :\"))\n",
    "                if ch==1:\n",
    "                    amount=int(input(\"Enter the amount:\"))\n",
    "                    if amount <= 10000:\n",
    "                        balance=balance-amount\n",
    "                        print (\" Transaction Successfull \")\n",
    "                        print (\" Your Balance is :\",balance)\n",
    "                    else:\n",
    "                        print (\" Amount excced \")\n",
    "                elif ch==2:\n",
    "                        amount=int(input(\"Enter the amount:\"))\n",
    "                        balance=balance+amount\n",
    "                        print(\" Your Cash deposited sucessfully \")\n",
    "                        print (\" Your Balance is :\",balance)\n",
    "                elif ch==3:\n",
    "                    print (\"Your Balance is :\",balance)\n",
    "                elif ch==4:\n",
    "                    print (\" Thank you for visiting  \")\n",
    "                    break\n",
    "                else: \n",
    "                    print(\" Invalid Choice \")\n",
    "                            "
   ]
  },
  {
   "cell_type": "code",
   "execution_count": 5,
   "id": "5414508a",
   "metadata": {},
   "outputs": [
    {
     "name": "stdout",
     "output_type": "stream",
     "text": [
      " Enter a word: bt\n",
      "bt : is not Palindrome number \n"
     ]
    }
   ],
   "source": [
    "\"\"\"Build a program that checks if a given string is a palindrome or not\n",
    "\"\"\"\n",
    "word=input(\" Enter a word: \")\n",
    "nword=word[::-1]  \n",
    "if nword==word:\n",
    "    print(word,\": is Palindrome number \")\n",
    "else:\n",
    "    print(word,\": is not Palindrome number \")"
   ]
  },
  {
   "cell_type": "code",
   "execution_count": 9,
   "id": "f1a04c22",
   "metadata": {},
   "outputs": [
    {
     "name": "stdout",
     "output_type": "stream",
     "text": [
      "Average list: 46.333333333333336\n"
     ]
    }
   ],
   "source": [
    "\"\"\"Write a program that calculates the average of a list of numbers, excluding the smallest and largest values\n",
    "\"\"\"\n",
    "l=[15,12,46,78,97]\n",
    "maxno=max(l)\n",
    "minno=min(l)\n",
    "\n",
    "l.remove(maxno)\n",
    "l.remove(minno)\n",
    "\n",
    "element=len(l)\n",
    "\n",
    "avg=sum(l)/element\n",
    "\n",
    "print(\"Average list:\",avg)"
   ]
  },
  {
   "cell_type": "code",
   "execution_count": 10,
   "id": "d427c5ce",
   "metadata": {},
   "outputs": [
    {
     "name": "stdout",
     "output_type": "stream",
     "text": [
      "Enter temperature in Farenheit :45\n",
      "Temperature in celsius: 7.222222222222222\n"
     ]
    }
   ],
   "source": [
    "\"\"\"Develop a program that converts a given temperature from Celsius to Fahrenheit.\n",
    "\"\"\"\n",
    "\n",
    "n=float(input(\"Enter temperature in Farenheit :\"))\n",
    "cel=((n-32)*(5/9))\n",
    "print(\"Temperature in celsius:\",cel)    "
   ]
  },
  {
   "cell_type": "code",
   "execution_count": 3,
   "id": "e5acf5a4",
   "metadata": {},
   "outputs": [
    {
     "name": "stdout",
     "output_type": "stream",
     "text": [
      "+\n",
      "-\n",
      "*\n",
      "/\n",
      "off\n",
      "Enter your operation :+\n",
      "Enter first number : 12\n",
      "Enter second number :13\n",
      "Sum of 12 & 13 is: 25\n",
      "+\n",
      "-\n",
      "*\n",
      "/\n",
      "off\n",
      "Enter your operation :*\n",
      "Enter first number : 46\n",
      "Enter second number :1\n",
      "Multiply of 46 & 1 is: 46\n",
      "+\n",
      "-\n",
      "*\n",
      "/\n",
      "off\n",
      "Enter your operation :off\n",
      " Exist \n"
     ]
    }
   ],
   "source": [
    "\"\"\"Create a program that simulates a basic calculator for addition, subtraction, multiplication, and division\n",
    "\"\"\"\n",
    "\n",
    "\n",
    "while True:\n",
    "    print(\"+\")\n",
    "    print(\"-\")\n",
    "    print(\"*\")\n",
    "    print(\"/\")\n",
    "    print(\"off\")\n",
    "\n",
    "    op=input(\"Enter your operation :\")\n",
    "    \n",
    "\n",
    "    if op==\"+\":\n",
    "        num1=int(input(\"Enter first number : \"))\n",
    "        num2=int(input(\"Enter second number :\"))\n",
    "        add=0\n",
    "        add=num1+num2\n",
    "        print (\"Sum of\",num1,\"&\",num2,\"is:\",add)\n",
    "    elif op==\"-\":\n",
    "        num1=int(input(\"Enter first number : \"))\n",
    "        num2=int(input(\"Enter second number :\"))\n",
    "        subtract=0\n",
    "        subtract=num1-num2\n",
    "        print (\"Multiply of\",num1,\"&\",num2,\"is:\",subtract)    \n",
    "    elif op==\"*\":\n",
    "        num1=int(input(\"Enter first number : \"))\n",
    "        num2=int(input(\"Enter second number :\"))\n",
    "        product=0\n",
    "        product=num1*num2\n",
    "        print (\"Multiply of\",num1,\"&\",num2,\"is:\",product)\n",
    "    elif op==\"//\":\n",
    "        num1=int(input(\"Enter first number : \"))\n",
    "        num2=int(input(\"Enter second number :\"))\n",
    "        divide=0\n",
    "        divide=num1/num2\n",
    "        print (\"Division of\",num1,\"&\",num2,\"is:\",divide)\n",
    "    elif op==\"off\":\n",
    "        print (\" Exist \")\n",
    "        break\n",
    "    else:\n",
    "        print (\" Invalid Choice \")\n",
    "    "
   ]
  },
  {
   "cell_type": "code",
   "execution_count": 4,
   "id": "5d8bfbae",
   "metadata": {},
   "outputs": [
    {
     "name": "stdout",
     "output_type": "stream",
     "text": [
      "Enter the coefficient of x^3 (a): 1\n",
      "Enter the coefficient of x^2 (b): 2\n",
      "Enter the coefficient of x (c): 3\n",
      "Enter the constant term (d): 1\n",
      "Real Root: (0.5244776264234393+0.5511601225863136j)\n",
      "Complex Root 1: (-1.0728908142577458+0.7559811560957318j)\n",
      "Complex Root 2: (-0.11825347883236004-1.3071412786820455j)\n"
     ]
    }
   ],
   "source": [
    "\"\"\"\n",
    "Write a program that determines the roots of a cubic equation using the Cardano formula.\n",
    "\n",
    "\"\"\"\n",
    "\n",
    "\n",
    "a = float(input(\"Enter the coefficient of x^3 (a): \"))\n",
    "b = float(input(\"Enter the coefficient of x^2 (b): \"))\n",
    "c = float(input(\"Enter the coefficient of x (c): \"))\n",
    "d = float(input(\"Enter the constant term (d): \"))\n",
    "\n",
    "\n",
    "p = c / a - (b**2) / (3 * a**2)\n",
    "q = (2 * b**3) / (27 * a**3) - (b * c) / (3 * a**2) + d / a\n",
    "\n",
    "discriminant = (q**2) / 4 + (p**3) / 27\n",
    "\n",
    "\n",
    "if discriminant > 0:\n",
    "    \n",
    "    root = (-q / 2 + discriminant**0.5)**(1/3) + (-q / 2 - discriminant**0.5)**(1/3)\n",
    "    real_root = root - b / (3 * a)\n",
    "    complex_root1 = complex(-0.5 * root, (3**0.5 / 2) * root)\n",
    "    complex_root2 = complex(-0.5 * root, -(3**0.5 / 2) * root)\n",
    "    print(\"Real Root:\", real_root)\n",
    "    print(\"Complex Root 1:\", complex_root1)\n",
    "    print(\"Complex Root 2:\", complex_root2)\n",
    "    \n",
    "elif discriminant == 0:\n",
    "    \n",
    "    root = (-q / 2)**(1/3)\n",
    "    real_root = 2 * root - b / (3 * a)\n",
    "    print(\"Real Root:\", real_root)\n",
    "    \n",
    "else:\n",
    "    \n",
    "    phi = ((-q / 2)**2 + (discriminant)**0.5)**(1/3)\n",
    "    root1 = phi + (-q / 2)**(1/3)\n",
    "    root2 = complex(-(phi + (-q / 2)**(1/3)) / 2, (phi - (-q / 2)**(1/3)) * (3**0.5) / 2)\n",
    "    root3 = complex(-(phi + (-q / 2)**(1/3)) / 2, -(phi - (-q / 2)**(1/3)) * (3**0.5) / 2)\n",
    "    print(\"Real Root 1:\", root1 - b / (3 * a))\n",
    "    print(\"Complex Root 2:\", root2)\n",
    "    print(\"Complex Root 3:\", root3)\n"
   ]
  },
  {
   "cell_type": "code",
   "execution_count": 1,
   "id": "056f46ee",
   "metadata": {},
   "outputs": [
    {
     "ename": "SyntaxError",
     "evalue": "unterminated string literal (detected at line 8) (1653603223.py, line 8)",
     "output_type": "error",
     "traceback": [
      "\u001b[1;36m  Cell \u001b[1;32mIn[1], line 8\u001b[1;36m\u001b[0m\n\u001b[1;33m    \"\"\"\"\u001b[0m\n\u001b[1;37m       ^\u001b[0m\n\u001b[1;31mSyntaxError\u001b[0m\u001b[1;31m:\u001b[0m unterminated string literal (detected at line 8)\n"
     ]
    }
   ],
   "source": []
  },
  {
   "cell_type": "code",
   "execution_count": 5,
   "id": "a4b8ece4",
   "metadata": {},
   "outputs": [
    {
     "name": "stdout",
     "output_type": "stream",
     "text": [
      " Enter your salary: 6000\n",
      "6000\n",
      "200.0\n"
     ]
    }
   ],
   "source": [
    "\"\"\"Create a program that calculates the income tax based on the user's income and tax brackets\n",
    "\"\"\"\n",
    "\n",
    "income = int(input(\"Enter your salary: \"))\n",
    "tax = 0\n",
    "\n",
    "if income <= 5000:\n",
    "    tax = income * 1 / 100\n",
    "elif income > 5000 and income <= 10000:\n",
    "    tax = 5000 * 1 / 100 + (income - 5000) * 15 / 100\n",
    "else:\n",
    "    tax = 5000 * 1 / 100 + 5000 * 15 / 100 + (income - 10000) * 25 / 100\n",
    "\n",
    "print(\"Income:\", income)\n",
    "print(\"Tax:\", tax)\n"
   ]
  },
  {
   "cell_type": "code",
   "execution_count": 1,
   "id": "8141c2eb",
   "metadata": {},
   "outputs": [
    {
     "name": "stdout",
     "output_type": "stream",
     "text": [
      "choice from rock, paper and scissors:rock\n",
      " You choice  rock\n",
      " Computer choice  paper\n",
      " Computer won  \n"
     ]
    }
   ],
   "source": [
    "\"\"\"Write a program that simulates a rock-paper-scissors game against the computer\n",
    "\"\"\"\n",
    "\n",
    "\n",
    "import random\n",
    "\n",
    "userinput=input(\"choice from rock, paper and scissors:\")\n",
    "userinput=userinput.lower()\n",
    "\n",
    "opt=[\"rock\",\"paper\",\"scissors\"]\n",
    "compinput=random.choice(opt)\n",
    "\n",
    "print ( \" You choice \",userinput)\n",
    "print (\" Computer choice \",compinput)\n",
    "\n",
    "if userinput==\"rock\" or userinput==\"paper\" or userinput==\"scissors\":\n",
    "    if userinput==\"rock\":\n",
    "        if compinput==\"paper\":\n",
    "            print(\" Computer won  \")\n",
    "        else:\n",
    "            print (\"  You won  \")\n",
    "            \n",
    "    elif userinput==\"paper\":\n",
    "        if compinput==\"scissors\":\n",
    "            print ( \" Computer won \" )\n",
    "        else :\n",
    "            print ( \" You won \")\n",
    "    \n",
    "    elif userinput==\"scissors\":\n",
    "        if compinput==\"rock\":\n",
    "            print ( \" Computer won \" )\n",
    "        else : \n",
    "            print ( \" You won \")\n",
    "            \n",
    "    elif  userinput==compinput:\n",
    "        print ( \" Both choice the same thing \" )\n",
    "else : \n",
    "        print (\" Invalid choice \")\n"
   ]
  },
  {
   "cell_type": "code",
   "execution_count": 1,
   "id": "cc71aea4",
   "metadata": {},
   "outputs": [
    {
     "name": "stdout",
     "output_type": "stream",
     "text": [
      "Enter password length: 4\n",
      "Choose what to include in the password:\n",
      "1. Include only Digits\n",
      "2. Include only Letters\n",
      "3. Include only Special characters\n",
      "4. Use Alphanumeric characters\n",
      "5. Exit\n",
      "Enter your choice: 1\n",
      "A randomly generated password is: 9370\n"
     ]
    }
   ],
   "source": [
    "\"\"\"Develop a program that generates a random password based on user preferences (length, complexity).\n",
    "\"\"\"\n",
    "\n",
    "\n",
    "import random\n",
    "\n",
    "lenpass = int(input(\"Enter password length: \"))\n",
    "\n",
    "print(\"Choose what to include in the password:\")\n",
    "print(\"1. Include only Digits\")\n",
    "print(\"2. Include only Letters\")\n",
    "print(\"3. Include only Special characters\")\n",
    "print(\"4. Use Alphanumeric characters\")\n",
    "print(\"5. Exit\")\n",
    "\n",
    "passgen = \"\"\n",
    "password = \"\"\n",
    "\n",
    "while True:\n",
    "    choice = int(input(\"Enter your choice: \"))\n",
    "    \n",
    "    if choice == 1:\n",
    "        passgen = \"1234567890\"\n",
    "        break\n",
    "    elif choice == 2:\n",
    "        passgen = \"abcdefghijklmnopqrstuvwxyzABCDEFGHIJKLMNOPQRSTUVWXYZ\"\n",
    "        break\n",
    "    elif choice == 3:\n",
    "        passgen = \"!@#$%^&*()_+[]{}|;:,.<>?~\"\n",
    "        break\n",
    "    elif choice == 4:\n",
    "        passgen = \"abcdefghijklmnopqrstuvwxyzABCDEFGHIJKLMNOPQRSTUVWXYZ1234567890!@#$%^&*()_+[]{}|;:,.<>?~\"\n",
    "        break\n",
    "    elif choice == 5:\n",
    "        break\n",
    "    else:\n",
    "        print(\"Invalid Choice\")\n",
    "\n",
    "if not passgen:\n",
    "    print(\"No character set selected. Exiting.\")\n",
    "else:\n",
    "    for i in range(lenpass):\n",
    "        password += random.choice(passgen)\n",
    "\n",
    "    print(\"A randomly generated password is:\", password)\n"
   ]
  },
  {
   "cell_type": "code",
   "execution_count": 4,
   "id": "51a5ebd2",
   "metadata": {},
   "outputs": [
    {
     "name": "stdout",
     "output_type": "stream",
     "text": [
      "Welcome to the Text Adventure Game!\n",
      "You are in an unknown city, and you have to find the path to find the diamond.\n",
      "You have three choices: \n",
      "enter left:\n",
      "enter right:\n",
      "enter front:\n",
      "Which path will you choose? (left/right/front): jh\n",
      "Invalid choice. Please enter 'left' or 'right'.\n",
      "Which path will you choose? (left/right/front): left\n",
      "You move left\n",
      "You found our friend\n",
      "You won the Game \n"
     ]
    }
   ],
   "source": [
    "\"\"\"\n",
    "Create a program that implements a simple text-based adventure game with branching scenarios.\n",
    "\n",
    "\"\"\"\n",
    "print(\"Welcome to the Text Adventure Game!\")\n",
    "print(\"You are in an unknown city, and you have to find the path to find the diamond.\")\n",
    "print(\"You have three choices: \")\n",
    "print(\"enter left:\")\n",
    "print(\"enter right:\")\n",
    "print(\"enter front:\")\n",
    "while True:\n",
    "    choice = input(\"Which path will you choose? (left/right/front): \").lower()\n",
    "\n",
    "    if choice == 'left':\n",
    "        print(\"You move left\")\n",
    "        print(\"You found our friend\")\n",
    "        print(\"You won the Game \")\n",
    "        break\n",
    "\n",
    "    elif choice == 'right':\n",
    "        print (\" found snake which bites you \")\n",
    "        print ( \" You lost the Game \")\n",
    "        break\n",
    "        \n",
    "    elif choice == 'front':\n",
    "        print ( \" found tiger which eats you \" )\n",
    "        print ( \" You lost the Game \")\n",
    "    else:\n",
    "        print(\"Invalid choice. Please enter 'left' or 'right'.\")\n"
   ]
  },
  {
   "cell_type": "code",
   "execution_count": 6,
   "id": "70bc8771",
   "metadata": {},
   "outputs": [
    {
     "name": "stdout",
     "output_type": "stream",
     "text": [
      "Enter an equation: x=x\n",
      "Infinite solutions\n"
     ]
    }
   ],
   "source": [
    "\"\"\"\n",
    "Build a program that solves a linear equation  for x, considering different cases.\n",
    "\n",
    "\"\"\"\n",
    "\n",
    "\n",
    "equation = input(\"Enter an equation: \")\n",
    "\n",
    "n = len(equation)\n",
    "sign = 1\n",
    "coefficient = 0\n",
    "total = 0\n",
    "i = 0\n",
    "\n",
    "\n",
    "for j in range(0, n):\n",
    "    \n",
    "    if (equation[j] == '+' or equation[j] == '-'):\n",
    "        if (j > i):\n",
    "            total = (total + sign * int(equation[i: j]))\n",
    "        i = j\n",
    "\n",
    "    elif (equation[j] == 'x'):\n",
    "        if ((i == j) or equation[j - 1] == '+'):\n",
    "            coefficient += sign\n",
    "        elif (equation[j - 1] == '-'):\n",
    "            coefficient = coefficient - sign\n",
    "        else:\n",
    "            coefficient = (coefficient + sign * int(equation[i: j]))\n",
    "        i = j + 1\n",
    "\n",
    "   \n",
    "    elif (equation[j] == '='):\n",
    "        if (j > i):\n",
    "            total = (total + sign * int(equation[i: j]))\n",
    "        sign = -1\n",
    "        i = j + 1\n",
    "\n",
    "\n",
    "if (i < n):\n",
    "    total = (total + sign * int(equation[i: len(equation)]))\n",
    "\n",
    "\n",
    "if (coefficient == 0 and total == 0):\n",
    "    print(\"Infinite solutions\")\n",
    "\n",
    "\n",
    "elif (coefficient == 0 and total):\n",
    "    print(\"No solution\")\n",
    "\n",
    "else:\n",
    "    ans = -total / coefficient\n",
    "    print(f\"The solution is x = {int(ans)}\")\n"
   ]
  },
  {
   "cell_type": "code",
   "execution_count": 3,
   "id": "320dd232",
   "metadata": {},
   "outputs": [
    {
     "name": "stdout",
     "output_type": "stream",
     "text": [
      "From which state Dhoni belongs?\n",
      "(a) Jharkhand\n",
      "(b) Punjab\n",
      "(c) West Bengal \n",
      "\n",
      "Enter your answer (a/b/c): b\n",
      "Incorrect!\n",
      "\n",
      "What is longest river ?\n",
      "(a) Congo\n",
      "(b) The Nile \n",
      "(c) Yangtze River   \n",
      "\n",
      "Enter your answer (a/b/c): a\n",
      "Incorrect!\n",
      "\n",
      "what is largest organ in human body?\n",
      "(a) Head\n",
      "(b) Leg\n",
      "(c)The Skin\n",
      "\n",
      "Enter your answer (a/b/c): c\n",
      "Correct!\n",
      "\n",
      "Your Score is :  1\n"
     ]
    }
   ],
   "source": [
    "\"\"\"Write a program that simulates a basic quiz game with multiple-choice questions and scoring\n",
    "\"\"\"\n",
    "\n",
    "\n",
    "questions = [\n",
    "    \"From which state Dhoni belongs?\\n(a) Jharkhand\\n(b) Punjab\\n(c) West Bengal \\n\",\n",
    "    \"What is longest river ?\\n(a) Congo\\n(b) The Nile \\n(c) Yangtze River   \\n\",\n",
    "    \"what is largest organ in human body?\\n(a) Head\\n(b) Leg\\n(c)The Skin\\n\",\n",
    "]\n",
    "\n",
    "answers = [\"a\", \"b\", \"c\"]\n",
    "\n",
    "\n",
    "score = 0\n",
    "\n",
    "\n",
    "for i in range(len(questions)):\n",
    "    print(questions[i])\n",
    "    user_answer = input(\"Enter your answer (a/b/c): \").lower()\n",
    "    \n",
    "    if user_answer == answers[i]:\n",
    "        print(\"Correct!\\n\")\n",
    "        score += 1\n",
    "    else:\n",
    "        print(\"Incorrect!\\n\")\n",
    "\n",
    "print (\"Your Score is : \", score)\n",
    "\n"
   ]
  },
  {
   "cell_type": "code",
   "execution_count": 10,
   "id": "41c110e3",
   "metadata": {},
   "outputs": [
    {
     "name": "stdout",
     "output_type": "stream",
     "text": [
      " Enter a year: 2023\n",
      "2023 : is not prime \n"
     ]
    }
   ],
   "source": [
    "\"\"\"Develop a program that determines whether a given year is a prime number or not\n",
    "\"\"\"\n",
    "\n",
    "year= int(input (\" Enter a year: \"))\n",
    "is_prime=True\n",
    "\n",
    "\n",
    "for i in range(2, int(year**0.5) + 1):\n",
    "    \n",
    "        if year % i == 0:\n",
    "            is_prime= False\n",
    "            break  \n",
    "            \n",
    "if is_prime:  \n",
    "    print(year,\": is prime\")\n",
    "    \n",
    "else : \n",
    "    print (year,\": is not prime \")\n"
   ]
  },
  {
   "cell_type": "code",
   "execution_count": 24,
   "id": "ef9e13ec",
   "metadata": {},
   "outputs": [
    {
     "name": "stdout",
     "output_type": "stream",
     "text": [
      "Enter a number: 4\n",
      "Enter a number: 1\n",
      "Enter a number: 1\n",
      "[1, 1, 4]\n"
     ]
    }
   ],
   "source": [
    "\"\"\"Create a program that sorts three numbers in ascending order using conditional statements\n",
    "\"\"\"\n",
    "\n",
    "ol=[]\n",
    "for i in range (1,4):\n",
    "    n1=int(input ( \"Enter a number: \"))\n",
    "    ol.append(n1)   \n",
    "    \n",
    "if ol[0] > ol[1]:\n",
    "    ol[0], ol[1] = ol[1], ol[0]\n",
    "\n",
    "if ol[1] > ol[2]:\n",
    "     ol[1], ol[2] = ol[2], ol[1]\n",
    "\n",
    "if ol[0] > ol[1]:\n",
    "    ol[0], ol[1] = ol[1], ol[0]\n",
    "\n",
    "print(ol)"
   ]
  },
  {
   "cell_type": "code",
   "execution_count": null,
   "id": "700b575f",
   "metadata": {},
   "outputs": [],
   "source": [
    "\"\"\"\n",
    "Build a program that determines the roots of a quartic equation using numerical methods.\n",
    "\n",
    "\"\"\"\n",
    "\n",
    "import cmath\n",
    "\n",
    "a = float(input(\"Enter the coefficient of x^2: \"))\n",
    "b = float(input(\"Enter the coefficient of x: \"))\n",
    "c = float(input(\"Enter the constant term: \"))\n",
    "\n",
    "\n",
    "d = b**2 - 4*a*c\n",
    "\n",
    "r1 = (-b + cmath.sqrt(d)) / (2*a)\n",
    "r2 = (-b - cmath.sqrt(d)) / (2*a)\n",
    "\n",
    "print(\"The roots of equation : ax**2+b*x+c\")\n",
    "print(\"Root 1 =\", r1)\n",
    "print(\"Root 2 =\", r2)\n",
    "\n"
   ]
  },
  {
   "cell_type": "code",
   "execution_count": null,
   "id": "9f6968e4",
   "metadata": {},
   "outputs": [],
   "source": [
    "\"\"\"\n",
    "Write a program that calculates the BMI (Body Mass Index) and provides health recommendations based \n",
    "on the user's input\n",
    "\"\"\"\n",
    "\n",
    "height=float(input(\"Enter your height:\"))\n",
    "weight=float(input(\"Enter your weight:\"))\n",
    "\n",
    "\n",
    "BMI=weight/height \n",
    "\n",
    "if BMI>=25 and BMI<=29.9:\n",
    "    print(,BMI,\":Overweight\")\n",
    "    print( \"Eat less and do some workout \")\n",
    "elif BMI>18.5 and BMI<24.9:\n",
    "    print(BMI,\":Normal weight \")\n",
    "    print(\" You health good \")\n",
    "elif BMI<=18.5:\n",
    "    print(BMI,\":Underweight \")\n",
    "    print (\" Eat more healthy food  \")\n",
    "else :\n",
    "    print(BMI,\":Obesity \")\n",
    "    print (\" You have to do more workout and healthy food \")\n"
   ]
  },
  {
   "cell_type": "markdown",
   "id": "9e5730b0",
   "metadata": {},
   "source": [
    "# Challenge Level"
   ]
  },
  {
   "cell_type": "code",
   "execution_count": 1,
   "id": "4b055ac9",
   "metadata": {},
   "outputs": [
    {
     "name": "stdout",
     "output_type": "stream",
     "text": [
      "Enter password which contains uppercase, lowercase, a number, and a special character. Password must be length 10: Basamt123@\n",
      "Password is valid.\n"
     ]
    }
   ],
   "source": [
    "\"\"\"Create a program that validates a password based on complexity rules (length, characters, etc.).\n",
    "\"\"\"\n",
    "\n",
    "\n",
    "\n",
    "userpass = input(\"Enter password which contains uppercase, lowercase, a number, and a special character. Password must be length 10: \")\n",
    "userlen = len(userpass)\n",
    "\n",
    "lowercase = ['a', 'b', 'c', 'd', 'e', 'f', 'g', 'h', 'i', 'j', 'k', 'l', 'm', 'n', 'o', 'p', 'q', 'r', 's', 't', 'u', 'v', 'w', 'x', 'y', 'z']\n",
    "\n",
    "uppercase = ['A', 'B', 'C', 'D', 'E', 'F', 'G', 'H', 'I', 'J', 'K', 'L', 'M', 'N', 'O', 'P', 'Q', 'R', 'S', 'T', 'U', 'V', 'W', 'X', 'Y', 'Z']\n",
    "\n",
    "digit = ['0', '1', '2', '3', '4', '5', '6', '7', '8', '9']\n",
    "\n",
    "special_character = ['/','(',')',',','!','@','#','$','%','^','&','*','+',]\n",
    "\n",
    "has_lowercase = False\n",
    "has_uppercase = False\n",
    "has_digit = False\n",
    "has_special_character = False\n",
    "\n",
    "for char in userpass:\n",
    "    if char in lowercase:\n",
    "        has_lowercase = True\n",
    "    elif char in uppercase:\n",
    "        has_uppercase = True\n",
    "    elif char in digit:\n",
    "        has_digit = True\n",
    "    elif char in special_character:\n",
    "        has_special_character = True\n",
    "\n",
    "if userlen >= 7 and has_lowercase and has_uppercase and has_digit and has_special_character:\n",
    "    print(\"Password is valid.\")\n",
    "else:\n",
    "    print(\"Password is invalid. Please make sure it contains at least one lowercase letter, one uppercase letter, one digit, one special character, and is exactly 7 characters long.\")\n"
   ]
  },
  {
   "cell_type": "code",
   "execution_count": null,
   "id": "7ba1c238",
   "metadata": {},
   "outputs": [],
   "source": [
    "# Get input for the first matrix\n",
    "print(\"Enter values for the first matrix:\")\n",
    "matrix1 = []\n",
    "for i in range(rows):\n",
    "    row = []\n",
    "    for j in range(cols):\n",
    "        element = int(input(f\"Enter the element at position ({i + 1}, {j + 1}): \"))\n",
    "        row.append(element)\n",
    "    matrix1.append(row)\n",
    "\n",
    "# Get input for the second matrix\n",
    "print(\"Enter values for the second matrix:\")\n",
    "matrix2 = []\n",
    "for i in range(rows):\n",
    "    row = []\n",
    "    for j in range(cols):\n",
    "        element = int(input(f\"Enter the element at position ({i + 1}, {j + 1}): \"))\n",
    "        row.append(element)\n",
    "    matrix2.append(row)\n",
    "\n",
    "# Perform matrix addition\n",
    "result_addition = []\n",
    "for i in range(rows):\n",
    "    row = []\n",
    "    for j in range(cols):\n",
    "        row.append(matrix1[i][j] + matrix2[i][j])\n",
    "    result_addition.append(row)\n",
    "\n",
    "# Perform matrix subtraction\n",
    "result_subtraction = []\n",
    "for i in range(rows):\n",
    "    row = []\n",
    "    for j in range(cols):\n",
    "        row.append(matrix1[i][j] - matrix2[i][j])\n",
    "    result_subtraction.append(row)\n",
    "\n",
    "# Display the result of matrix addition\n",
    "print(\"\\nMatrix Addition Result:\")\n",
    "for i in range(rows):\n",
    "    for j in range(cols):\n",
    "        print(result_addition[i][j], end=\" \")\n",
    "    print()\n",
    "\n",
    "# Display the result of matrix subtraction\n",
    "print(\"\\nMatrix Subtraction Result:\")\n",
    "for i in range(rows):\n",
    "    for j in range(cols):\n",
    "        print(result_subtraction[i][j], end=\" \")\n",
    "    print()\n"
   ]
  },
  {
   "cell_type": "code",
   "execution_count": 11,
   "id": "2831f341",
   "metadata": {},
   "outputs": [
    {
     "name": "stdout",
     "output_type": "stream",
     "text": [
      "Enter number of rows: 2\n",
      "Enter number of columns: 2\n",
      "Enter the element of matrix1:1\n",
      "Enter the element of matrix1:1\n",
      "Enter the element of matrix1:1\n",
      "Enter the element of matrix1:1\n",
      "Enter the element of matrix2:1\n",
      "Enter the element of matrix2:1\n",
      "Enter the element of matrix2:1\n",
      "Enter the element of matrix2:1\n",
      "Matrix1 is : \n",
      "1 1 \n",
      "1 1 \n",
      "Matix2 is: \n",
      "1 1 \n",
      "1 1 \n",
      " 1.Press 1 for Matrix Addition:\n",
      " 2.Press 2 for Matrix Subtraction \n",
      " Enter your choice :5\n",
      "Invalid choice \n"
     ]
    }
   ],
   "source": [
    "\"\"\"Develop a program that performs matrix addition and subtraction based on user input\n",
    "\"\"\"\n",
    "\n",
    "rows = int(input(\"Enter number of rows: \"))\n",
    "cols = int(input(\"Enter number of columns: \"))\n",
    "\n",
    "\n",
    "matrix1 = []\n",
    "matrix2 = []\n",
    "for i in range(rows):\n",
    "    row = []\n",
    "    for j in range(cols):\n",
    "        element = int(input(\"Enter the element of matrix1:\"))\n",
    "        row.append(element)\n",
    "    matrix1.append(row)\n",
    "\n",
    "for i in range (rows):\n",
    "    row=[]\n",
    "    for j in range(cols):\n",
    "        element = int(input(\"Enter the element of matrix2:\"))\n",
    "        row.append(element)\n",
    "    matrix2.append(row)     \n",
    "    \n",
    "print(\"Matrix1 is : \")\n",
    "for i in range(rows):\n",
    "    for j in range(cols):\n",
    "        print(matrix1[i][j], end=\" \")  \n",
    "    print()  \n",
    "\n",
    "print (\"Matix2 is: \")    \n",
    "for i in range(rows):\n",
    "    for j in range(cols):\n",
    "        print(matrix2[i][j], end=\" \")  \n",
    "    print()  \n",
    "    \n",
    "res_add=[]\n",
    "res_sub=[]\n",
    "\n",
    "print(\" 1.Press 1 for Matrix Addition:\")\n",
    "print(\" 2.Press 2 for Matrix Subtraction \")\n",
    "ch=int ( input ( \" Enter your choice :\"))\n",
    "\n",
    "if ch==1:    \n",
    "    for i in range (rows):\n",
    "        addrow=[]        \n",
    "        for j in range (cols):\n",
    "            add=matrix1[i][j]+matrix2[i][j]\n",
    "            addrow.append(add)\n",
    "        res_add.append(addrow) \n",
    "        \n",
    "    for i in range (rows):\n",
    "        for j in range (cols):\n",
    "            print (res_add[i][j],end=\" \")\n",
    "        print()    \n",
    "            \n",
    "elif ch==2:\n",
    "    for i in range (rows):\n",
    "        subrow=[]\n",
    "        for j in range (cols):\n",
    "            sub=matrix1[i][j]-matrix2[i][j]            \n",
    "            subrow.append(sub)\n",
    "        res_sub.append(subrow)\n",
    "     \n",
    "    for i in range (rows):\n",
    "        for j in range (cols):\n",
    "            print (res_sub[i][j],end=\" \")\n",
    "        print()\n",
    "          \n",
    "else :     \n",
    "    print (\"Invalid choice \")\n",
    "    \n",
    "        "
   ]
  },
  {
   "cell_type": "code",
   "execution_count": 10,
   "id": "e295ed6d",
   "metadata": {},
   "outputs": [
    {
     "name": "stdout",
     "output_type": "stream",
     "text": [
      "Enter a number:12\n",
      "Enter a number:10\n",
      "The GCD of the two numbers is: 2\n"
     ]
    }
   ],
   "source": [
    "\"\"\"\n",
    "Write a program that calculates the greatest common divisor (GCD) of two numbers using the Euclidean \n",
    "algorithm\n",
    "\"\"\"\n",
    "num1=int ( input (\"Enter a number:\"))\n",
    "num2=int ( input (\"Enter a number:\"))\n",
    "\n",
    "if num1>=num2:\n",
    "    x=num1\n",
    "    y=num2 \n",
    "    \n",
    "else:\n",
    "    x=num2\n",
    "    y=num1\n",
    "    \n",
    "    \n",
    "while y != 0:\n",
    "    remainder = x % y\n",
    "    x = y\n",
    "    y = remainder\n",
    "\n",
    "\n",
    "print(\"The GCD of the two numbers is:\", x)\n"
   ]
  },
  {
   "cell_type": "code",
   "execution_count": 12,
   "id": "57225d85",
   "metadata": {},
   "outputs": [
    {
     "name": "stdout",
     "output_type": "stream",
     "text": [
      "Enter the number of rows for matrix1: 2\n",
      "Enter the number of columns for matrix1: 2\n",
      "Enter the number of rows for matrix2: 2\n",
      "Enter the number of columns for matrix2: 2\n",
      "Enter elements for matrix1:\n",
      "Enter the element at row 1, column 1: 10\n",
      "Enter the element at row 1, column 2: 12\n",
      "Enter the element at row 2, column 1: 11\n",
      "Enter the element at row 2, column 2: 14\n",
      "Enter elements for matrix2:\n",
      "Enter the element at row 1, column 1: 10\n",
      "Enter the element at row 1, column 2: 40\n",
      "Enter the element at row 2, column 1: 15\n",
      "Enter the element at row 2, column 2: 10\n",
      "\n",
      "Matrix1 is:\n",
      "10 12 \n",
      "11 14 \n",
      "\n",
      "Matrix2 is:\n",
      "10 40 \n",
      "15 10 \n",
      "\n",
      "Matrix Multiplication Result is:\n",
      "280 520 \n",
      "320 580 \n"
     ]
    }
   ],
   "source": [
    "\"\"\"Build a program that performs matrix multiplication using nested loops and conditional statements\n",
    "\"\"\"\n",
    "\n",
    "rows1 = int(input(\"Enter the number of rows for matrix1: \"))\n",
    "cols1 = int(input(\"Enter the number of columns for matrix1: \"))\n",
    "rows2 = int(input(\"Enter the number of rows for matrix2: \"))\n",
    "cols2 = int(input(\"Enter the number of columns for matrix2: \"))\n",
    "\n",
    "\n",
    "if cols1 != rows2:\n",
    "    print(\"Matrix multiplication is not possible because the number of columns in matrix1 does not match the number of rows in matrix2.\")\n",
    "else:\n",
    "    matrix1 = []\n",
    "    matrix2 = []\n",
    "\n",
    "    \n",
    "    print(\" For matrix1:\")\n",
    "    for i in range(rows1):\n",
    "        row = []\n",
    "        for j in range(cols1):\n",
    "            element = int(input(\" Enter the element\"))\n",
    "            row.append(element)\n",
    "        matrix1.append(row)\n",
    "\n",
    "    \n",
    "    print(\" for matrix2:\")\n",
    "    for i in range(rows2):\n",
    "        row = []\n",
    "        for j in range(cols2):\n",
    "            element = int(input(\"Enter the element  \"))\n",
    "            row.append(element)\n",
    "        matrix2.append(row)\n",
    "\n",
    "    \n",
    "    result = []\n",
    "    for i in range(rows1):\n",
    "        row = []\n",
    "        for j in range(cols2):\n",
    "            row.append(0)\n",
    "        result.append(row)\n",
    "\n",
    "\n",
    "    for i in range(rows1):\n",
    "        for j in range(cols2):\n",
    "            for k in range(cols1):\n",
    "                result[i][j] += matrix1[i][k] * matrix2[k][j]\n",
    "\n",
    "    print(\"\\nMatrix1 is:\")\n",
    "    for i in range(rows1):\n",
    "        for j in range(cols1):\n",
    "            print(matrix1[i][j], end=\" \")\n",
    "        print()\n",
    "\n",
    "    print(\"\\nMatrix2 is:\")\n",
    "    for i in range(rows2):\n",
    "        for j in range(cols2):\n",
    "            print(matrix2[i][j], end=\" \")\n",
    "        print()\n",
    "\n",
    "    print(\"\\nMatrix Multiplication Result is:\")\n",
    "    for i in range(rows1):\n",
    "        for j in range(cols2):\n",
    "            print(result[i][j], end=\" \")\n",
    "        print()\n"
   ]
  },
  {
   "cell_type": "code",
   "execution_count": null,
   "id": "1ed3b142",
   "metadata": {},
   "outputs": [],
   "source": [
    "\"Create a program that simulates a basic text-based tic-tac-toe game against the computer.\n",
    "\"\n",
    "\n",
    "\n"
   ]
  },
  {
   "cell_type": "code",
   "execution_count": 13,
   "id": "8e9f58f3",
   "metadata": {},
   "outputs": [
    {
     "name": "stdout",
     "output_type": "stream",
     "text": [
      "Enter the nth term5\n",
      "0 1 1 2 3 "
     ]
    }
   ],
   "source": [
    "\"\"\"Write a program that generates Fibonacci numbers up to a specified term using iterative methods\n",
    "\"\"\"\n",
    "\n",
    "n=int(input(\"Enter the nth term\"))\n",
    "\n",
    "firstnumber=0\n",
    "secondnumber=1\n",
    "newnumber=0\n",
    "\n",
    "for i in range (1,n+1):\n",
    "    print(firstnumber,end=\" \")\n",
    "    newnumber=firstnumber+secondnumber \n",
    "    firstnumber=secondnumber \n",
    "    secondnumber=newnumber  \n"
   ]
  },
  {
   "cell_type": "code",
   "execution_count": 22,
   "id": "3aab9843",
   "metadata": {},
   "outputs": [
    {
     "name": "stdout",
     "output_type": "stream",
     "text": [
      "Enter the value of n: 7\n",
      "In 7 term value is: 13\n"
     ]
    }
   ],
   "source": [
    "\"\"\"Develop a program that calculates the nth term of the Fibonacci sequence using memoization\n",
    "\"\"\"\n",
    "\n",
    "def fibonacci(n, memo={}):\n",
    "    \n",
    "    if n in memo:\n",
    "        return memo[n]\n",
    "    \n",
    "    \n",
    "    if n == 0:\n",
    "        result = 0\n",
    "    elif n == 1:\n",
    "        result = 1\n",
    "    else:\n",
    "        \n",
    "        result = fibonacci(n-1, memo) + fibonacci(n-2, memo)\n",
    "    \n",
    "\n",
    "    memo[n] = result\n",
    "    return result\n",
    "\n",
    "\n",
    "n = int(input(\"Enter the value of n: \"))\n",
    "\n",
    "\n",
    "if n < 0:\n",
    "    print(\"Please enter a non-negative integer.\")\n",
    "else:\n",
    "    \n",
    "    result = fibonacci(n)\n",
    "    print(\"In\",n,\"term\",\"value is:\",result)\n"
   ]
  },
  {
   "cell_type": "code",
   "execution_count": 27,
   "id": "6c45b96c",
   "metadata": {},
   "outputs": [
    {
     "name": "stdout",
     "output_type": "stream",
     "text": [
      "Enter the year 2020\n",
      "Enter the month 8\n",
      "calendar for 2020 and month 8 is:\n",
      "    August 2020\n",
      "Mo Tu We Th Fr Sa Su\n",
      "                1  2\n",
      " 3  4  5  6  7  8  9\n",
      "10 11 12 13 14 15 16\n",
      "17 18 19 20 21 22 23\n",
      "24 25 26 27 28 29 30\n",
      "31\n",
      "\n"
     ]
    }
   ],
   "source": [
    "\"\"\"Create a program that generates a calendar for a given month and year using conditional statements\n",
    "\"\"\"\n",
    "import calendar\n",
    "\n",
    "\n",
    "year = int(input(\"Enter the year \"))\n",
    "month = int(input(\"Enter the month \"))\n",
    "\n",
    "\n",
    "if month < 1 or month > 12:\n",
    "    print(\"Invalid month. Please enter a month between 1 and 12.\")\n",
    "else:\n",
    "    \n",
    "    cal = calendar.month(year, month)\n",
    "    \n",
    "    \n",
    "    print(\"calendar for\",year,\"and\",\"month\",month,\"is:\")\n",
    "    print(cal)\n"
   ]
  },
  {
   "cell_type": "code",
   "execution_count": 34,
   "id": "e05a6d63",
   "metadata": {},
   "outputs": [
    {
     "name": "stdout",
     "output_type": "stream",
     "text": [
      "Enter a positive integer: 20\n",
      "2\n",
      "2\n",
      "5\n"
     ]
    }
   ],
   "source": [
    "\"\"\"Write a program that generates the prime factors of a given number using trial division.\n",
    "\"\"\"\n",
    "\n",
    "num = int(input(\"Enter a positive integer: \"))\n",
    "divisor = 2\n",
    "\n",
    "while num % 2 == 0:\n",
    "    print(2)\n",
    "    num = num // 2\n",
    "    \n",
    "for divisor in range(3, int(num**0.5) + 1, 2):\n",
    "    while num % divisor == 0:\n",
    "        print(divisor)\n",
    "        num = num // divisor\n",
    "        \n",
    "if num > 1:\n",
    "    print(num)"
   ]
  },
  {
   "cell_type": "code",
   "execution_count": null,
   "id": "afd0fa84",
   "metadata": {},
   "outputs": [],
   "source": [
    "\n",
    "\n"
   ]
  }
 ],
 "metadata": {
  "kernelspec": {
   "display_name": "Python 3 (ipykernel)",
   "language": "python",
   "name": "python3"
  },
  "language_info": {
   "codemirror_mode": {
    "name": "ipython",
    "version": 3
   },
   "file_extension": ".py",
   "mimetype": "text/x-python",
   "name": "python",
   "nbconvert_exporter": "python",
   "pygments_lexer": "ipython3",
   "version": "3.10.9"
  }
 },
 "nbformat": 4,
 "nbformat_minor": 5
}
