{
 "cells": [
  {
   "cell_type": "markdown",
   "id": "4220bdf2",
   "metadata": {},
   "source": [
    "# For loop"
   ]
  },
  {
   "cell_type": "code",
   "execution_count": null,
   "id": "3d05dfcd",
   "metadata": {},
   "outputs": [],
   "source": [
    "\"\"\"Write a Python program to print numbers from 1 to 10 using a for loop\n",
    "\"\"\"\n",
    "for i in range (1,10):\n",
    "    print (i)"
   ]
  },
  {
   "cell_type": "code",
   "execution_count": null,
   "id": "ad0a0811",
   "metadata": {},
   "outputs": [],
   "source": [
    "\"\"\"Explain the difference between a for loop and a while loop in Python\n",
    "\"\"\"\n",
    "\n",
    "\n",
    "\"\"\"for loop \n",
    "\n",
    "*In for loop iteration increase automatically. \n",
    "*Number of iteration already known.\n",
    "*for keyword is used \n",
    "*\n",
    "\n",
    "\"\"\"\n",
    "\n",
    "\n",
    "\"\"\"While loop\n",
    "\n",
    "*In while loop iteration does not increase automatically\n",
    "*Number of iteration not known\n",
    "*while keyword is used \n",
    "\n",
    "\n",
    "\n",
    "\"\"\"\n"
   ]
  },
  {
   "cell_type": "code",
   "execution_count": 2,
   "id": "8c2418a4",
   "metadata": {},
   "outputs": [
    {
     "name": "stdout",
     "output_type": "stream",
     "text": [
      "5050\n"
     ]
    }
   ],
   "source": [
    "\"\"\"Write a Python program to calculate the sum of all numbers from 1 to 100 using a for loop.\n",
    "\"\"\"\n",
    "sum=0\n",
    "for i in range (1,101):\n",
    "    sum=sum+i\n",
    "print(\"sum of number is :\",sum)"
   ]
  },
  {
   "cell_type": "code",
   "execution_count": 4,
   "id": "5ff003c9",
   "metadata": {},
   "outputs": [
    {
     "name": "stdout",
     "output_type": "stream",
     "text": [
      "List contains : [4, 5, 6]\n",
      "Product is : 120\n"
     ]
    }
   ],
   "source": [
    "\"\"\"Write a Python program to find the product of all elements in a list using a for loop.\n",
    "\"\"\"\n",
    "\n",
    "l1=[4,5,6]\n",
    "product=1\n",
    "\n",
    "for i in l1:\n",
    "    product=product*i\n",
    "print (\"List contains :\",l1)    \n",
    "print(\"Product is :\",product)\n"
   ]
  },
  {
   "cell_type": "code",
   "execution_count": 6,
   "id": "5724480a",
   "metadata": {},
   "outputs": [
    {
     "name": "stdout",
     "output_type": "stream",
     "text": [
      "[2, 4, 6, 8, 10, 12, 14, 16, 18, 20]\n"
     ]
    }
   ],
   "source": [
    "\"\"\"Create a Python program that prints all even numbers from 1 to 20 using a for loop.\n",
    "\"\"\"\n",
    "\n",
    "even=[x for x in range(1,21) if x%2==0]\n",
    "print (even)"
   ]
  },
  {
   "cell_type": "code",
   "execution_count": 2,
   "id": "7ade0ae7",
   "metadata": {},
   "outputs": [
    {
     "name": "stdout",
     "output_type": "stream",
     "text": [
      "Enter a number to find factorial:5\n",
      "Factoril of  5 is: 120\n"
     ]
    }
   ],
   "source": [
    "\"\"\"Write a Python program that calculates the factorial of a number using a for loop\n",
    "\"\"\"\n",
    "\n",
    "number=int(input(\"Enter a number to find factorial:\"))\n",
    "fact=1\n",
    "for i in range (1,number+1):\n",
    "    fact=fact*i\n",
    "print (\"Factoril of \",number,'is:',fact)"
   ]
  },
  {
   "cell_type": "code",
   "execution_count": 3,
   "id": "01240355",
   "metadata": {},
   "outputs": [
    {
     "name": "stdout",
     "output_type": "stream",
     "text": [
      "B\n",
      "a\n",
      "s\n",
      "a\n",
      "n\n",
      "t\n"
     ]
    }
   ],
   "source": [
    "\"\"\"How can you iterate through the characters of a string using a for loop in Python?\n",
    "\"\"\"\n",
    "\n",
    "check=\"Basant\"\n",
    "\n",
    "for i in check:\n",
    "    print (i)\n"
   ]
  },
  {
   "cell_type": "code",
   "execution_count": 7,
   "id": "ae31dac0",
   "metadata": {},
   "outputs": [
    {
     "name": "stdout",
     "output_type": "stream",
     "text": [
      "[45, 56, 1, 8, 0]\n",
      "Largest number is : 56\n"
     ]
    }
   ],
   "source": [
    "\"\"\"Write a Python program to find the largest number in a list using a for loop.\n",
    "\"\"\"\n",
    "\n",
    "num=[45,56,1,8,0]\n",
    "large=num[0]\n",
    "for i in range (1,len(num)):    \n",
    "    if large < num[i]:        \n",
    "        large=num[i]\n",
    "print(num)     \n",
    "print (\"Largest number is :\",large)"
   ]
  },
  {
   "cell_type": "code",
   "execution_count": 13,
   "id": "89df066c",
   "metadata": {},
   "outputs": [
    {
     "name": "stdout",
     "output_type": "stream",
     "text": [
      "Enter the nth term20\n",
      "0 1 1 2 3 5 8 13 21 34 55 89 144 233 377 610 987 1597 2584 4181 "
     ]
    }
   ],
   "source": [
    "\"\"\"Create a Python program that prints the Fibonacci sequence up to a specified limit using a for loop\n",
    "\"\"\"\n",
    "\n",
    "n=int(input(\"Enter the nth term\"))\n",
    "\n",
    "firstnumber=0\n",
    "secondnumber=1\n",
    "newnumber=0\n",
    "\n",
    "for i in range (1,n+1):\n",
    "    print(firstnumber,end=\" \")\n",
    "    newnumber=firstnumber+secondnumber #adding firstnumber and second number\n",
    "    firstnumber=secondnumber #swapping of number takeplace\n",
    "    secondnumber=newnumber       "
   ]
  },
  {
   "cell_type": "code",
   "execution_count": 12,
   "id": "145db5b3",
   "metadata": {},
   "outputs": [
    {
     "name": "stdout",
     "output_type": "stream",
     "text": [
      "Enter a string:Basant\n",
      "Basant\n",
      "Number of Vowels : 2\n"
     ]
    }
   ],
   "source": [
    "\"\"\"Write a Python program to count the number of vowels in a given string using a for loop\n",
    "\"\"\"\n",
    "string=input(\"Enter a string:\")\n",
    "check=string.lower()\n",
    "vowels=['a','e','i','o','u']\n",
    "\n",
    "count=0\n",
    "\n",
    "for i in check:\n",
    "    if i in vowels:\n",
    "        count=count+1\n",
    "print (string)\n",
    "print (\"Number of Vowels :\",count)"
   ]
  },
  {
   "cell_type": "code",
   "execution_count": 14,
   "id": "c93f2799",
   "metadata": {},
   "outputs": [
    {
     "name": "stdout",
     "output_type": "stream",
     "text": [
      " Enter a number : 5\n",
      "5 * 1 = 5\n",
      "5 * 2 = 10\n",
      "5 * 3 = 15\n",
      "5 * 4 = 20\n",
      "5 * 5 = 25\n",
      "5 * 6 = 30\n",
      "5 * 7 = 35\n",
      "5 * 8 = 40\n",
      "5 * 9 = 45\n",
      "5 * 10 = 50\n"
     ]
    }
   ],
   "source": [
    "\"\"\"Create a Python program that generates a multiplication table for a given number using a for loop\n",
    "\"\"\"\n",
    "num=int(input (\" Enter a number : \"))\n",
    "\n",
    "for i in range (1,11):\n",
    "    print (num,\"*\",i,\"=\",num*i)    "
   ]
  },
  {
   "cell_type": "code",
   "execution_count": 5,
   "id": "98b6bd4b",
   "metadata": {},
   "outputs": [
    {
     "name": "stdout",
     "output_type": "stream",
     "text": [
      "[60, 10, 22, 45]\n"
     ]
    }
   ],
   "source": [
    "\"\"\"Write a Python program to reverse a list using a for loop.\n",
    "\"\"\"\n",
    "\n",
    "oldli=[45,22,10,60]\n",
    "newli=[]\n",
    "\n",
    "i=len(oldli)-1\n",
    "\n",
    "for i in range (i,-1,-1):\n",
    "    \n",
    "    newli.append(oldli[i])\n",
    "print(newli)    "
   ]
  },
  {
   "cell_type": "code",
   "execution_count": 7,
   "id": "931935f6",
   "metadata": {},
   "outputs": [
    {
     "name": "stdout",
     "output_type": "stream",
     "text": [
      "[54]\n"
     ]
    }
   ],
   "source": [
    "\"\"\"Write a Python program to find the common elements between two lists using a for loop\n",
    "\"\"\"\n",
    "\n",
    "l1=[54,32,12]\n",
    "sizel1=len(l1)\n",
    "l2=[54,11,13]\n",
    "sizel2=len(l2)\n",
    "newl=[]\n",
    "\n",
    "totallen=sizel1+sizel2\n",
    "\n",
    "for i in l1:\n",
    "    for j in l2:\n",
    "        if i==j:\n",
    "            newl.append(i)\n",
    "print(newl)        "
   ]
  },
  {
   "cell_type": "code",
   "execution_count": 9,
   "id": "91e07e3c",
   "metadata": {},
   "outputs": [
    {
     "name": "stdout",
     "output_type": "stream",
     "text": [
      "Key: Name , Value: Basant\n",
      "Key: Depatment , Value:  MCA \n",
      "Key: Batch , Value: 2022-2023 \n"
     ]
    }
   ],
   "source": [
    "\"\"\"Explain how to use a for loop to iterate through the keys and values of a dictionary in Python.\n",
    "\"\"\"\n",
    "\n",
    "\n",
    "\" To print value of dictionary we can use items fuction it return key value pairs  \"\n",
    "\n",
    "check={\"Name\": \"Basant\",\n",
    "      \"Depatment\":\" MCA \",\n",
    "      \"Batch\":\"2022-2023 \"}\n",
    "\n",
    "for key, value in check.items():\n",
    "    print (\"Key:\",key,\",\",\"Value:\",value)\n"
   ]
  },
  {
   "cell_type": "code",
   "execution_count": 3,
   "id": "4f560cad",
   "metadata": {},
   "outputs": [
    {
     "name": "stdout",
     "output_type": "stream",
     "text": [
      "Maximum number in: [15, 20, 71, 0]\n",
      "Maximum number is:  71\n"
     ]
    }
   ],
   "source": [
    "\"\"\"Write a Python program to find the largest number in a list using a for loop\n",
    "\"\"\"\n",
    "check=[15,20,71,0]\n",
    "print (\"Maximum number in:\",check)\n",
    "max=check[0]\n",
    "temp=0\n",
    "for i in range (1,len(check)):        \n",
    "    if max<check[i]:\n",
    "        temp=max\n",
    "        max=check[i]\n",
    "        check[i]=temp\n",
    "print (\"Maximum number is: \",max)        \n",
    "        \n"
   ]
  },
  {
   "cell_type": "code",
   "execution_count": 4,
   "id": "05648d53",
   "metadata": {},
   "outputs": [
    {
     "name": "stdout",
     "output_type": "stream",
     "text": [
      "Enter the number of Fibonacci terms: 5\n",
      "Fibonacci sequence up to 5 terms:\n",
      "0 1 1 2 3 "
     ]
    }
   ],
   "source": [
    "\"\"\"Create a Python program that prints the Fibonacci sequence up to a specified limit using a for loop\n",
    "\"\"\"\n",
    "\n",
    "n = int(input(\"Enter the number of Fibonacci terms: \"))\n",
    "a, b = 0, 1\n",
    "if n <= 0:\n",
    "    print(\"Please enter a positive integer.\")\n",
    "elif n == 1:\n",
    "    print(\"Fibonacci sequence up to\", n, \"terms:\")\n",
    "    print(a)\n",
    "else:\n",
    "    print(\"Fibonacci sequence up to\", n, \"terms:\")\n",
    "    print(a, b, end=\" \")\n",
    "        \n",
    "    for _ in range(2, n):\n",
    "        a, b = b, a + b\n",
    "        print(b, end=\" \")"
   ]
  },
  {
   "cell_type": "code",
   "execution_count": 8,
   "id": "ec12ae38",
   "metadata": {},
   "outputs": [
    {
     "name": "stdout",
     "output_type": "stream",
     "text": [
      "Number of Vowels in :  2\n"
     ]
    }
   ],
   "source": [
    "\"\"\"Write a Python program to count the number of vowels in a given string using a for loop.\n",
    "\"\"\"\n",
    "\n",
    "s=\"Basant\"\n",
    "z=s.lower()\n",
    "a=['a','e','i','o','u']\n",
    "count=0\n",
    "for i in z:\n",
    "    if i in a:\n",
    "        count=count+1\n",
    "        \n",
    "print (\"Number of Vowels in : \",count)"
   ]
  },
  {
   "cell_type": "code",
   "execution_count": 9,
   "id": "0777a27e",
   "metadata": {},
   "outputs": [
    {
     "name": "stdout",
     "output_type": "stream",
     "text": [
      " Enter a number:5\n",
      "5 * 1 = 5\n",
      "5 * 2 = 10\n",
      "5 * 3 = 15\n",
      "5 * 4 = 20\n",
      "5 * 5 = 25\n",
      "5 * 6 = 30\n",
      "5 * 7 = 35\n",
      "5 * 8 = 40\n",
      "5 * 9 = 45\n",
      "5 * 10 = 50\n"
     ]
    }
   ],
   "source": [
    "\"\"\"Create a Python program that generates a multiplication table for a given number using a for loop\n",
    "\"\"\"\n",
    "\n",
    "n=int(input(\" Enter a number:\"))\n",
    "\n",
    "for i in range (1,11):\n",
    "    print (n,\"*\",i,\"=\",n*i)\n"
   ]
  },
  {
   "cell_type": "code",
   "execution_count": 11,
   "id": "ce3f2dcf",
   "metadata": {},
   "outputs": [
    {
     "name": "stdout",
     "output_type": "stream",
     "text": [
      "[9, 10, 34, 12]\n"
     ]
    }
   ],
   "source": [
    "\"\"\"Write a Python program to reverse a list using a for loop\n",
    "\"\"\"\n",
    "\n",
    "check=[12,34,10,9]\n",
    "length=len(check)\n",
    "\n",
    "newcheck=[]\n",
    "\n",
    "for i in range (length-1,-1,-1):\n",
    "    newcheck.append(check[i])\n",
    "print(newcheck)    "
   ]
  },
  {
   "cell_type": "code",
   "execution_count": 13,
   "id": "78f31522",
   "metadata": {},
   "outputs": [
    {
     "name": "stdout",
     "output_type": "stream",
     "text": [
      "[23, 34]\n"
     ]
    }
   ],
   "source": [
    "\"\"\"Write a Python program to find the common elements between two lists using a for loop\n",
    "\"\"\"\n",
    "newl1=[23,34,12,4,5]\n",
    "newl2=[29,23,11,10,34,0,1,3]\n",
    "c=[]\n",
    "for i in newl1:\n",
    "    for j in newl2:\n",
    "        if i == j:\n",
    "            c.append(i)\n",
    "            \n",
    "print(c)         \n"
   ]
  },
  {
   "cell_type": "code",
   "execution_count": null,
   "id": "4492139a",
   "metadata": {},
   "outputs": [],
   "source": [
    "\"\"\"Explain how to use a for loop to iterate through the keys and values of a dictionary in Python.\n",
    "\"\"\"\n",
    "\n",
    "\n",
    "\" To print value of dictionary we can use items fuction it return key value pairs  \"\n",
    "\n",
    "check={\"Name\": \"Basant\",\n",
    "      \"Depatment\":\" MCA \",\n",
    "      \"Batch\":\"2022-2023 \"}\n",
    "\n",
    "for key, value in check.items():\n",
    "    print (\"Key:\",key,\",\",\"Value:\",value)\n"
   ]
  },
  {
   "cell_type": "code",
   "execution_count": 16,
   "id": "bec9739b",
   "metadata": {},
   "outputs": [
    {
     "name": "stdout",
     "output_type": "stream",
     "text": [
      "enter 1st number:20\n",
      "enter 2nd number:40\n",
      "20\n"
     ]
    }
   ],
   "source": [
    "\"\"\"Write a Python program to find the GCD (Greatest Common Divisor) of two numbers using a for loop\n",
    "\"\"\"\n",
    "\n",
    "x =int(input(\"enter 1st number:\"))\n",
    "y =int(input(\"enter 2nd number:\"))\n",
    "\n",
    "mini=min(x,y)\n",
    "\n",
    "for i in range (1,mini+1):\n",
    "    if x%i==0 and y%i==0:\n",
    "        hcf=i\n",
    "print(hcf)"
   ]
  },
  {
   "cell_type": "code",
   "execution_count": 21,
   "id": "16ac041f",
   "metadata": {},
   "outputs": [
    {
     "name": "stdout",
     "output_type": "stream",
     "text": [
      "Enter a string : bob\n",
      "bob\n",
      "bob :is palindrome\n"
     ]
    }
   ],
   "source": [
    "\"\"\"Create a Python program that checks if a string is a palindrome using a for loop.\n",
    "\"\"\"\n",
    "old=input(\"Enter a string : \")\n",
    "new=\"\"\n",
    "\n",
    "for i  in range (len(old)-1,-1,-1):    \n",
    "    new=new+old[i]    \n",
    "if old==new:\n",
    "    print (old,\":is palindrome\" )\n",
    "else:\n",
    "    print (old,\":is not palindrome\")"
   ]
  },
  {
   "cell_type": "code",
   "execution_count": 22,
   "id": "cc9e45f5",
   "metadata": {},
   "outputs": [
    {
     "name": "stdout",
     "output_type": "stream",
     "text": [
      "Old list is  [22, 14, 10, 10, 5]\n",
      "New list is  [22, 14, 10, 5]\n"
     ]
    }
   ],
   "source": [
    "\"\"\"Write a Python program to remove duplicates from a list using a for loop.\n",
    "\"\"\"\n",
    "old=[22,14,10,10,5]\n",
    "print(\"Old list is \",old) \n",
    "new=[] \n",
    "for i in old:\n",
    "    if i not in new:\n",
    "        new.append(i)\n",
    "print(\"New list is \",new)        "
   ]
  },
  {
   "cell_type": "code",
   "execution_count": 29,
   "id": "06289c10",
   "metadata": {},
   "outputs": [
    {
     "name": "stdout",
     "output_type": "stream",
     "text": [
      "Number of words is : 4\n"
     ]
    }
   ],
   "source": [
    "\"\"\"Create a Python program that counts the number of words in a sentence using a for loop\n",
    "\"\"\"\n",
    "check=\" Basant Tirkey is smart \"\n",
    "new=[]\n",
    "new=check.split()\n",
    "print (\"Number of words is :\",len(new))"
   ]
  },
  {
   "cell_type": "code",
   "execution_count": 30,
   "id": "ab021538",
   "metadata": {},
   "outputs": [
    {
     "name": "stdout",
     "output_type": "stream",
     "text": [
      "9\n"
     ]
    }
   ],
   "source": [
    "\"\"\"Write a Python program to find the sum of all odd numbers from 1 to 50 using a for loop.\n",
    "\"\"\"\n",
    "sum=0\n",
    "for i in range(1,50):\n",
    "    \n",
    "    if i%2 !=0:\n",
    "        sum=sum+i\n",
    "        \n",
    "print (\"Sum of o\"sum)    \n",
    "    \n"
   ]
  },
  {
   "cell_type": "code",
   "execution_count": null,
   "id": "ed91fc46",
   "metadata": {},
   "outputs": [],
   "source": [
    "\"\"\"Write a Python program that checks if a given year is a leap year using a for loop.\n",
    "\"\"\"\n",
    "\n",
    "lp=int(input(\"Enter a Year:\"))\n",
    "if lp%4==0:\n",
    "    print(lp,\"is a leap year\")\n",
    "else:\n",
    "    print (lp,\"is not a  leap year\")"
   ]
  },
  {
   "cell_type": "code",
   "execution_count": 1,
   "id": "be4f6287",
   "metadata": {},
   "outputs": [
    {
     "name": "stdout",
     "output_type": "stream",
     "text": [
      "Enter a number: 2\n",
      "The square root of : 2.0 is: 1.4142135623730951\n"
     ]
    }
   ],
   "source": [
    "\"\"\"Create a Python program that calculates the square root of a number using a for loop.\n",
    "\"\"\"\n",
    "\n",
    "\n",
    "num = float(input('Enter a positive  number: '))\n",
    "\n",
    "num_sqrt = num ** 0.5\n",
    "\n",
    "print(\"The square root of :\",num,\"is:\",num_sqrt  )\n"
   ]
  },
  {
   "cell_type": "code",
   "execution_count": 3,
   "id": "0372ceb4",
   "metadata": {},
   "outputs": [
    {
     "name": "stdout",
     "output_type": "stream",
     "text": [
      " Enter a first number :4\n",
      "Enter a second number : 6\n",
      "Lcm of  4 and 6 is : 12\n"
     ]
    }
   ],
   "source": [
    "\"\"\"Write a Python program to find the LCM (Least Common Multiple) of two numbers using a for loop\n",
    "\"\"\"\n",
    "x=int(input (\" Enter a first number :\"))\n",
    "y=int (input (\"Enter a second number : \"))\n",
    "end=x*y\n",
    "for i in range (1,end):\n",
    "    if i%x==0 and  i%y==0:\n",
    "        print (\"Lcm of\",x,\"and\",y,\"is :\",i)\n",
    "                "
   ]
  },
  {
   "cell_type": "markdown",
   "id": "5e5b38a6",
   "metadata": {},
   "source": [
    "# if else "
   ]
  },
  {
   "cell_type": "code",
   "execution_count": 4,
   "id": "54964bad",
   "metadata": {},
   "outputs": [
    {
     "name": "stdout",
     "output_type": "stream",
     "text": [
      "Enter a number  -4\n",
      "-4 :is a Negative Number\n"
     ]
    }
   ],
   "source": [
    "\"\"\"Write a Python program to check if a number is positive, negative, or zero using an if-else statement.\n",
    "\"\"\"\n",
    "\n",
    "num=int(input(\"Enter a number  \"))\n",
    "\n",
    "if num<0:\n",
    "    print (num,\":is a Negative Number\")\n",
    "\n",
    "elif num>0:\n",
    "    print(num,\":is a positive number\")\n",
    "    \n",
    "else :\n",
    "    print (num,\":is neither positive or negative  \")\n",
    "    \n"
   ]
  },
  {
   "cell_type": "code",
   "execution_count": null,
   "id": "805c3829",
   "metadata": {},
   "outputs": [],
   "source": [
    "\"\"\"Create a Python program that checks if a given number is even or odd using an if-else statement.\n",
    "\"\"\"\n",
    "num=int (input(\"Enter a number \"))\n",
    "\n",
    "if num%2==0:\n",
    "    print (num,\"is even\")\n",
    "else :\n",
    "    print (num,\"is odd \")"
   ]
  },
  {
   "cell_type": "code",
   "execution_count": null,
   "id": "985b1dfc",
   "metadata": {},
   "outputs": [],
   "source": [
    "\"\"\"How can you use nested if-else statements in Python, and provide an example?\n",
    "\"\"\"\n",
    "num=int(input(\"Enter a number:\"))\n",
    "\n",
    "if num!=0:\n",
    "    if num>0:\n",
    "        print (num,\": is positive number \")\n",
    "    else :\n",
    "        print (num,\": is negative number \")\n",
    "else:\n",
    "    print (num,\": is Zero\")\n"
   ]
  },
  {
   "cell_type": "code",
   "execution_count": null,
   "id": "f7cf381a",
   "metadata": {},
   "outputs": [],
   "source": [
    "\"\"\"write a Python program to determine the largest of three numbers using if-else.\n",
    "\"\"\"\n",
    "num1 = int(input(\"Enter first number: \"))\n",
    "num2 = int(input(\"Enter second number: \"))\n",
    "num3 = int(input(\"Enter third number: \"))\n",
    "\n",
    "if num1 == num2 == num3:\n",
    "    print(\"All three numbers are equal\")\n",
    "else:\n",
    "    if num1 >= num2 and num1 >= num3:\n",
    "        print(num1, \"is the greatest\")\n",
    "    elif num2 >= num1 and num2 >= num3:\n",
    "        print(num2, \"is the greatest\")\n",
    "    else:\n",
    "        print(num3, \"is the greatest\")"
   ]
  },
  {
   "cell_type": "code",
   "execution_count": 5,
   "id": "bbf51c95",
   "metadata": {},
   "outputs": [
    {
     "name": "stdout",
     "output_type": "stream",
     "text": [
      "Enter a number : -4\n",
      "Absolute value of : -4 is : 4\n"
     ]
    }
   ],
   "source": [
    "\"\"\"Write a Python program that calculates the absolute value of a number using if-else.\n",
    "\"\"\"\n",
    "\n",
    "n=int (input (\"Enter a number : \"))\n",
    "\n",
    "if n<0:\n",
    "    print (\"Absolute value of :\",n,\"is :\",-(n))\n",
    "else :\n",
    "    print (\"Absolute value of :\",n,\"is :\",n)"
   ]
  },
  {
   "cell_type": "code",
   "execution_count": null,
   "id": "26db7c72",
   "metadata": {},
   "outputs": [],
   "source": [
    "\"\"\"Create a Python program that checks if a given character is a vowel or consonant using if-else.\n",
    "\"\"\"\n",
    "string=input(\"Enter a character:\")\n",
    "check=string.lower()\n",
    "vowels=['a','e','i','o','u']\n",
    "if check in vowels:\n",
    "    print (string,\":is a vowel\")\n",
    "else :\n",
    "    print (string,\":is a consonant \")"
   ]
  },
  {
   "cell_type": "code",
   "execution_count": 6,
   "id": "304698ff",
   "metadata": {},
   "outputs": [
    {
     "name": "stdout",
     "output_type": "stream",
     "text": [
      " Enter a Age 78\n",
      "Eliigible to vote\n"
     ]
    }
   ],
   "source": [
    "\"\"\"Write a Python program to determine if a user is eligible to vote based on their age using if-else\n",
    "\"\"\"\n",
    "age=int (input (\" Enter a Age \"))\n",
    "if age >= 18:\n",
    "    print (\"Eliigible to vote\")\n",
    "else:\n",
    "    print (\"Not Eligible to vote\")"
   ]
  },
  {
   "cell_type": "code",
   "execution_count": 14,
   "id": "6605bd89",
   "metadata": {},
   "outputs": [
    {
     "name": "stdout",
     "output_type": "stream",
     "text": [
      "Enter the amount: 120\n",
      "Discount of 5%\n",
      "114.0\n"
     ]
    }
   ],
   "source": [
    "\"\"\"Create a Python program that calculates the discount amount based on the purchase amount using if-else.\n",
    "\"\"\"\n",
    "\n",
    "currentp = int(input(\"Enter the amount: \"))\n",
    "\n",
    "if currentp <= 100:\n",
    "    print(\"Discount of 2%\")\n",
    "    dis = (2/100) * currentp\n",
    "    newp = currentp - dis\n",
    "    print(newp)\n",
    "else:\n",
    "    print(\"Discount of 5%\")\n",
    "    dis = (5/100) * currentp\n",
    "    newp = currentp - dis\n",
    "    print(newp)\n"
   ]
  },
  {
   "cell_type": "code",
   "execution_count": 18,
   "id": "fbb49c82",
   "metadata": {},
   "outputs": [
    {
     "name": "stdout",
     "output_type": "stream",
     "text": [
      " Enter the number to find :  65\n",
      "65  not found  between 1 and 50 \n"
     ]
    }
   ],
   "source": [
    "\"\"\"Write a Python program to check if a number is within a specified range using if-else.\n",
    "\"\"\"\n",
    "\n",
    "\n",
    "find=int(input (\" Enter the number to find :  \"))\n",
    "flag=False\n",
    "for i in range (1,50):\n",
    "    if find ==i :\n",
    "        flag=True\n",
    "if flag==True:\n",
    "    print (find,\" between 1 and 50 \")\n",
    "else :\n",
    "    print (find,\" not found  between 1 and 50 \")"
   ]
  },
  {
   "cell_type": "code",
   "execution_count": 19,
   "id": "567a4093",
   "metadata": {},
   "outputs": [
    {
     "name": "stdout",
     "output_type": "stream",
     "text": [
      "Enter your score : 54\n",
      "You have got B grade\n"
     ]
    }
   ],
   "source": [
    "\"\"\"Create a Python program that determines the grade of a student based on their score using if-else\n",
    "\"\"\"\n",
    "score=int (input (\"Enter your score : \"))\n",
    "if score>=0:\n",
    "    \n",
    "    if score >= 80:\n",
    "        print (\"You have got A grade  \")\n",
    "    if score >=50 and  score <= 79:\n",
    "        print (\"You have got B grade\")\n",
    "    if score >=0 and score<=49:\n",
    "        print (\"You have got C grade\")\n",
    "else :\n",
    "    print (\" Invalid score \")\n",
    "    "
   ]
  },
  {
   "cell_type": "code",
   "execution_count": 21,
   "id": "9c5193c1",
   "metadata": {},
   "outputs": [
    {
     "name": "stdout",
     "output_type": "stream",
     "text": [
      "string is empty\n"
     ]
    }
   ],
   "source": [
    "\"\"\"Write a Python program to check if a string is empty or not using if-else.\n",
    "\"\"\"\n",
    "string =\"\"\n",
    "check=str()\n",
    "if string ==check:\n",
    "    print (\"string is empty\")\n",
    "else:\n",
    "    print (\"string is not  empty\")"
   ]
  },
  {
   "cell_type": "code",
   "execution_count": null,
   "id": "9759a60c",
   "metadata": {},
   "outputs": [],
   "source": [
    "\"\"\"Create a Python program that identifies the type of a triangle (e.g., equilateral, isosceles, or scalene) based on input values using if-else.\n",
    "\"\"\"\n",
    "\n",
    "side1=int (input (\" Enter first side \"))\n",
    "side2=int (input (\" Enter second side\"))\n",
    "side3=int (input (\" Enter third side\"))\n",
    "\n",
    "\n",
    "if side1!=side2 and side2!=side3:\n",
    "    print (\"Scalene Triangle\")\n",
    "if side1==side2 and side2==side3:\n",
    "    print (\"Equilateral triangle\")\n",
    "    \n",
    "if side1==side2  :\n",
    "    if side1!=side3  :\n",
    "        print (\"Isoceles triangle \")\n",
    "    \n",
    "if side2==side3  :\n",
    "    if side2!=side1  :\n",
    "        print (\"Isoceles triangle \")\n",
    "        \n",
    "if side3==side1  :\n",
    "    if side3!=side2  :\n",
    "        print (\"Isoceles triangle \")\n",
    "                "
   ]
  },
  {
   "cell_type": "code",
   "execution_count": null,
   "id": "2a058acd",
   "metadata": {},
   "outputs": [],
   "source": [
    "\"\"\"Write a Python program to determine the day of the week based on a user-provided number using if-else\n",
    "\"\"\"\n",
    "day=int(input(\"Enter a day:\"))\n",
    "if day>0 and day <8:\n",
    "    if day==1:\n",
    "        print (day,\":is Monday\")\n",
    "    if day==2:\n",
    "        print (day,\":is Tuesday\")\n",
    "    if day==3:\n",
    "        print (day,\":is Wednesday\")\n",
    "    if day==4:\n",
    "        print (day,\":is Thrusday\")\n",
    "    if day==5:\n",
    "        print (day,\":is Friday\")\n",
    "    if day==6:\n",
    "        print (day,\":is Saturday\")\n",
    "    if day ==7:\n",
    "        print (day,\":is Sunday\")\n",
    "else:\n",
    "    print (\"Enter a valid day\")\n"
   ]
  },
  {
   "cell_type": "code",
   "execution_count": null,
   "id": "1242e079",
   "metadata": {},
   "outputs": [],
   "source": [
    "\"\"\"Create a Python program that checks if a given year is a leap year using both if-else and a function.\n",
    "\"\"\"\n",
    "\n",
    "lp=int(input(\"Enter a Year:\"))\n",
    "if lp%4==0:\n",
    "    print(lp,\"is a leap year\")\n",
    "else:\n",
    "    print (lp,\"is not a  leap year\")"
   ]
  },
  {
   "cell_type": "code",
   "execution_count": 2,
   "id": "75af5eee",
   "metadata": {},
   "outputs": [
    {
     "name": "stdout",
     "output_type": "stream",
     "text": [
      " Enter a number : -5\n",
      "x is negative\n"
     ]
    }
   ],
   "source": [
    "\"\"\"How do you use the \"assert\" statement in Python to add debugging checks within if-else blocks?\n",
    "\"\"\"\n",
    "x=int(input (\" Enter a number : \"))\n",
    "\n",
    "if x < 0:\n",
    "    print(\"x is negative\")\n",
    "else:\n",
    "    assert x >= 0, \"x should be non-negative\"\n",
    "    print(\"x is non-negative\")\n",
    "\n",
    "\n"
   ]
  },
  {
   "cell_type": "code",
   "execution_count": 4,
   "id": "3568890a",
   "metadata": {},
   "outputs": [
    {
     "name": "stdout",
     "output_type": "stream",
     "text": [
      " Enter the age: 60\n",
      " Enter the amount: 700\n",
      "Discount of 5%\n",
      "665.0\n"
     ]
    }
   ],
   "source": [
    "\"\"\"Create a Python program that determines the eligibility of a person for a senior citizen discount based on age using if-else\n",
    "\"\"\"\n",
    "\n",
    "age = int(input(\" Enter the age: \"))\n",
    "currentp=int(input (\" Enter the amount: \"))\n",
    "if age  <= 50:\n",
    "    print(\"Discount of 2%\")\n",
    "    dis = (2/100) * currentp\n",
    "    newp = currentp - dis\n",
    "    print(newp)\n",
    "else:\n",
    "    print(\"Discount of 5%\")\n",
    "    dis = (5/100) * currentp\n",
    "    newp = currentp - dis\n",
    "    print(newp)"
   ]
  },
  {
   "cell_type": "code",
   "execution_count": 6,
   "id": "2c57244a",
   "metadata": {},
   "outputs": [
    {
     "name": "stdout",
     "output_type": "stream",
     "text": [
      " Enter a character: 6\n",
      " Neither upper and lower\n"
     ]
    }
   ],
   "source": [
    "\"\"\"Write a Python program to categorize a given character as uppercase, lowercase, or neither using if-else.\n",
    "\"\"\"\n",
    "char=input(\" Enter a character: \")\n",
    "if char.isupper():\n",
    "    print (char,\" is in upper case  \")\n",
    "elif char.islower():\n",
    "    print (char,\" is in lower case  \")\n",
    "else:\n",
    "    print (\" Neither upper and lower\")"
   ]
  },
  {
   "cell_type": "code",
   "execution_count": 17,
   "id": "ed203a54",
   "metadata": {},
   "outputs": [
    {
     "name": "stdout",
     "output_type": "stream",
     "text": [
      "Enter the coefficient a: 1\n",
      "Enter the coefficient b: 10\n",
      "Enter the coefficient c: 1\n",
      "Two real and distinct roots:\n",
      "Root 1: -0.10102051443364424\n",
      "Root 2: -9.898979485566356\n"
     ]
    }
   ],
   "source": [
    "\"\"\"Write a Python program to determine the roots of a quadratic equation using if-else.\n",
    "\"\"\"\n",
    "\n",
    "a = float(input(\"Enter the coefficient a: \"))\n",
    "b = float(input(\"Enter the coefficient b: \"))\n",
    "c = float(input(\"Enter the coefficient c: \"))\n",
    "\n",
    "\n",
    "discriminant = b**2 - 4*a*c\n",
    "\n",
    "\n",
    "if discriminant > 0:\n",
    "    \n",
    "    root1 = (-b + (discriminant)**0.5) / (2*a)\n",
    "    root2 = (-b - (discriminant)**0.5) / (2*a)\n",
    "    print(\"Two real and distinct roots:\")\n",
    "    print(\"Root 1:\", root1)\n",
    "    print(\"Root 2:\", root2)\n",
    "elif discriminant == 0:\n",
    "    \n",
    "    root = -b / (2*a)\n",
    "    print(\"One real root (double root):\")\n",
    "    print(\"Root:\", root)\n",
    "else:\n",
    "    \n",
    "    real_part = -b / (2*a)\n",
    "    imaginary_part = ((-discriminant)**0.5) / (2*a)\n",
    "    print(\"Complex roots:\")\n",
    "    print(\"Root 1:\", real_part, \"+\", imaginary_part, \"i\")\n",
    "    print(\"Root 2:\", real_part, \"-\", imaginary_part, \"i\")\n"
   ]
  },
  {
   "cell_type": "code",
   "execution_count": 21,
   "id": "5c6c6b03",
   "metadata": {},
   "outputs": [
    {
     "name": "stdout",
     "output_type": "stream",
     "text": [
      " Enter a Year: 2000\n",
      "2000  : is a Century  Year \n"
     ]
    }
   ],
   "source": [
    "\"\"\"Create a Python program that checks if a given year is a century year or not using if-else.\n",
    "\"\"\"\n",
    "\n",
    "year=int (input (\" Enter a Year: \"))\n",
    "if year%100==0:\n",
    "    print (year,\" : is a Century  Year \")\n",
    "else :\n",
    "    print (year,\" :is not a Century Year \")"
   ]
  },
  {
   "cell_type": "code",
   "execution_count": 15,
   "id": "7ecc5d89",
   "metadata": {},
   "outputs": [
    {
     "name": "stdout",
     "output_type": "stream",
     "text": [
      " Enter a number :5\n",
      "Perfect square \n"
     ]
    }
   ],
   "source": [
    "\"\"\"Write a Python program to determine if a given number is a perfect square using if-else.\n",
    "\"\"\"\n",
    "n=int (input (\" Enter a number :\"))\n",
    "if n**2==n*n:\n",
    "    print (\"Perfect square \")\n",
    "else :\n",
    "    print (\"Non Perfect square \")"
   ]
  },
  {
   "cell_type": "code",
   "execution_count": 22,
   "id": "1376e996",
   "metadata": {},
   "outputs": [
    {
     "name": "stdout",
     "output_type": "stream",
     "text": [
      "Using 'continue' to skip even numbers:\n",
      "1\n",
      "3\n",
      "5\n",
      "7\n",
      "9\n",
      "Using 'break' to exit the loop on encountering 5:\n",
      "1\n",
      "2\n",
      "3\n",
      "4\n",
      "Loop has ended.\n"
     ]
    }
   ],
   "source": [
    "\"\"\"Explain the purpose of the \"continue\" and \"break\" statements within if-else loops.\n",
    "\"\"\"\n",
    "\n",
    "\n",
    "\n",
    "print(\"Using 'continue' to skip even numbers:\")\n",
    "for num in range(1, 11):\n",
    "    if num % 2 == 0:\n",
    "        continue  \n",
    "    print(num)\n",
    "\n",
    "\n",
    "print(\"Using 'break' to exit the loop on encountering 5:\")\n",
    "for num in range(1, 11):\n",
    "    if num == 5:\n",
    "        break \n",
    "    print(num)\n",
    "\n",
    "print(\"Loop has ended.\")\n",
    "\n"
   ]
  },
  {
   "cell_type": "code",
   "execution_count": 14,
   "id": "67cc27dc",
   "metadata": {},
   "outputs": [
    {
     "name": "stdout",
     "output_type": "stream",
     "text": [
      "Enter your height:100\n",
      "Enter your weight:3\n",
      "0.03 :Underweight \n"
     ]
    }
   ],
   "source": [
    "\"\"\"Create a Python program that calculates the BMI (Body Mass Index) of a person based on their weight and height using if-else\n",
    "\"\"\"\n",
    "height=float(input(\"Enter your height:\"))\n",
    "weight=float(input(\"Enter your weight:\"))\n",
    "\n",
    "\n",
    "BMI=weight/height \n",
    "\n",
    "if BMI>=25 and BMI<=29.9:\n",
    "    print(BMI,\":Overweight\")\n",
    "    \n",
    "elif BMI>18.5 and BMI<24.9:\n",
    "    print(BMI,\":Normal weight \")\n",
    "\n",
    "elif BMI<=18.5:\n",
    "    print(BMI,\":Underweight \")\n",
    "    \n",
    "else :\n",
    "    print(BMI,\":Obesity \")\n",
    "    "
   ]
  },
  {
   "cell_type": "code",
   "execution_count": 24,
   "id": "b0a832c3",
   "metadata": {},
   "outputs": [
    {
     "name": "stdout",
     "output_type": "stream",
     "text": [
      "[1, 3, 5, 7, 9]\n"
     ]
    }
   ],
   "source": [
    "\"\"\"How can you use the \"filter()\" function with if-else statements to filter elements from a list?\n",
    "\"\"\"\n",
    "\n",
    "\n",
    "def check_odd(number):\n",
    "    if number % 2 != 0:\n",
    "          return True  \n",
    "\n",
    "    return False\n",
    "\n",
    "\n",
    "numbers = [1, 2, 3, 4, 5, 6, 7, 8, 9, 10]\n",
    "\n",
    "\n",
    "even_numbers_iterator = filter(check_even, numbers)\n",
    "\n",
    "\n",
    "even_numbers = list(even_numbers_iterator)\n",
    "\n",
    "print(even_numbers)"
   ]
  },
  {
   "cell_type": "code",
   "execution_count": 26,
   "id": "eea2634b",
   "metadata": {},
   "outputs": [
    {
     "name": "stdout",
     "output_type": "stream",
     "text": [
      "Enter a number:6\n",
      "6 is not a prime number\n"
     ]
    }
   ],
   "source": [
    "\"\"\"Write a Python program to determine if a given number is prime or not using if-else.\n",
    "\"\"\"\n",
    "\n",
    "number= int (input (\"Enter a number:\"))\n",
    "prime=True \n",
    "for i in range (2,number):\n",
    "    if number%i==0:\n",
    "        prime=False\n",
    "if prime == False:\n",
    "        print (number,\"is not a prime number\")\n",
    "else:\n",
    "        print (number,\"is a prime number\")\n",
    "        \n",
    "\n"
   ]
  },
  {
   "cell_type": "code",
   "execution_count": null,
   "id": "44114086",
   "metadata": {},
   "outputs": [],
   "source": []
  },
  {
   "cell_type": "markdown",
   "id": "d19aebbf",
   "metadata": {},
   "source": [
    "# Map"
   ]
  },
  {
   "cell_type": "code",
   "execution_count": 37,
   "id": "320a081f",
   "metadata": {},
   "outputs": [
    {
     "name": "stdout",
     "output_type": "stream",
     "text": [
      "[1, 2, 3, 4, 5, 6, 7, 8, 9, 10]\n",
      "Cube of above number are: [1, 8, 27, 64, 125, 216, 343, 512, 729, 1000]\n"
     ]
    }
   ],
   "source": [
    "\"\"\"Explain the purpose of the `map()` function in Python and provide an example of how it can be used to apply a function to each element of an iterabl\n",
    "\"\"\"\n",
    "def check(a):\n",
    "    cb=a*a*a\n",
    "    return cb\n",
    "li=[1,2,3,4,5,6,7,8,9,10]\n",
    "print (li)\n",
    "x=map(check,li)\n",
    "print (\"Cube of above number are:\",list(x))"
   ]
  },
  {
   "cell_type": "code",
   "execution_count": 39,
   "id": "bd1d0a13",
   "metadata": {},
   "outputs": [
    {
     "name": "stdout",
     "output_type": "stream",
     "text": [
      "[1, 2, 3, 4, 5, 6, 7, 8, 9, 10]\n",
      "Square of above number are: [1, 4, 9, 16, 25, 36, 49, 64, 81, 100]\n"
     ]
    }
   ],
   "source": [
    "\"\"\"Write a Python program that uses the `map()` function to square each element of a list of numbers.\n",
    "\"\"\"\n",
    "def check(a):\n",
    "    sq=a*a\n",
    "    return sq\n",
    "li=[1,2,3,4,5,6,7,8,9,10]\n",
    "print (li)\n",
    "x=map(check,li)\n",
    "print (\"Square of above number are:\",list(x))"
   ]
  },
  {
   "cell_type": "markdown",
   "id": "ce979afe",
   "metadata": {},
   "source": [
    "\"\"\"How does the `map()` function differ from a list comprehension in Python, and when would you choose one over the other?\n",
    "\"\"\"\n",
    "\n",
    "Diffrence between map() and list comprehension:\n",
    "\n",
    "1)map return map object of returnable where as list comphrension return list\n",
    "2)map takes function as argument where as list comphrension can take function as well as expression. \n",
    "3)List comprehension is more flexible than map()\n",
    "\n",
    "When we choose map () and list comprehension:\n",
    "\n",
    "map() is generally used when task is simple where as list comphrension is used when task is more complex\n",
    "\n"
   ]
  },
  {
   "cell_type": "code",
   "execution_count": 40,
   "id": "0ec85738",
   "metadata": {},
   "outputs": [
    {
     "name": "stdout",
     "output_type": "stream",
     "text": [
      "Original List ['bat', 'tom', 'jerry']\n",
      "UpperCase list ['BAT', 'TOM', 'JERRY']\n"
     ]
    }
   ],
   "source": [
    "\"\"\"Create a Python program that uses the `map()` function to convert a list of names to uppercase.\n",
    "\"\"\"\n",
    "def upp(x):\n",
    "    return x.upper()  \n",
    "\n",
    "names=[\"bat\",\"tom\",\"jerry\"] \n",
    "print (\"Original List\",names)\n",
    "x=map(upp,names)\n",
    "print (\"UpperCase list\",list(x))"
   ]
  },
  {
   "cell_type": "code",
   "execution_count": 42,
   "id": "b1f4248c",
   "metadata": {},
   "outputs": [
    {
     "name": "stdout",
     "output_type": "stream",
     "text": [
      "Word in List ['bat', 'tom', 'jerry']\n",
      "Length of words : [3, 3, 5]\n"
     ]
    }
   ],
   "source": [
    "\"\"\"Write a Python program that uses the `map()` function to calculate the length of each word in a list of strings.\n",
    "\"\"\"\n",
    "\n",
    "def length(string):\n",
    "    return len(string)\n",
    "\n",
    "m=[\"bat\",\"tom\",\"jerry\"]\n",
    "print (\"Word in List\",m)\n",
    "x=map(length,m)\n",
    "\n",
    "print (\"Length of words :\", list(x))"
   ]
  },
  {
   "cell_type": "code",
   "execution_count": 45,
   "id": "f408e129",
   "metadata": {},
   "outputs": [
    {
     "name": "stdout",
     "output_type": "stream",
     "text": [
      "First List: [1, 2, 3, 4]\n",
      "Second List: [5, 6, 7, 8]\n",
      "Addition of two list: [6, 8, 10, 12]\n"
     ]
    }
   ],
   "source": [
    "\"\"\"How can you use the `map()` function to apply a custom function to elements of multiple lists simultaneously in Python?\n",
    "\"\"\"\n",
    "\n",
    "def add_elements(x, y):\n",
    "    return x + y\n",
    "\n",
    "\n",
    "list1 = [1, 2, 3, 4]\n",
    "print (\"First List:\",list1)\n",
    "\n",
    "list2 = [5, 6, 7, 8]\n",
    "print (\"Second List:\",list2)\n",
    "\n",
    "result = map(add_elements, list1, list2)\n",
    "\n",
    "\n",
    "result_list = list(result)\n",
    "\n",
    "print(\"Addition of two list:\",result_list)"
   ]
  },
  {
   "cell_type": "code",
   "execution_count": 48,
   "id": "8bb858eb",
   "metadata": {},
   "outputs": [
    {
     "name": "stdout",
     "output_type": "stream",
     "text": [
      "Temperatrue in celsius: [0, 10, 25, 30, 100]\n",
      "Temperatrue in Fahrenheit:  [32.0, 50.0, 77.0, 86.0, 212.0]\n"
     ]
    }
   ],
   "source": [
    "\"\"\"Create a Python program that uses `map()` to convert a list of temperatures from Celsius to Fahrenheit.\n",
    "\"\"\"\n",
    "\n",
    "\n",
    "def celsius_to_fahrenheit(celsius):\n",
    "    return (celsius * 9/5) + 32\n",
    "\n",
    "\n",
    "celsius_temperatures = [0, 10, 25, 30, 100]\n",
    "print (\"Temperatrue in celsius:\",celsius_temperatures)\n",
    "\n",
    "fahrenheit_temperatures  = map(celsius_to_fahrenheit, celsius_temperatures)\n",
    "\n",
    "print (\"Temperatrue in Fahrenheit: \",list(fahrenheit_temperatures))\n"
   ]
  },
  {
   "cell_type": "code",
   "execution_count": 50,
   "id": "e6b914a3",
   "metadata": {},
   "outputs": [
    {
     "name": "stdout",
     "output_type": "stream",
     "text": [
      "Original List:  [3.14, 2.718, 1.618, 4.669, 0.577]\n",
      " New List  [3, 3, 2, 5, 1]\n"
     ]
    }
   ],
   "source": [
    "\"\"\"Write a Python program that uses the `map()` function to round each element of a list of floating-point numbers to the nearest integer.\n",
    "\"\"\"\n",
    "\n",
    "float_numbers = [3.14, 2.718, 1.618, 4.669, 0.577]\n",
    "print (\"Original List: \",float_numbers)\n",
    "rounded_integers = (map(round, float_numbers))\n",
    "print (\" New List \",list(rounded_integers))\n"
   ]
  },
  {
   "cell_type": "markdown",
   "id": "b9aea054",
   "metadata": {},
   "source": [
    "# Reduce"
   ]
  },
  {
   "cell_type": "raw",
   "id": "f9f13d28",
   "metadata": {},
   "source": [
    "\"\"\"What is the `reduce()` function in Python, and what module should you import to use it? Provide an example of its basic usage.\n",
    "\"\"\"\n",
    "\n",
    "The reduce(fun,seq) function is used to apply a particular function passed in its argument to all of the list elements mentioned in the sequence passed along.\n",
    "\n",
    "\n",
    "module:functools\n",
    "import : reduce\n",
    "\n",
    "\n",
    "from functools import reduce\n",
    "# Returns the sum of two elements\n",
    "def sumTwo(a,b):\n",
    "    return a+b\n",
    "\n",
    "result = reduce(sumTwo, [1, 2, 3, 4])\n",
    "print(result)"
   ]
  },
  {
   "cell_type": "code",
   "execution_count": 52,
   "id": "05e0a8d6",
   "metadata": {},
   "outputs": [
    {
     "name": "stdout",
     "output_type": "stream",
     "text": [
      "24\n"
     ]
    }
   ],
   "source": [
    "\"\"\"Write a Python program that uses the `reduce()` function to find the product of all elements in a list.\n",
    "\"\"\"\n",
    "\n",
    "from functools import reduce\n",
    "# Returns the sum of two elements\n",
    "def multiply(a,b):\n",
    "    return a*b\n",
    "\n",
    "result = reduce(multiply, [1, 2, 3, 4])\n",
    "print(result)"
   ]
  },
  {
   "cell_type": "code",
   "execution_count": 54,
   "id": "7bd9a006",
   "metadata": {},
   "outputs": [
    {
     "name": "stdout",
     "output_type": "stream",
     "text": [
      "Maximum number in: [15, 20, 71, 0]\n",
      "Maximum: 71\n"
     ]
    }
   ],
   "source": [
    "\"\"\"Create a Python program that uses `reduce()` to find the maximum element in a list of numbers.\n",
    "\"\"\"\n",
    "from functools import reduce\n",
    "\n",
    "\n",
    "numbers = [15, 20, 71, 0]\n",
    "maximum_number = reduce(max, numbers)\n",
    "\n",
    "print(\"Maximum number in:\", numbers)\n",
    "print(\"Maximum:\", maximum_number)\n"
   ]
  },
  {
   "cell_type": "code",
   "execution_count": 60,
   "id": "824ec32e",
   "metadata": {},
   "outputs": [
    {
     "name": "stdout",
     "output_type": "stream",
     "text": [
      "Original Strings: ['basant', 'tansab', 'Monty']\n",
      "Concatenated String: basanttansabMonty\n"
     ]
    }
   ],
   "source": [
    "\"\"\"How can you use the `reduce()` function to concatenate a list of strings into a single string?\n",
    "\"\"\"\n",
    "from functools import reduce\n",
    "\n",
    "\n",
    "def concatenate_strings(str1, str2):\n",
    "    return str1 + str2\n",
    "\n",
    "strings = [\"basant\", \"tansab\", \"Monty\"]\n",
    "\n",
    "# Use reduce() to concatenate the strings\n",
    "concatenated_string = reduce(concatenate_strings, strings)\n",
    "\n",
    "print(\"Original Strings:\", strings)\n",
    "print(\"Concatenated String:\", concatenated_string)\n",
    "\n"
   ]
  },
  {
   "cell_type": "code",
   "execution_count": 65,
   "id": "c478f897",
   "metadata": {},
   "outputs": [
    {
     "name": "stdout",
     "output_type": "stream",
     "text": [
      "Numbers: [15, 20, 71, 0]\n",
      "GCD: 1\n"
     ]
    }
   ],
   "source": [
    "\"\"\"Create a Python program that uses `reduce()` to find the GCD (Greatest Common Divisor) of a list of numbers.\n",
    "\"\"\"\n",
    "from functools import reduce\n",
    "\n",
    "\n",
    "def gcd(num1, num2):\n",
    "    if num1 >= num2:\n",
    "        x = num1\n",
    "        y = num2\n",
    "    else:\n",
    "        x = num2\n",
    "        y = num1\n",
    "    \n",
    "    while y != 0:\n",
    "        remainder = x % y\n",
    "        x = y\n",
    "        y = remainder\n",
    "\n",
    "    return x\n",
    "\n",
    "numbers = [15, 20, 71, 0]\n",
    "gcd_result = reduce(gcd, numbers)\n",
    "\n",
    "print(\"Numbers:\", numbers)\n",
    "print(\"GCD:\", gcd_result)\n"
   ]
  },
  {
   "cell_type": "code",
   "execution_count": 8,
   "id": "c9ed22b2",
   "metadata": {},
   "outputs": [
    {
     "name": "stdout",
     "output_type": "stream",
     "text": [
      "8\n"
     ]
    }
   ],
   "source": [
    "\"\"\"Write a Python program that uses the `reduce()` function to find the sum of the digits of a given number.\n",
    "\"\"\"\n",
    "from functools import reduce\n",
    "\n",
    "def check(add, digit):\n",
    "    return add + int(digit)\n",
    "\n",
    "n = 125\n",
    "n_str = str(n)\n",
    "digits_sum = reduce(check, n_str, 0)\n",
    "print(digits_sum)\n"
   ]
  },
  {
   "cell_type": "code",
   "execution_count": null,
   "id": "9786c9e8",
   "metadata": {},
   "outputs": [],
   "source": []
  },
  {
   "cell_type": "code",
   "execution_count": null,
   "id": "12e6ea9a",
   "metadata": {},
   "outputs": [],
   "source": []
  },
  {
   "cell_type": "markdown",
   "id": "ad6441a6",
   "metadata": {},
   "source": [
    "# Filter"
   ]
  },
  {
   "cell_type": "raw",
   "id": "d865ef64",
   "metadata": {},
   "source": [
    "\"\"\"Explain the purpose of the `filter()` function in Python and provide an example of how it can be used to filter elements from an iterable\n",
    "\"\"\"\n",
    "\n",
    "filter function is used to apply function on each element present on iterable (tuple, list) and develop the necessary result \n",
    "\n",
    "example :\n",
    "l1=[45,45,1,0,2,10,4]\n",
    "even=list(filter(lambda x : x%2!=0,l1))\n",
    "print (even)"
   ]
  },
  {
   "cell_type": "code",
   "execution_count": 11,
   "id": "85a1db1a",
   "metadata": {},
   "outputs": [
    {
     "name": "stdout",
     "output_type": "stream",
     "text": [
      "[0, 2, 10, 4]\n"
     ]
    }
   ],
   "source": [
    "\"\"\"Write a Python program that uses the `filter()` function to select even numbers from a list of integers.\n",
    "\"\"\"\n",
    "l1=[45,45,1,0,2,10,4]\n",
    "even=list(filter(lambda x : x%2==0,l1))\n",
    "print (even)\n"
   ]
  },
  {
   "cell_type": "code",
   "execution_count": 12,
   "id": "8a5e9e13",
   "metadata": {},
   "outputs": [
    {
     "name": "stdout",
     "output_type": "stream",
     "text": [
      "['bat', 'use']\n"
     ]
    }
   ],
   "source": [
    "\"\"\"Create a Python program that uses the `filter()` function to select names that start with a specific letter from a list of strings\n",
    "\"\"\"\n",
    "l1=['bat',\"sat\",'tab','use','Rat']\n",
    "names=list(filter(lambda a:a[0]=='b'or a[0]=='u',l1 ))\n",
    "print (names)"
   ]
  },
  {
   "cell_type": "code",
   "execution_count": 17,
   "id": "e774a373",
   "metadata": {},
   "outputs": [
    {
     "name": "stdout",
     "output_type": "stream",
     "text": [
      "[2, 7, 11]\n"
     ]
    }
   ],
   "source": [
    "\"\"\"Write a Python program that uses the `filter()` function to select prime numbers from a list of integers.\n",
    "\"\"\"\n",
    "\n",
    "def is_prime(n):\n",
    "    if n <= 1:\n",
    "        return False\n",
    "    for i in range(2, int(n ** 0.5) + 1):\n",
    "        if n % i == 0:\n",
    "            return False\n",
    "    return True\n",
    "\n",
    "l1 = [2, 34, 7, 88, 11]\n",
    "\n",
    "check = list(filter(is_prime, l1))\n",
    "print(check)\n"
   ]
  },
  {
   "cell_type": "code",
   "execution_count": 19,
   "id": "2ced8a64",
   "metadata": {},
   "outputs": [
    {
     "name": "stdout",
     "output_type": "stream",
     "text": [
      "[23, 45, 67, 6]\n"
     ]
    }
   ],
   "source": [
    "\"\"\"How can you use the `filter()` function to remove None values from a list in Python?\n",
    "\"\"\"\n",
    "l1=[23,45,67,None,6,None]\n",
    "check=list(filter(lambda x: x!=None,l1))\n",
    "print(check)"
   ]
  },
  {
   "cell_type": "code",
   "execution_count": 20,
   "id": "9addefb8",
   "metadata": {},
   "outputs": [
    {
     "name": "stdout",
     "output_type": "stream",
     "text": [
      "['basant', 'Tirkey']\n"
     ]
    }
   ],
   "source": [
    "\"\"\"Create a Python program that uses `filter()` to select words longer than a certain length from a list of strings.\n",
    "\"\"\"\n",
    "l1=[\"basant\",\"Tirkey\",\"Bob\",\"bt\"]\n",
    "check=list(filter ( lambda x: len(x)>3,l1))\n",
    "print (check)"
   ]
  },
  {
   "cell_type": "code",
   "execution_count": 22,
   "id": "c6365a27",
   "metadata": {},
   "outputs": [
    {
     "name": "stdout",
     "output_type": "stream",
     "text": [
      "[12, 54, 45]\n"
     ]
    }
   ],
   "source": [
    "\"\"\"Write a Python program that uses the `filter()` function to select elements greater than a specified threshold from a list of values.\n",
    "\"\"\"\n",
    "l1=[12,54,7,45]\n",
    "\n",
    "check=list(filter(lambda x : x>10,l1))\n",
    "print(check)"
   ]
  },
  {
   "cell_type": "markdown",
   "id": "e1522f4a",
   "metadata": {},
   "source": [
    "# Recursion"
   ]
  },
  {
   "cell_type": "raw",
   "id": "194ba0f9",
   "metadata": {},
   "source": [
    "\"\"\"Explain the concept of recursion in Python. How does it differ from iteration?\n",
    "\"\"\"\n",
    "\n",
    "Recursion is the process which call iteself again and again until it reach to base conditions.\n",
    "\n",
    "In recursion a function call itself where as in iteration  a given task will run until it given conditons \n"
   ]
  },
  {
   "cell_type": "code",
   "execution_count": 2,
   "id": "296be5cb",
   "metadata": {},
   "outputs": [
    {
     "name": "stdout",
     "output_type": "stream",
     "text": [
      "120\n"
     ]
    }
   ],
   "source": [
    "\"\"\"Write a Python program to calculate the factorial of a number using recursion.\n",
    "\"\"\"\n",
    "def fact(n):\n",
    "    if n<=1:\n",
    "        return 1\n",
    "    else :\n",
    "        return n*fact(n-1)\n",
    "print (fact(5))    "
   ]
  },
  {
   "cell_type": "code",
   "execution_count": 5,
   "id": "e1cf4837",
   "metadata": {},
   "outputs": [
    {
     "name": "stdout",
     "output_type": "stream",
     "text": [
      "6\n"
     ]
    }
   ],
   "source": [
    "\"\"\"Write a recursive Python function to calculate the sum of all elements in a list.\n",
    "\"\"\"\n",
    "\n",
    "def listadd(numlist,n):\n",
    "    if n==1:\n",
    "        return numlist[0]\n",
    "    else :\n",
    "        return numlist[n-1]+listadd( numlist,n-1)\n",
    "numlist=[1,2,3]\n",
    "print (listadd(numlist,len(numlist)))"
   ]
  },
  {
   "cell_type": "raw",
   "id": "e48ab5e7",
   "metadata": {},
   "source": [
    "How can you prevent a recursive function from running indefinitely, causing a stack overflow error?\n",
    "\n",
    "To prevent function from running indefinetly we give base case to stop \n",
    "function running indefinitely.\n",
    "\n"
   ]
  },
  {
   "cell_type": "code",
   "execution_count": 3,
   "id": "058d07da",
   "metadata": {},
   "outputs": [
    {
     "name": "stdout",
     "output_type": "stream",
     "text": [
      "16\n"
     ]
    }
   ],
   "source": [
    "\"\"\"Create a recursive Python function to find the greatest common divisor (GCD) of two numbers using the Euclidean algorithm.\n",
    "\"\"\"\n",
    "def check (a,b):\n",
    "    if b==0:\n",
    "        return a\n",
    "    else :\n",
    "        return check (b,a%b)\n",
    "        \n",
    "print(check(64,48))\n"
   ]
  },
  {
   "cell_type": "code",
   "execution_count": 2,
   "id": "4a662df8",
   "metadata": {},
   "outputs": [
    {
     "name": "stdout",
     "output_type": "stream",
     "text": [
      "tab\n"
     ]
    }
   ],
   "source": [
    "\"\"\"Write a recursive Python function to reverse a string.\n",
    "\"\"\"\n",
    "def reverse_string(string, n, newstring):\n",
    "    if n < 0:\n",
    "        return newstring\n",
    "    else:\n",
    "        newstring += string[n]\n",
    "        return reverse_string (string,n-1,newstring)\n",
    "        \n",
    "\n",
    "string = \"bat\"\n",
    "n = len(string) - 1\n",
    "newstring = \"\"\n",
    "result = reverse_string(string, n, newstring)\n",
    "print(result)\n"
   ]
  },
  {
   "cell_type": "code",
   "execution_count": 13,
   "id": "a4b48381",
   "metadata": {},
   "outputs": [
    {
     "name": "stdout",
     "output_type": "stream",
     "text": [
      "8\n"
     ]
    }
   ],
   "source": [
    "\"\"\"Create a recursive Python function to calculate the power of a number (x^n).\n",
    "\"\"\"\n",
    "\n",
    "def power(x, n):\n",
    "    if n == 0:\n",
    "        return 1\n",
    "    \n",
    "    else:\n",
    "        return x * power(x, n - 1)\n",
    "\n",
    "result = power(2, 3)\n",
    "print(result)\n"
   ]
  },
  {
   "cell_type": "code",
   "execution_count": null,
   "id": "b1f46baf",
   "metadata": {},
   "outputs": [],
   "source": []
  },
  {
   "cell_type": "code",
   "execution_count": null,
   "id": "1e022403",
   "metadata": {},
   "outputs": [],
   "source": []
  },
  {
   "cell_type": "code",
   "execution_count": 8,
   "id": "9df8ea81",
   "metadata": {},
   "outputs": [
    {
     "name": "stdout",
     "output_type": "stream",
     "text": [
      "String is a palindrome\n"
     ]
    }
   ],
   "source": [
    "\"\"\"Write a recursive Python function to check if a string is a palindrome.\n",
    "\"\"\"\n",
    "def reverse(string, newstring, n):\n",
    "    if n < 0:\n",
    "        return newstring\n",
    "    else:\n",
    "        newstring += string[n]\n",
    "        return reverse(string, newstring, n - 1)\n",
    "\n",
    "string = \"Bob\".lower()\n",
    "newstring = \"\"\n",
    "n = len(string) - 1\n",
    "revstring = reverse(string, newstring, n)\n",
    "if string == revstring:\n",
    "    print(\"String is a palindrome\")\n",
    "else:\n",
    "    print(\"String is not a palindrome\")\n"
   ]
  },
  {
   "cell_type": "code",
   "execution_count": null,
   "id": "03dbe201",
   "metadata": {},
   "outputs": [],
   "source": [
    "\"\"\"Create a recursive Python function to generate all possible combinations of a list of elements.\n",
    "\"\"\"\n",
    "\n",
    "\n",
    "\n",
    "\n"
   ]
  },
  {
   "cell_type": "markdown",
   "id": "a1c61836",
   "metadata": {},
   "source": [
    "# Basics of functions "
   ]
  },
  {
   "cell_type": "markdown",
   "id": "08eb44dd",
   "metadata": {},
   "source": [
    "\"\"\"What is a function in Python, and why is it used?\n",
    "\"\"\"\n",
    "\n",
    "Function is a small part of program which runs and return output only when it is called.\n",
    "\n",
    "Function is generally used reuseabilty of code and abstraction."
   ]
  },
  {
   "cell_type": "raw",
   "id": "a34888fc",
   "metadata": {},
   "source": [
    "\"\"\"How do you define a function in Python? Provide an example.\n",
    "\"\"\"\n",
    "To define a function we have to define it's functionality.\n",
    "example:\n",
    "def sum(a,b):\n",
    "  sum=a+b\n",
    "  return sum\n",
    "sum(5,10)  \n",
    "print (\"Sum is\",sum)"
   ]
  },
  {
   "cell_type": "raw",
   "id": "acb032c4",
   "metadata": {},
   "source": [
    "\"\"\"Explain the difference between a function definition and a function call.\n",
    "\"\"\"\n",
    "\n",
    "Function call  pass the parameter and accept the output retured by the fuction defintion.\n",
    "\n",
    "Function definition contained accpet the parameter.Function defintion contians all the functionalty of the program.Function defintion return output where it is called.\n",
    "\n"
   ]
  },
  {
   "cell_type": "code",
   "execution_count": 4,
   "id": "4d1d0ac8",
   "metadata": {},
   "outputs": [
    {
     "name": "stdout",
     "output_type": "stream",
     "text": [
      "Enter First number  4\n",
      "Enter second number  5\n",
      "Sum of 4 & b is: 9\n"
     ]
    }
   ],
   "source": [
    "\"\"\"Write a Python program that defines a function to calculate the sum of two numbers and then calls the function\n",
    "\"\"\"\n",
    "\n",
    "\n",
    "def sum(a,b):\n",
    "    sum = a+b\n",
    "    return sum\n",
    "\n",
    "a=int(input (\"Enter First number  \"))\n",
    "b=int(input (\"Enter second number  \"))  \n",
    "\n",
    "\n",
    "print (\"Sum of\",a,\"&\",'b','is:',sum(a,b))"
   ]
  },
  {
   "cell_type": "raw",
   "id": "0abd8238",
   "metadata": {},
   "source": [
    "\"\"\"What is a function signature, and what information does it typically include?\n",
    "\"\"\"\n",
    "\n",
    "Function signature contains what parameter to accept what to returns "
   ]
  },
  {
   "cell_type": "markdown",
   "id": "b509a2d4",
   "metadata": {},
   "source": [
    "# Function Parameters and Arguments:"
   ]
  },
  {
   "cell_type": "raw",
   "id": "024cf359",
   "metadata": {},
   "source": [
    "\"\"\"Explain the concepts of formal parameters and actual arguments in Python functions.\n",
    "\"\"\"\n",
    "\n",
    "Formal Parameters are the parameters which are specified during the definition of the function \n",
    "\n",
    "\n",
    "Actual parameters are the parameters are those parameters which are specified\n",
    "when the argumnet are called.\n"
   ]
  },
  {
   "cell_type": "code",
   "execution_count": 5,
   "id": "e8839184",
   "metadata": {},
   "outputs": [
    {
     "name": "stdout",
     "output_type": "stream",
     "text": [
      "sum is : 15\n"
     ]
    }
   ],
   "source": [
    "\"\"\"Write a Python program that defines a function with default argument values\n",
    "\"\"\"\n",
    "\n",
    "def sum(a=5,b=10):\n",
    "    sum=a+b\n",
    "    return sum \n",
    "print (\"sum is :\",sum())    \n"
   ]
  },
  {
   "cell_type": "code",
   "execution_count": 7,
   "id": "1bee4057",
   "metadata": {},
   "outputs": [
    {
     "name": "stdout",
     "output_type": "stream",
     "text": [
      "Average is : 20.0\n"
     ]
    }
   ],
   "source": [
    "\"\"\"How do you use keyword arguments in Python function calls? Provide an example.\n",
    "\"\"\"\n",
    "def average(first,second):\n",
    "    aver=first+second/2\n",
    "    return aver \n",
    "\n",
    "print (\"Average is :\", average(10,20))"
   ]
  },
  {
   "cell_type": "code",
   "execution_count": null,
   "id": "8491b338",
   "metadata": {},
   "outputs": [],
   "source": [
    "\"\"\"Create a Python function that accepts a variable number of arguments and calculates their sum.\n",
    "\"\"\"\n",
    "def calculate_sum(*args):\n",
    "    total=0\n",
    "    for num in args :\n",
    "        total+=num\n",
    "        return total\n",
    "result= calculate_sum(1,2,3,4,5)\n",
    "print (result)\n"
   ]
  },
  {
   "cell_type": "raw",
   "id": "acd668be",
   "metadata": {},
   "source": [
    "\"\"\"What is the purpose of the `*args` and `**kwargs` syntax in function parameter lists?\n",
    "\"\"\"\n",
    "\n",
    "\n",
    "*args is allows to pass a variable number of non keyword arguments to a pyhton \n",
    "a Python function.\n",
    "It is used when we don't know about number of argumnets we have pass.\n",
    "\n",
    "syntax : def function name(*args)\n",
    "example:\n",
    "def  add(*numbers):\n",
    "     total = 0\n",
    "     for num in numbers:\n",
    "        total += num\n",
    "   return total\n",
    "\n",
    "\n",
    "print(add(2, 3))\n",
    "print(add(2, 3, 5))\n",
    "print(add(2, 3, 5, 7))\n",
    "print(add(2, 3, 5, 7, 9))\n",
    "\n",
    "**kwargs allows us to pass a variable number of keyword arguments to a python function.\n",
    "\n",
    "syntax: def function name (**kwargs)\n",
    "\n",
    "\n",
    "def total_fruits(**kwargs):\n",
    "    print(kwargs, )\n",
    "\n",
    "\n",
    "total_fruits(banana=5, mango=7, apple=8)"
   ]
  },
  {
   "cell_type": "markdown",
   "id": "743326d7",
   "metadata": {},
   "source": [
    "# Return Values and Scoping:\n"
   ]
  },
  {
   "cell_type": "raw",
   "id": "a4c0ac19",
   "metadata": {},
   "source": [
    "\"\"\"Describe the role of the `return` statement in Python functions and provide examples.\n",
    "\"\"\"\n",
    "\n",
    "It is used to return the result evaluated and end the execution of the function.\n"
   ]
  },
  {
   "cell_type": "raw",
   "id": "9d08a1ea",
   "metadata": {},
   "source": [
    "\"\"\"Explain the concept of variable scope in Python, including local and global variables\n",
    "\"\"\"\n",
    "\n",
    "A variable scope is the region where we can access a variable \n",
    "\n",
    "Based on the scope :\n",
    "1)local Variable \n",
    "2)Global Variable \n",
    "3)Non local \n",
    "\n",
    "Local Variables :When we declare variables inside a function these variable will have a local scope.\n",
    "\n",
    "Global variables :A variable declared outside of the function or in global scope is a global variable \n",
    "\n",
    "\n",
    "Non Local Variable : A variable are used in nested function whose local scope is not defined \n"
   ]
  },
  {
   "cell_type": "code",
   "execution_count": 7,
   "id": "c0bba183",
   "metadata": {},
   "outputs": [
    {
     "name": "stdout",
     "output_type": "stream",
     "text": [
      "Inside local variable \n"
     ]
    }
   ],
   "source": [
    "\"\"\"Write a Python program that demonstrates the use of global variables within functions.\n",
    "\"\"\"\n",
    "\n",
    "def show ():\n",
    "    global local\n",
    "    local=\" Inside local variable \"       \n",
    "show ()\n",
    "print (local)"
   ]
  },
  {
   "cell_type": "code",
   "execution_count": 12,
   "id": "ef15f2a1",
   "metadata": {},
   "outputs": [
    {
     "name": "stdout",
     "output_type": "stream",
     "text": [
      "120\n"
     ]
    }
   ],
   "source": [
    "\"\"\"Create a Python function that calculates the factorial of a number and returns it.\n",
    "\"\"\"\n",
    "\n",
    "def fact(n):\n",
    "    if n<=1:\n",
    "        return 1\n",
    "    else :\n",
    "        return n*fact(n-1)\n",
    "print (fact(5)) "
   ]
  },
  {
   "cell_type": "code",
   "execution_count": 14,
   "id": "408d44f4",
   "metadata": {},
   "outputs": [
    {
     "name": "stdout",
     "output_type": "stream",
     "text": [
      "99\n"
     ]
    }
   ],
   "source": [
    "\"\"\"How can you access variables defined outside a function from within the function?\n",
    "\"\"\"\n",
    "\n",
    "gvariable = 42\n",
    "\n",
    "def modify_global():\n",
    "    global gvariable\n",
    "    gvariable = 99\n",
    "\n",
    "modify_global()\n",
    "print(gvariable)\n"
   ]
  },
  {
   "cell_type": "markdown",
   "id": "25eb376a",
   "metadata": {},
   "source": [
    "# Lambda Functions and Higher-Order Functions:"
   ]
  },
  {
   "cell_type": "raw",
   "id": "eefa7851",
   "metadata": {},
   "source": [
    "What are lambda functions in Python, and when are they typically used?\n",
    "\n",
    "lambda functions are those functions which have small anonymous expression.\n",
    "\n",
    "It can be used when function expression is small and also when we want to pass function as argument.\n",
    "\n"
   ]
  },
  {
   "cell_type": "code",
   "execution_count": null,
   "id": "9117f7b3",
   "metadata": {},
   "outputs": [],
   "source": [
    "\"\"\"Write a Python program that uses lambda functions to sort a list of tuples based on the second element\n",
    "\"\"\""
   ]
  },
  {
   "cell_type": "code",
   "execution_count": 17,
   "id": "fde179ff",
   "metadata": {},
   "outputs": [
    {
     "name": "stdout",
     "output_type": "stream",
     "text": [
      "4\n"
     ]
    }
   ],
   "source": [
    "\"\"\"Explain the concept of higher-order functions in Python, and provide an example.\n",
    "\"\"\"\n",
    "\n",
    "\"\"\"Higher order function are those which takes another function as argumnet \n",
    "\"\"\"\n",
    "\n",
    "def square(n):\n",
    "    return n*n\n",
    "\n",
    "\n",
    "def show (fun):\n",
    "    print(fun(2)) \n",
    "    \n",
    "\n",
    "show(square)\n",
    "\n"
   ]
  },
  {
   "cell_type": "code",
   "execution_count": 31,
   "id": "c6426834",
   "metadata": {},
   "outputs": [
    {
     "name": "stdout",
     "output_type": "stream",
     "text": [
      "[4, 9, 16]\n"
     ]
    }
   ],
   "source": [
    "\"\"\"Create a Python function that takes a list of numbers and a function as arguments, applying the function to each element in the list.\n",
    "\"\"\"\n",
    "def square (l):\n",
    "    nl=[]\n",
    "    limit=len(l)\n",
    "    \n",
    "    for i in range (0,limit):     \n",
    "        nl.append(l[i]*l[i])\n",
    "    return nl\n",
    "\n",
    "def show (fun,arg):\n",
    "    print(fun(l))\n",
    "\n",
    "l=[2,3,4]\n",
    "show(square,l)"
   ]
  },
  {
   "cell_type": "markdown",
   "id": "10fe7212",
   "metadata": {},
   "source": [
    "# Built-in Functions:"
   ]
  },
  {
   "cell_type": "raw",
   "id": "40a93820",
   "metadata": {},
   "source": [
    "Describe the role of built-in functions like `len()`, `max()`, and `min()` in Python.\n",
    "\n",
    "\n",
    "len():Length function is used to find the length of the list\n",
    "max():Find the maximun element in the list\n",
    "min():Find the minimun element in the list "
   ]
  },
  {
   "cell_type": "code",
   "execution_count": 33,
   "id": "9bb818a7",
   "metadata": {},
   "outputs": [
    {
     "name": "stdout",
     "output_type": "stream",
     "text": [
      "[1, 4, 9, 16]\n"
     ]
    }
   ],
   "source": [
    "\"\"\"Write a Python program that uses the `map()` function to apply a function to each element of a list.\n",
    "\"\"\"\n",
    "\n",
    "def square(n):\n",
    "    return n*n\n",
    "\n",
    "l=[1,2,3,4]\n",
    "newlist=map(square,l)\n",
    "\n",
    "l=list(newlist)\n",
    "print (l)"
   ]
  },
  {
   "cell_type": "markdown",
   "id": "b8d6eedd",
   "metadata": {},
   "source": [
    "# Function Documentation and Best Practices:"
   ]
  },
  {
   "cell_type": "raw",
   "id": "d7ca01ec",
   "metadata": {},
   "source": [
    "\"\"\"Explain the purpose of docstrings in Python functions and how to write them.\n",
    "\"\"\"\n",
    "Docstrings is used to give the description of the function and  it is used to tell about the function name and it's return type \n",
    "\n",
    "\n",
    "def square(n):\n",
    "    \"\"\"accept the number and return the square of the number\n",
    "    \"\"\"\n",
    "    return n*n\n",
    "\n",
    "print (square(5))\n",
    "print (square.__doc__)\n"
   ]
  },
  {
   "cell_type": "raw",
   "id": "2d3b38d1",
   "metadata": {},
   "source": [
    "Describe some best practices for naming functions and variables in Python, including naming conventions and guidelines.\n",
    "\n",
    "1)Function name and variable name should not be keyword.\n",
    "2)Function name and variable name should not start with number.\n",
    "3)Function name and variable name should not start with special character.\n",
    "4)Function name and variable should be related to it's task."
   ]
  }
 ],
 "metadata": {
  "kernelspec": {
   "display_name": "Python 3 (ipykernel)",
   "language": "python",
   "name": "python3"
  },
  "language_info": {
   "codemirror_mode": {
    "name": "ipython",
    "version": 3
   },
   "file_extension": ".py",
   "mimetype": "text/x-python",
   "name": "python",
   "nbconvert_exporter": "python",
   "pygments_lexer": "ipython3",
   "version": "3.10.9"
  }
 },
 "nbformat": 4,
 "nbformat_minor": 5
}
