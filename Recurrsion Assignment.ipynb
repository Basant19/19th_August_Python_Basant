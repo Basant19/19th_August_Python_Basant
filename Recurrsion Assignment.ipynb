{
 "cells": [
  {
   "cell_type": "raw",
   "id": "d449a8c3",
   "metadata": {},
   "source": [
    "'''Can you explain the logic and working of the Tower of Hanoi algorithm by writing a Java program? \n",
    "How does the recursion work, and how are the movements of disks between rods accomplished?\n",
    "?\n",
    "'''\n",
    "\n",
    "In tower of hannoi we have two rules \n",
    "1)Move one disk at a time \n",
    "2)No big disk should be placed over a small disk\n",
    "\n",
    "\n",
    "def htower (n,sour,destin,aux):\n",
    "    if n==1:\n",
    "        print ('Move disk 1 {} to {} '.format(sour,destin))\n",
    "    else:\n",
    "        htower (n-1,sour,aux,destin)\n",
    "        print ('Move disk {} from {} to {}'.format(n,sour,destin))\n",
    "        htower (n-1,aux,destin,sour)\n",
    "n=3\n",
    "htower (n,'A','B','C')\n"
   ]
  },
  {
   "cell_type": "code",
   "execution_count": null,
   "id": "eb535950",
   "metadata": {},
   "outputs": [],
   "source": [
    "'''Q.2 Given two strings word1 and word2, return the minimum number of operations required to convert word1\n",
    "to word2.\n",
    "Example 1:\n",
    "Input: word1 = \"horse\", word2 = \"ros\"\n",
    "Output: 3\n",
    "Explanation:\n",
    "horse -> rorse (replace 'h' with 'r')\n",
    "rorse -> rose (remove 'r')\n",
    "rose -> ros (remove 'e')\n",
    "Example 2:\n",
    "Input: word1 = \"intention\", word2 = \"execution\"\n",
    "Output: 5\n",
    "Explanation:\n",
    "intention -> inention (remove 't')\n",
    "inention -> enention (replace 'i' with 'e')\n",
    "enention -> exention (replace 'n' with 'x')\n",
    "exention -> exection (replace 'n' with 'c')\n",
    "exection -> execution (insert 'u')\n",
    "'''\n",
    "\n",
    "def conversion(str1, str2):\n",
    "    def working(m, n):\n",
    "        \n",
    "        if m == 0:\n",
    "            return n\n",
    "        if n == 0:\n",
    "            return m\n",
    "\n",
    "      \n",
    "        if str1[m - 1] == str2[n - 1]:\n",
    "            return working(m - 1, n - 1)\n",
    "\n",
    "       \n",
    "        return 1 + min(working(m, n - 1),    \n",
    "                       working(m - 1, n),    \n",
    "                       working(m - 1, n - 1)) \n",
    "\n",
    "    \n",
    "    return working(len(str1), len(str2))\n",
    "\n",
    "\n",
    "str1 = \"kitten\"\n",
    "str2 = \"sitting\"\n",
    "numofcoversion = conversion (str1,str2)\n",
    "print(\" To change {} to {} number of conversion is : {} \".format (str1,str2,numofcoversion ) )"
   ]
  },
  {
   "cell_type": "code",
   "execution_count": 20,
   "id": "e542129a",
   "metadata": {},
   "outputs": [
    {
     "name": "stdout",
     "output_type": "stream",
     "text": [
      "Maximum value is:  2\n"
     ]
    }
   ],
   "source": [
    "'''Q. 3 Print the max value of the array [ 13, 1, -3, 22, 5].\n",
    "'''\n",
    "def maxi(arr,m,l):\n",
    "     if l <= 0:\n",
    "        return m\n",
    "    \n",
    "    if arr[l-1]>m:\n",
    "        m=arr[l-1]\n",
    "    else :\n",
    "        return maxi (arr,m,l-1)\n",
    "    return m\n",
    "\n",
    "arr=[4,6]\n",
    "m=arr[0]\n",
    "l=len (arr)\n",
    "ans=maxi(arr,m,l)\n",
    "print (\"Maximum value is: \",ans)"
   ]
  },
  {
   "cell_type": "code",
   "execution_count": null,
   "id": "fba10878",
   "metadata": {},
   "outputs": [],
   "source": []
  },
  {
   "cell_type": "code",
   "execution_count": 28,
   "id": "eb55ba6a",
   "metadata": {},
   "outputs": [
    {
     "name": "stdout",
     "output_type": "stream",
     "text": [
      "6\n"
     ]
    }
   ],
   "source": [
    "'''Find the sum of the values of the array [92, 23, 15, -20, 10].\n",
    "'''\n",
    "\n",
    "def suma (arr,l):\n",
    "    \n",
    "    if l<=0:\n",
    "        return 0\n",
    "    else :\n",
    "        return arr[l-1]+suma(arr,l-1)\n",
    "     \n",
    "\n",
    "arr=[1,2,3]\n",
    "l=len (arr)\n",
    "print (suma (arr,l))"
   ]
  },
  {
   "cell_type": "code",
   "execution_count": 32,
   "id": "1bd88b4a",
   "metadata": {},
   "outputs": [
    {
     "name": "stdout",
     "output_type": "stream",
     "text": [
      "Yes\n"
     ]
    }
   ],
   "source": [
    "'''Given a number n. Print if it is an armstrong number or not.An armstrong number is a number if the sum \n",
    "of every digit in that number raised to the power of total digits in that number is equal to the number.\n",
    "\n",
    "Example : 153 = 1^3 + 5^3 + 3^3 = 1 + 125 + 27 = 153 hence 153 is an armstrong number. (Easy)\n",
    "\n",
    "Input1 : 153\n",
    "\n",
    "Output1 : Yes\n",
    "\n",
    "Input 2 : 134\n",
    "\n",
    "Output2 : No\n",
    "\n",
    "'''\n",
    "\n",
    "def arm(n, power):\n",
    "    if n == 0:\n",
    "        return 0\n",
    "    else:\n",
    "        l = n % 10\n",
    "        return l ** power + arm(n // 10, power)\n",
    "\n",
    "n = 153\n",
    "num_digits = len(str(n))\n",
    "res = arm(n, num_digits)\n",
    "\n",
    "if n == res:\n",
    "    print(\"Yes\")\n",
    "else:\n",
    "    print(\"No\")\n"
   ]
  }
 ],
 "metadata": {
  "kernelspec": {
   "display_name": "Python 3 (ipykernel)",
   "language": "python",
   "name": "python3"
  },
  "language_info": {
   "codemirror_mode": {
    "name": "ipython",
    "version": 3
   },
   "file_extension": ".py",
   "mimetype": "text/x-python",
   "name": "python",
   "nbconvert_exporter": "python",
   "pygments_lexer": "ipython3",
   "version": "3.10.9"
  }
 },
 "nbformat": 4,
 "nbformat_minor": 5
}
