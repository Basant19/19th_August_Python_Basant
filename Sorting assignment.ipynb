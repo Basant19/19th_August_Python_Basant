{
 "cells": [
  {
   "cell_type": "code",
   "execution_count": 2,
   "id": "09e6e8bc",
   "metadata": {},
   "outputs": [
    {
     "name": "stdout",
     "output_type": "stream",
     "text": [
      " Max number of repeatation : 7\n"
     ]
    }
   ],
   "source": [
    "'''\n",
    "Given an array of n numbers , give an algorithm which gives the element appearing\n",
    "maximum number of times \n",
    "'''\n",
    "\n",
    "def check (arr,l):\n",
    "    maxno=0\n",
    "    \n",
    "    for i in range (0,l):\n",
    "        count=0\n",
    "        for j in range (0,l):\n",
    "            if arr[i] == arr[j]:\n",
    "                count =count +1\n",
    "        if count >maxno:\n",
    "            maxno=count\n",
    "            maxnoofrepeat=arr[i]\n",
    "    return maxnoofrepeat \n",
    "\n",
    "\n",
    "\n",
    "arr=[10,7,7,7,7,7,7,5,3,2,1,3,5,5,5,5,7]\n",
    "l=len (arr)\n",
    "ans=check (arr,l)\n",
    "print (\" Max number of repeatation :\", ans)\n"
   ]
  },
  {
   "cell_type": "code",
   "execution_count": 3,
   "id": "5d08f28f",
   "metadata": {},
   "outputs": [
    {
     "name": "stdout",
     "output_type": "stream",
     "text": [
      "5\n"
     ]
    }
   ],
   "source": [
    "'''\n",
    "We are given a list of n-1 integers and these integers are in the range of 1 to n . There are no \n",
    "duplicates in the list. One of the integers is missing in the list. Give an algorithm to find that element Ex: \n",
    "[1,2,4,6,3,7,8] 5 is the missing num.\n",
    "\n",
    "'''\n",
    "\n",
    "arr=[1,2,3,4,6,7,8,9,10]\n",
    "start=1\n",
    "end = 10\n",
    "for i in range (start,end):\n",
    "    if i not in arr:\n",
    "        print (i)\n"
   ]
  },
  {
   "cell_type": "code",
   "execution_count": null,
   "id": "6a2379ad",
   "metadata": {},
   "outputs": [],
   "source": [
    "'''Give an array of n positive numbers.All numbers occurs even number of times \n",
    "   except odd numbers of times.Find that numbers in o(n) time and o(1) space.\n",
    "   Ex [1,2,3,2,3,1,3]. 3 is repeats odd times.\n",
    "'''\n",
    "\n",
    "def check_odd (arr):\n",
    "    res= 0\n",
    "    for num i arr:\n",
    "        result ^=num\n",
    "    return res\n",
    "\n",
    "\n",
    "arr=[1,2,3,2,3,1,3]\n",
    "odd_element=check_odd(arr)\n",
    "print (\"The element that occur odd times\",odd_element)"
   ]
  },
  {
   "cell_type": "code",
   "execution_count": null,
   "id": "30c1160b",
   "metadata": {},
   "outputs": [],
   "source": [
    "'''Given an array of n elements.Find two elements such that their sum is equal \n",
    "   to the given number.\n",
    "'''\n",
    "\n",
    "def targetsum(arr, target):\n",
    "    arr.sort()  \n",
    "    start = 0\n",
    "    end = len(arr) - 1\n",
    "    \n",
    "    while start < end:\n",
    "        currsum = arr[start] + arr[end]\n",
    "        if currsum == target:\n",
    "            print(f\"The two numbers are: {arr[start]} and {arr[end]} whose sum is: {target}\")\n",
    "            return  # Exit the function once a pair is found\n",
    "        elif currsum < target:\n",
    "            start += 1\n",
    "        else:\n",
    "            end -= 1\n",
    "    \n",
    "    print(\"No two numbers found\")\n",
    "\n",
    "arr = [10, 5, 4, 1]\n",
    "target = 15\n",
    "targetsum(arr, target)\n"
   ]
  },
  {
   "cell_type": "code",
   "execution_count": null,
   "id": "2673bdc8",
   "metadata": {},
   "outputs": [],
   "source": [
    "'''Given an array of n elements. Find three elements such that their sum is equal to the given number.\n",
    "'''\n",
    "\n",
    "def targetsum(arr, target):\n",
    "    arr.sort()\n",
    "    n = len(arr)\n",
    "    \n",
    "    for i in range(n - 2):\n",
    "        start = i + 1\n",
    "        end = n - 1\n",
    "        \n",
    "        while start < end:\n",
    "            currsum = arr[i] + arr[start] + arr[end]\n",
    "            if currsum == target:\n",
    "                print(f\"The three numbers are: {arr[i]}, {arr[start]}, and {arr[end]} whose sum is: {target}\")\n",
    "                return \n",
    "            elif currsum < target:\n",
    "                start += 1\n",
    "            else:\n",
    "                end -= 1\n",
    "    \n",
    "    print(\"No three numbers found\")\n",
    "\n",
    "arr = [10, 5, 4, 1]\n",
    "target = 15\n",
    "targetsum(arr, target)\n"
   ]
  },
  {
   "cell_type": "code",
   "execution_count": 1,
   "id": "90c73fce",
   "metadata": {},
   "outputs": [
    {
     "name": "stdout",
     "output_type": "stream",
     "text": [
      "The two numbers whose sum is closest to 0 are: -80 and 85 with a sum of: 5\n"
     ]
    }
   ],
   "source": [
    "\" Given an array of both positive and negative numbers, find two numbers such that their sum is closest to 0. Ex: [ 1 ,60 ,-10, 70, -80,85] Ans : -80,85.\" \n",
    "\n",
    "\n",
    "\n",
    "def closest_sum_to_zero(arr):\n",
    "    arr.sort() \n",
    "    n = len(arr)\n",
    "    \n",
    "    \n",
    "    closest_sum = float('inf')\n",
    "    closest_pair = (None, None)\n",
    "    \n",
    "    \n",
    "    start = 0\n",
    "    end   = n-1\n",
    "    while start < end:\n",
    "        currsum = arr[start] + arr[end]\n",
    "        \n",
    "        \n",
    "        if abs(currsum) < abs(closest_sum):\n",
    "            closest_sum = currsum\n",
    "            closest_pair = (arr[start], arr[end])\n",
    "        \n",
    "        \n",
    "        if currsum < 0:\n",
    "            start += 1\n",
    "        else:\n",
    "            end -= 1\n",
    "    \n",
    "    print(f\"The two numbers whose sum is closest to 0 are: {closest_pair[0]} and {closest_pair[1]} with a sum of: {closest_sum}\")\n",
    "\n",
    "\n",
    "arr = [1, 60, -10, 70, -80, 85]\n",
    "closest_sum_to_zero(arr)"
   ]
  },
  {
   "cell_type": "code",
   "execution_count": 5,
   "id": "5acdf570",
   "metadata": {},
   "outputs": [
    {
     "name": "stdout",
     "output_type": "stream",
     "text": [
      "2\n"
     ]
    }
   ],
   "source": [
    "'''An element is a majority if it appears more than n/2 times. Given an algorithm takes an array of n elements as argument and identifies a majority (if it exists).\n",
    "'''\n",
    "\n",
    "def majoritysearch (arr):    \n",
    "    newelement=0\n",
    "    count=0\n",
    "    for i in range (0 ,len (arr) ):\n",
    "        if count ==0:\n",
    "            newelement=arr[i]\n",
    "        \n",
    "        if newelement == arr[i]:\n",
    "            count +=1\n",
    "        else:\n",
    "            count -=1\n",
    "    \n",
    "      \n",
    "    count = 0\n",
    "    \n",
    "    for i in range(len(arr)):\n",
    "        if arr[i] == newelement:\n",
    "            count += 1\n",
    "\n",
    "    if count > len(arr) // 2:\n",
    "        return newelement\n",
    "    else:\n",
    "        return None\n",
    "    \n",
    "        \n",
    "arr = [2, 2, 1, 2, 2,3,2]\n",
    "print(majoritysearch(arr))  "
   ]
  },
  {
   "cell_type": "code",
   "execution_count": 6,
   "id": "e0f76562",
   "metadata": {},
   "outputs": [
    {
     "name": "stdout",
     "output_type": "stream",
     "text": [
      "Row with maximum number of zeros is: 2\n"
     ]
    }
   ],
   "source": [
    "'''Give n*m matirx,and in each row all 1's are followed by 0's.Find the row with the maximum number of 0's \n",
    "'''\n",
    "\n",
    "def find_max_zeros(arr, n, m):\n",
    "    rowin = 0\n",
    "    columnin = m - 1\n",
    "    ans = -1\n",
    "    max_zeros = 0\n",
    "\n",
    "    while rowin < n and columnin >= 0:\n",
    "        if arr[rowin][columnin] == 0:\n",
    "            max_zeros = m - columnin\n",
    "            ans = rowin\n",
    "            columnin -= 1\n",
    "        else:\n",
    "            rowin += 1\n",
    "\n",
    "    return ans\n",
    "\n",
    "arr = [\n",
    "    [1, 1, 1, 0, 0],\n",
    "    [1, 1, 0, 0, 0],\n",
    "    [1, 0, 0, 0, 0],\n",
    "    [1, 1, 1, 1, 0]\n",
    "]\n",
    "n = len(arr)\n",
    "m = len(arr[0])\n",
    "print(\"Row with maximum number of zeros is:\", find_max_zeros(arr, n, m))\n",
    "       "
   ]
  },
  {
   "cell_type": "code",
   "execution_count": null,
   "id": "a023db24",
   "metadata": {},
   "outputs": [],
   "source": []
  },
  {
   "cell_type": "code",
   "execution_count": 9,
   "id": "ad88d1d5",
   "metadata": {},
   "outputs": [
    {
     "name": "stdout",
     "output_type": "stream",
     "text": [
      "[0, 0, 0, 0, 0, 1, 1, 1, 1, 1, 2, 2]\n"
     ]
    }
   ],
   "source": [
    "'''Sort an array of 0's,1's and 2's [or R's, G's and B's].Given an array A[] consisting of 0's,1's and 2's\n",
    "   give an algorithm of sorting A[].The algorithm should put all 0's first , then all's and finally all\n",
    "   2's at the end. Example input = {0,1,1,1,0,2,1,2,0,0,0,1}, output = {0,0,0,0,0,1,1,1,1,2,2}\n",
    "'''\n",
    "\n",
    "\n",
    "def check (arr):\n",
    "    low = 0\n",
    "    mid = 0\n",
    "    high = len(arr) - 1\n",
    "\n",
    "    while mid <= high:\n",
    "        if arr[mid] == 0:\n",
    "            arr[low], arr[mid] = arr[mid], arr[low]\n",
    "            low += 1\n",
    "            mid += 1\n",
    "        elif arr[mid] == 1:\n",
    "            mid += 1\n",
    "        else:\n",
    "            arr[mid], arr[high] = arr[high], arr[mid]\n",
    "            high -= 1\n",
    "    return arr\n",
    "\n",
    "arr = [0, 1, 1, 1, 0, 2, 1, 2, 0, 0, 0, 1]\n",
    "print(check(arr))"
   ]
  }
 ],
 "metadata": {
  "kernelspec": {
   "display_name": "Python 3 (ipykernel)",
   "language": "python",
   "name": "python3"
  },
  "language_info": {
   "codemirror_mode": {
    "name": "ipython",
    "version": 3
   },
   "file_extension": ".py",
   "mimetype": "text/x-python",
   "name": "python",
   "nbconvert_exporter": "python",
   "pygments_lexer": "ipython3",
   "version": "3.10.9"
  }
 },
 "nbformat": 4,
 "nbformat_minor": 5
}
