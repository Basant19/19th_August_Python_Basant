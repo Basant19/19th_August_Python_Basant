{
 "cells": [
  {
   "cell_type": "markdown",
   "id": "86c7847c",
   "metadata": {},
   "source": [
    "# Basic Level"
   ]
  },
  {
   "cell_type": "code",
   "execution_count": null,
   "id": "0bb333eb",
   "metadata": {},
   "outputs": [],
   "source": [
    "'''\n",
    "Write a Python program to print the numbers from 1 to 10 using a `for` loop.\n",
    "'''\n",
    "\n",
    "for i in range (1,11):\n",
    "    print(i)\n"
   ]
  },
  {
   "cell_type": "code",
   "execution_count": null,
   "id": "92ecf2e4",
   "metadata": {},
   "outputs": [],
   "source": [
    "\"\"\"Create a program that calculates the sum of all numbers in a list using a `for` loop.\n",
    "\"\"\"\n",
    "\n",
    "l=[12,20,36,75]  \n",
    "\n",
    "sum=0;\n",
    "for i in l: #iterarting each element in list\n",
    "    sum=sum+i\n",
    "    \n",
    "print (\"sum of element present in list is :\",sum)    "
   ]
  },
  {
   "cell_type": "code",
   "execution_count": null,
   "id": "d8a9c8fa",
   "metadata": {},
   "outputs": [],
   "source": [
    "\"\"\"\n",
    "Write a program to print the characters of a string in reverse order using a `for` loop\n",
    "\"\"\"\n",
    "\n",
    "word='Basant'\n",
    "l=len(word)\n",
    "\n",
    "print(\"Before reversing:\",word)\n",
    "print(\"reversed word:\",end='')\n",
    "\n",
    "for i in range (l-1,-1,-1):\n",
    "    print(word[i],end='')"
   ]
  },
  {
   "cell_type": "code",
   "execution_count": null,
   "id": "be596369",
   "metadata": {},
   "outputs": [],
   "source": [
    "\"\"\"\n",
    "Develop a program that finds the factorial of a given number using a `for` loop\n",
    "\"\"\"\n",
    "number=int(input(\"Enter a number to find factorial:\"))\n",
    "fact=1\n",
    "for i in range (1,number+1):\n",
    "    fact=fact*i\n",
    "print (\"Factoril of \",number,'is:',fact)"
   ]
  },
  {
   "cell_type": "code",
   "execution_count": null,
   "id": "4aac004c",
   "metadata": {},
   "outputs": [],
   "source": [
    "\"\"\"Create a program to print the multiplication table of a given number using a `for` loop.\n",
    "\"\"\"\n",
    "\n",
    "\n",
    "tablenumber=int(input(\"Enter a number to print it's table:\" ))\n",
    " \n",
    "for i in range (1,11):\n",
    "    print(i,'*',tablenumber,'=',i*tablenumber)\n",
    "\n"
   ]
  },
  {
   "cell_type": "code",
   "execution_count": null,
   "id": "69e3fe93",
   "metadata": {},
   "outputs": [],
   "source": [
    "\"\"\"\n",
    " Write a program that counts the number of even and odd numbers in a list using a `for` loop\n",
    "\"\"\"\n",
    "\n",
    "l=[12,55,62,10,3,13,47]\n",
    "even=0\n",
    "odd=0\n",
    "\n",
    "\n",
    "for i in l:\n",
    "    if (i%2==0):\n",
    "        even=even+1\n",
    "    else:\n",
    "        odd=odd+1\n",
    "\n",
    "print(\" no. of even number is: \",even)\n",
    "print(\" no. of odd number is :\",odd)\n"
   ]
  },
  {
   "cell_type": "code",
   "execution_count": null,
   "id": "a0b56ac3",
   "metadata": {},
   "outputs": [],
   "source": [
    "\"\"\"\n",
    "Develop a program that prints the squares of numbers from 1 to 5 using a `for` loop.\n",
    "\n",
    "\"\"\"\n",
    "\n",
    "\n",
    "for i in range (1,6):\n",
    "    print (\"Squrae of\",i,\"is:\",i*i)\n",
    "    \n",
    "    "
   ]
  },
  {
   "cell_type": "code",
   "execution_count": null,
   "id": "82bd282e",
   "metadata": {},
   "outputs": [],
   "source": [
    "\"\"\"\n",
    "Create a program to find the length of a string without using the `len()` function.\n",
    "\n",
    "\"\"\"\n",
    "\n",
    "s=\"Basant\"\n",
    "count=0\n",
    "for i in s:\n",
    "    count=count+1 #count gets incremented after each iteration\n",
    "print(\"Length of string is :\",count)"
   ]
  },
  {
   "cell_type": "code",
   "execution_count": null,
   "id": "8061f4be",
   "metadata": {},
   "outputs": [],
   "source": [
    "\"\"\"\n",
    "Write a program that calculates the average of a list of numbers using a `for` loop\n",
    "\"\"\"\n",
    "\n",
    "\n",
    "l=[10,20,30]\n",
    "checknumberofelement=len(l)\n",
    "avg=0\n",
    "sum=0\n",
    "\n",
    "\n",
    "for i in l:\n",
    "    sum=sum+i\n",
    "\n",
    "avg=sum/checknumberofelement\n",
    "print (\"Average is :\",avg)"
   ]
  },
  {
   "cell_type": "code",
   "execution_count": null,
   "id": "8d709326",
   "metadata": {},
   "outputs": [],
   "source": [
    "\"\"\"\n",
    "Develop a program that prints the first `n` Fibonacci numbers using a `for` loop\n",
    "\n",
    "\"\"\"\n",
    "\n",
    "\n",
    "n=int(input(\"Enter the nth term\"))\n",
    "\n",
    "firstnumber=0\n",
    "secondnumber=1\n",
    "newnumber=0\n",
    "\n",
    "for i in range (1,n+1):\n",
    "    print(firstnumber,end=\" \")\n",
    "    newnumber=firstnumber+secondnumber #adding firstnumber and second number\n",
    "    firstnumber=secondnumber #swapping of number takeplace\n",
    "    secondnumber=newnumber   \n",
    "    "
   ]
  },
  {
   "cell_type": "markdown",
   "id": "3ae5cdee",
   "metadata": {},
   "source": [
    "# Intermediate Level"
   ]
  },
  {
   "cell_type": "code",
   "execution_count": null,
   "id": "936efd1b",
   "metadata": {},
   "outputs": [],
   "source": [
    "\"\"\"\n",
    "Write a program to check if a given list contains any duplicates using a `for` loop.\n",
    "\n",
    "\"\"\"\n",
    "\n",
    "l=[45,34,60,60]\n",
    "\n",
    "llen=len(l)\n",
    "flag=False\n",
    "\n",
    "for i in range(0,llen):\n",
    "    check=l[i] #pick one element at a time \n",
    "    print(check)\n",
    "    \n",
    "    for j in range (1):#pick \n",
    "        if(check==l[j]):\n",
    "            flag=True\n",
    "            \n",
    "                        \n",
    "    \n",
    "if (flag==True):\n",
    "    print (\"Duplicate element found\")\n",
    "else :\n",
    "    print (\" Duplicate elemnt not found\")\n",
    "     "
   ]
  },
  {
   "cell_type": "code",
   "execution_count": null,
   "id": "e61d794e",
   "metadata": {},
   "outputs": [],
   "source": [
    "\"\"\"\n",
    "\n",
    " Create a program that prints the prime numbers in a given range using a `for` loop.\n",
    "\n",
    "\"\"\"\n",
    "\n",
    "\n",
    "startpoint = int(input(\"Enter the start number: \"))\n",
    "endpoint = int(input(\"Enter the end number: \"))\n",
    "\n",
    "if startpoint < 2:\n",
    "    start = 2\n",
    "\n",
    "\n",
    "for num in range(start, endpoint + 1):\n",
    "    if num > 1:\n",
    "        is_prime = True\n",
    "        for i in range(2,num):\n",
    "            if num % i == 0:\n",
    "                is_prime = False\n",
    "                break\n",
    "        if is_prime:\n",
    "            print(num)"
   ]
  },
  {
   "cell_type": "code",
   "execution_count": null,
   "id": "532b1a34",
   "metadata": {},
   "outputs": [],
   "source": [
    "\"\"\"\n",
    "Develop a program that counts the number of vowels in a string using a `for` loop\n",
    "\"\"\"\n",
    "word=input(\"Enter a element\")\n",
    "\n",
    "lowercaseword=word.lower()\n",
    "\n",
    "vowelcount=0\n",
    "\n",
    "for i in lowercaseword:\n",
    "    \n",
    "    if (i=='a'or i=='e'or i=='i' or i=='o' or i=='u'):\n",
    "        vowelcount=vowelcount+1\n",
    "print(vowelcount)        "
   ]
  },
  {
   "cell_type": "code",
   "execution_count": null,
   "id": "317ffcf2",
   "metadata": {},
   "outputs": [],
   "source": [
    "\"\"\"\n",
    "Write a program to find the maximum element in a 2D list using a nested `for` loop.\n",
    "\"\"\"\n",
    "\n",
    "matrix=[\n",
    "   [10,25,36],\n",
    "    [20,30,40],\n",
    "    [90,30,90]    \n",
    "]\n",
    "max_element=matrix[0][0]\n",
    "\n",
    "for i in range (len(matrix)):\n",
    "    for j in range (len(matrix[i])):\n",
    "        if(matrix[i][j]>max_element):\n",
    "            max_element=matrix[i][j]\n",
    "            \n",
    "        \n",
    "        \n",
    "    \n",
    "print(max_element)\n",
    "\n",
    "\n"
   ]
  },
  {
   "cell_type": "code",
   "execution_count": null,
   "id": "d3c96aa9",
   "metadata": {},
   "outputs": [],
   "source": [
    "\"\"\"\n",
    "Create a program that removes all occurrences of a specific element from a list using a `for` loop.\n",
    "\n",
    "\"\"\"\n",
    "\n",
    "l=[12,32,65,65]\n",
    "newl= list()\n",
    "\n",
    "print(l)\n",
    "\n",
    "remove=int(input(\"Enter the number to remove :\"))\n",
    "\n",
    "for i in l:\n",
    "    if i!=remove:\n",
    "        newl.append(i)\n",
    "    \n",
    "print(newl)        "
   ]
  },
  {
   "cell_type": "code",
   "execution_count": null,
   "id": "3ef4da21",
   "metadata": {},
   "outputs": [],
   "source": [
    "\"\"\"\n",
    "\n",
    "Develop a program that generates a multiplication table for numbers from 1 to 5 using a nested `for` loop\n",
    "\n",
    "\"\"\"\n",
    "\n",
    "for i in range(1,6):\n",
    "    for j in range (1,11):\n",
    "        print(i,\"*\",j,\"=\",i*j)\n",
    "    print()\n",
    "       \n",
    "        "
   ]
  },
  {
   "cell_type": "code",
   "execution_count": null,
   "id": "024438ff",
   "metadata": {},
   "outputs": [],
   "source": [
    "\"\"\"\n",
    "Write a program that converts a list of Fahrenheit temperatures to Celsius using a `for` loop\n",
    "\"\"\"\n",
    "\n",
    "farenlist=[45.2,65.5,75.3,94.5]\n",
    "print(\"Temperature in farenheit:\",farenlist)\n",
    "cellist= list()\n",
    "\n",
    "for i in farenlist :\n",
    "    cel=((i-32)*(5/9))\n",
    "    cellist.append(cel)\n",
    "print(\"Temperature in celsius:\",cellist)    \n",
    "\n"
   ]
  },
  {
   "cell_type": "code",
   "execution_count": null,
   "id": "bc478dfa",
   "metadata": {},
   "outputs": [],
   "source": [
    "\"\"\"Create a program to print the common elements from two lists using a `for` loop.\n",
    "\"\"\"\n",
    "\n",
    "l1=[45,60,30,11]\n",
    "l2=[70,30,40,11]\n",
    "\n",
    "print(\"First list :\",l1)\n",
    "print(\"Second list :\",l2)\n",
    "\n",
    "newl=list()\n",
    "\n",
    "for i in l1:\n",
    "    for j in l2:\n",
    "        if i==j:\n",
    "            newl.append(j)\n",
    "print(\"common elementin a list: \",newl)"
   ]
  },
  {
   "cell_type": "code",
   "execution_count": null,
   "id": "8d2698df",
   "metadata": {},
   "outputs": [],
   "source": [
    "\"\"\"\n",
    "Develop a program that prints the pattern of right-angled triangles using a `for` loop. Use ‘*’ to draw the \n",
    "pattern\n",
    "\"\"\"\n",
    "for i in range (1,5):\n",
    "    for j in range (1,i+1):\n",
    "        print(\"*\",end=\" \")\n",
    "    print()    \n",
    "        \n"
   ]
  },
  {
   "cell_type": "code",
   "execution_count": null,
   "id": "f63cf921",
   "metadata": {},
   "outputs": [],
   "source": [
    "\"\"\"\n",
    "Write a program to find the greatest common divisor (GCD) of two numbers using a `for` loop.\n",
    "\"\"\"\n",
    "x =int(input(\"enter 1st number\"))\n",
    "y =int(input(\"enter 2nd number\"))\n",
    "\n",
    "mini=min(x,y)\n",
    "\n",
    "for i in range (1,mini+1):\n",
    "    if x%i==0 and y%i==0:\n",
    "        hcf=i\n",
    "print(hcf)        "
   ]
  },
  {
   "cell_type": "markdown",
   "id": "cee20173",
   "metadata": {},
   "source": [
    "# Advanced Level"
   ]
  },
  {
   "cell_type": "code",
   "execution_count": null,
   "id": "14060e29",
   "metadata": {},
   "outputs": [],
   "source": [
    "\"\"\"Create a program that calculates the sum of the digits of numbers in a list using a list comprehension.\n",
    "\"\"\"\n",
    "n = [12, 10, 13]\n",
    "\n",
    "def findsum(num):\n",
    "    sums = 0\n",
    "    temp = num\n",
    "    while temp > 0:\n",
    "        digit = temp % 10\n",
    "        sums = sums + digit\n",
    "        temp = temp // 10\n",
    "    return sums\n",
    "\n",
    "digit_sums = [findsum(num) for num in n]\n",
    "print(digit_sums)\n",
    "        "
   ]
  },
  {
   "cell_type": "code",
   "execution_count": 15,
   "id": "065935d4",
   "metadata": {},
   "outputs": [
    {
     "name": "stdout",
     "output_type": "stream",
     "text": [
      "Prime factors of 225 are: [3, 3, 5, 5]\n",
      "Prime factors of 110 are: [2, 5, 11]\n"
     ]
    }
   ],
   "source": [
    "\"\"\"Write a program to find the prime factors of a given number using a `for` loop and list comprehension\n",
    "\"\"\"\n",
    "def prime_factors(n):\n",
    "    factors = []\n",
    "    for i in range(2, n + 1):\n",
    "        while n % i == 0:\n",
    "            factors.append(i)\n",
    "            n //= i\n",
    "    return factors\n",
    "\n",
    "numbers = [225, 110]\n",
    "prime_factors_list = [prime_factors(num) for num in numbers]\n",
    "\n",
    "for i in range(len(numbers)):\n",
    "    print(\"Prime factors of\", numbers[i], \"are:\", prime_factors_list[i])\n",
    "\n"
   ]
  },
  {
   "cell_type": "code",
   "execution_count": 21,
   "id": "821baa75",
   "metadata": {},
   "outputs": [
    {
     "name": "stdout",
     "output_type": "stream",
     "text": [
      "[1, 2, 3, 4, 8, 9]\n"
     ]
    }
   ],
   "source": [
    "\"\"\"\n",
    "Develop a program that extracts unique elements from a list and stores them in a new list using a list \n",
    "comprehension\n",
    "\"\"\"\n",
    "l=[1,2,3,3,4,8,9,9,9]\n",
    "\n",
    "n = []\n",
    "[n.append(x) for x in l if x not in n]\n",
    "print(n)\n"
   ]
  },
  {
   "cell_type": "code",
   "execution_count": 1,
   "id": "70c0299b",
   "metadata": {},
   "outputs": [
    {
     "name": "stdout",
     "output_type": "stream",
     "text": [
      "Enter start number: 10\n",
      "Enter end number: 100\n",
      "Palindromic numbers in the range 10 to 100 are: [11, 22, 33, 44, 55, 66, 77, 88, 99]\n"
     ]
    }
   ],
   "source": [
    "\"\"\"Create a program that generates a list of all palindromic numbers up to a specified limit using a list \n",
    "comprehension\n",
    "\"\"\"\n",
    "start = int(input(\"Enter start number: \"))\n",
    "end = int(input(\"Enter end number: \"))\n",
    "\n",
    "def is_palindrome(number):\n",
    "    return str(number) == str(number)[::-1]\n",
    "\n",
    "\n",
    "palindromic_numbers = [i for i in range(start, end + 1) if is_palindrome(i)]\n",
    "\n",
    "print(\"Palindromic numbers in the range\", start, \"and\", end, \"are:\", palindromic_numbers)\n"
   ]
  },
  {
   "cell_type": "code",
   "execution_count": 1,
   "id": "c1f762d9",
   "metadata": {},
   "outputs": [
    {
     "name": "stdout",
     "output_type": "stream",
     "text": [
      "[1, 2, 3, 4, 5, 5, 10, 11]\n"
     ]
    }
   ],
   "source": [
    "\"\"\"Write a program to flatten a nested list using list comprehension\n",
    "\"\"\"\n",
    "nestedlist=[[1,2,3],[4,5],[5,10],[11]]\n",
    "flattedlist=[x for sublist in nestedlist for x in sublist ]\n",
    "print (flattedlist)"
   ]
  },
  {
   "cell_type": "code",
   "execution_count": 6,
   "id": "3cdc7dbc",
   "metadata": {},
   "outputs": [
    {
     "name": "stdout",
     "output_type": "stream",
     "text": [
      "Even numbers are: [2, 4, 6, 8]\n",
      "Sum of even numbers: 20\n",
      "Odd numbers are: [1, 3, 5, 7, 9]\n",
      "Sum of odd numbers: 25\n"
     ]
    }
   ],
   "source": [
    "\"\"\"Develop a program that computes the sum of even and odd numbers in a list separately using list \n",
    "comprehension\n",
    "\"\"\"\n",
    "nums = [1, 2, 3, 4, 5, 6, 7, 8, 9]\n",
    "\n",
    "even_num = [x for x in nums if x % 2 == 0]\n",
    "odd_num = [x for x in nums if x % 2 != 0]\n",
    "\n",
    "sum_even = sum(even_num)\n",
    "sum_odd = sum(odd_num)\n",
    "print(\"Even numbers are:\", even_num)\n",
    "print(\"Sum of even numbers:\", sum_even)\n",
    "print(\"Odd numbers are:\", odd_num)\n",
    "print(\"Sum of odd numbers:\", sum_odd)\n"
   ]
  },
  {
   "cell_type": "code",
   "execution_count": 7,
   "id": "8f5bca74",
   "metadata": {},
   "outputs": [
    {
     "name": "stdout",
     "output_type": "stream",
     "text": [
      "[1, 9, 25, 49, 81]\n"
     ]
    }
   ],
   "source": [
    "\"\"\"Create a program that generates a list of squares of odd numbers between 1 and 10 using list \n",
    "comprehension\n",
    "\"\"\"\n",
    "\n",
    "\n",
    "squarelist=[num*num for num in range(1,11) if num%2!=0 ]\n",
    "print (squarelist)\n"
   ]
  },
  {
   "cell_type": "code",
   "execution_count": 4,
   "id": "7486a28c",
   "metadata": {},
   "outputs": [
    {
     "name": "stdout",
     "output_type": "stream",
     "text": [
      "{'name': 'basant', 'id': '1', 'dept': 'cs'}\n"
     ]
    }
   ],
   "source": [
    "\"\"\"Write a program that combines two lists into a dictionary using list comprehension\n",
    "\"\"\"\n",
    "l1=[\"name\",\"id\",\"dept\"]\n",
    "l2=[\"basant\",\"1\",\"cs\"]\n",
    "l1=[\"name\",\"id\",\"dept\"]\n",
    "l2=[\"basant\",\"1\",\"cs\"]\n",
    "merged={l1[i]: l2[i]  for i in range (len(l1)) }\n",
    "print (merged)"
   ]
  },
  {
   "cell_type": "code",
   "execution_count": null,
   "id": "8156d02f",
   "metadata": {},
   "outputs": [],
   "source": []
  },
  {
   "cell_type": "code",
   "execution_count": 7,
   "id": "eccec014",
   "metadata": {},
   "outputs": [
    {
     "name": "stdout",
     "output_type": "stream",
     "text": [
      "Enter a string:basant\n",
      "['a', 'a']\n"
     ]
    }
   ],
   "source": [
    "\"\"\"Develop a program that extracts the vowels from a string and stores them in a list using list comprehension\n",
    "\"\"\"\n",
    "check=input(\"Enter a string:\")\n",
    "string=check.lower()\n",
    "vowels=['a','e','i','o','u']\n",
    "\n",
    "new_list=[x for x in string if x in vowels]\n",
    "\n",
    "print (new_list)\n"
   ]
  },
  {
   "cell_type": "code",
   "execution_count": 9,
   "id": "25f3a015",
   "metadata": {},
   "outputs": [
    {
     "name": "stdout",
     "output_type": "stream",
     "text": [
      "[1, 2, 3]\n"
     ]
    }
   ],
   "source": [
    "\"\"\"Create a program that removes all non-numeric characters from a list of strings using list comprehension\n",
    "\"\"\"\n",
    "check=['a',1,'b','/',2,3]\n",
    "number= [1,2,3,4,5,6,7,8,9,0]\n",
    "new_list=[x for x in check if x in number]\n",
    "\n",
    "print (new_list)\n"
   ]
  },
  {
   "cell_type": "markdown",
   "id": "3da9e184",
   "metadata": {},
   "source": [
    "# Challenge Level"
   ]
  },
  {
   "cell_type": "code",
   "execution_count": null,
   "id": "e38b60f7",
   "metadata": {},
   "outputs": [],
   "source": [
    "\"\"\" Write a program to generate a list of prime numbers using the Sieve of Eratosthenes algorithm and list \n",
    "comprehension\n",
    "\"\"\"\n",
    "n = int(input(\"Enter the upper limit to find prime numbers: \"))\n",
    "\n",
    "\n",
    "is_prime = [True] * (n + 1)\n",
    "is_prime[0] = is_prime[1] = False\n",
    "\n",
    "\n",
    "for current_number in range(2, int(n**0.5) + 1):\n",
    "    if is_prime[current_number]:\n",
    "        for multiple in range(current_number * current_number, n + 1, current_number):\n",
    "            is_prime[multiple] = False\n",
    "\n",
    "\n",
    "prime_numbers = [num for num in range(2, n + 1) if is_prime[num]]\n",
    "\n",
    "print(\"Prime numbers up to\", n, \"are:\", prime_numbers)\n"
   ]
  },
  {
   "cell_type": "code",
   "execution_count": 6,
   "id": "570bae07",
   "metadata": {},
   "outputs": [
    {
     "name": "stdout",
     "output_type": "stream",
     "text": [
      "Enter a limit: 40\n",
      "Pythagorean Triplets upto: 40\n",
      "(3, 4, 5)\n",
      "(5, 12, 13)\n",
      "(6, 8, 10)\n",
      "(7, 24, 25)\n",
      "(8, 15, 17)\n",
      "(9, 12, 15)\n",
      "(10, 24, 26)\n",
      "(12, 16, 20)\n",
      "(12, 35, 37)\n",
      "(15, 20, 25)\n",
      "(15, 36, 39)\n",
      "(16, 30, 34)\n",
      "(18, 24, 30)\n",
      "(20, 21, 29)\n",
      "(21, 28, 35)\n",
      "(24, 32, 40)\n"
     ]
    }
   ],
   "source": [
    "\"\"\"Create a program that generates a list of all Pythagorean triplets up to a specified limit using list \n",
    "comprehension.\n",
    "\"\"\"\n",
    "\n",
    "limit = int(input(\"Enter a limit: \"))\n",
    "\n",
    "triplets = [(a, b, c) for a in range(1, limit+1) for b in range(a, limit+1) for c in range(b, limit+1) if a**2 + b**2 == c**2]\n",
    "\n",
    "print(\"Pythagorean Triplets upto:\", limit)\n",
    "for triplet in triplets:\n",
    "    print(triplet)\n"
   ]
  },
  {
   "cell_type": "code",
   "execution_count": 5,
   "id": "bf7027f4",
   "metadata": {},
   "outputs": [
    {
     "name": "stdout",
     "output_type": "stream",
     "text": [
      "[('a', 1), ('b', 2), ('c', 3)]\n"
     ]
    }
   ],
   "source": [
    "\"\"\"Develop a program that generates a list of all possible combinations of two lists using list comprehension\n",
    "\"\"\"\n",
    "l1=['a','b','c']\n",
    "l2=[1,2,3]\n",
    "\n",
    "new_list=[(l1[i],l2[i]) for i in range(len(l1))]\n",
    "print (new_list)"
   ]
  },
  {
   "cell_type": "code",
   "execution_count": null,
   "id": "7bc4ed87",
   "metadata": {},
   "outputs": [],
   "source": [
    "\"\"\"Write a program that calculates the mean, median, and mode of a list of numbers using list \n",
    "comprehension\n",
    "\"\"\"\n"
   ]
  },
  {
   "cell_type": "code",
   "execution_count": null,
   "id": "6a99e81d",
   "metadata": {},
   "outputs": [],
   "source": [
    "\"\"\"Create a program that generates Pascal's triangle up to a specified number of rows using list \n",
    "comprehension\n",
    "\"\"\"\n",
    "\n",
    "\n"
   ]
  },
  {
   "cell_type": "code",
   "execution_count": null,
   "id": "87afcb15",
   "metadata": {},
   "outputs": [],
   "source": [
    "\"\"\"Develop a program that calculates the sum of the digits of a factorial of numbers from 1 to 5 using list \n",
    "comprehension.\n",
    "\"\"\"\n",
    "\n"
   ]
  },
  {
   "cell_type": "code",
   "execution_count": 19,
   "id": "ae2c011e",
   "metadata": {},
   "outputs": [
    {
     "name": "stdout",
     "output_type": "stream",
     "text": [
      "Enter a sentence: ghgfbttt tgyh hgygm n\n",
      "The longest word in the sentence is: ghgfbttt\n"
     ]
    }
   ],
   "source": [
    "\"\"\"Write a program that finds the longest word in a sentence using list comprehension\n",
    "\"\"\"\n",
    "\n",
    "sentence = input(\"Enter a sentence: \")\n",
    "\n",
    "words = sentence.split()\n",
    "\n",
    "\n",
    "lword = max(words, key=lambda word: len(word))\n",
    "\n",
    "print(\"The longest word in the sentence is:\",lword)\n"
   ]
  },
  {
   "cell_type": "code",
   "execution_count": 29,
   "id": "f1c8eb6e",
   "metadata": {},
   "outputs": [
    {
     "name": "stdout",
     "output_type": "stream",
     "text": [
      "[]\n"
     ]
    }
   ],
   "source": [
    "\"\"\"Create a program that filters a list of strings to include only those with more than three vowels using list \n",
    "comprehension\n",
    "\"\"\"\n",
    "\n",
    "def count_vowels(word):\n",
    "    vowels = \"aeiouAEIOU\"\n",
    "    return sum(1 for letter in word if letter in vowels)\n",
    "\n",
    "def filter_strings_with_more_than_three_vowels(strings):\n",
    "    return [s for s in strings if count_vowels(s) > 3]\n",
    "\n",
    "\n",
    "input_strings = [\"hello\", \"world\", \"programming\", \"python\", \"example\"]\n",
    "\n",
    "\n",
    "filtered_strings = filter_strings_with_more_than_three_vowels(input_strings)\n",
    "\n",
    "\n",
    "print(filtered_strings)\n",
    "\n"
   ]
  },
  {
   "cell_type": "code",
   "execution_count": null,
   "id": "2a0b92fa",
   "metadata": {},
   "outputs": [],
   "source": [
    "l1=[\"baaat\",\"check\",\"aeeeeeei\",\"tab\"]\n",
    "\n",
    "def count_vowels(word):\n",
    "    count=0\n",
    "    vowels=['a','e','i','o','u']\n",
    "    \n",
    "    if word in vowels:        \n",
    "        count+=1      \n",
    "    return count \n",
    "\n",
    "def filter_strings_with_more_than_three_vowels(strings):\n",
    "    return [s for s in strings if count_vowels(s) > 3]\n",
    "\n",
    "\n",
    "input_strings = [\"hello\", \"world\", \"programming\", \"python\", \"example\"]\n",
    "\n",
    "\n",
    "filtered_strings = filter_strings_with_more_than_three_vowels(input_strings)\n",
    "\n",
    "\n",
    "print(filtered_strings)\n"
   ]
  },
  {
   "cell_type": "code",
   "execution_count": 23,
   "id": "98612a07",
   "metadata": {},
   "outputs": [
    {
     "name": "stdout",
     "output_type": "stream",
     "text": [
      "The total sum of digits for numbers from 1 to 1000 is: 13501\n"
     ]
    }
   ],
   "source": [
    "\"\"\"Develop a program that calculates the sum of the digits of numbers from 1 to 1000 using list \n",
    "comprehension\n",
    "\"\"\"\n",
    "\n",
    "\n",
    "def calculate_digit_sum(number):\n",
    "    return sum(int(digit) for digit in str(number))\n",
    "\n",
    "\n",
    "sums_of_digits = [calculate_digit_sum(number) for number in range(1, 1001)]\n",
    "\n",
    "total_sum = sum(sums_of_digits)\n",
    "\n",
    "print(\"The total sum of digits for numbers from 1 to 1000 is:\", total_sum)\n"
   ]
  },
  {
   "cell_type": "code",
   "execution_count": 26,
   "id": "6cf53a91",
   "metadata": {},
   "outputs": [
    {
     "name": "stdout",
     "output_type": "stream",
     "text": [
      "Enter a stop point : 200\n",
      "Prime palindromic numbers: [2, 3, 5, 7, 11, 101, 131, 151, 181, 191]\n"
     ]
    }
   ],
   "source": [
    "\"\"\" Write a program that generates a list of prime palindromic numbers using list comprehension\n",
    "\"\"\"\n",
    "stop=int (input (\"Enter a stop point : \"))\n",
    "def is_prime(number):\n",
    "    if number <= 1:\n",
    "        return False\n",
    "    if number == 2:\n",
    "        return True\n",
    "    if number % 2 == 0:\n",
    "        return False\n",
    "    for divisor in range(3, int(number**0.5) + 1, 2):\n",
    "        if number % divisor == 0:\n",
    "            return False\n",
    "    return True\n",
    "\n",
    "def is_palindrome(number):\n",
    "    return str(number) == str(number)[::-1]\n",
    "\n",
    "\n",
    "prime_palindromes = [num for num in range(2, stop) if is_prime(num) and is_palindrome(num)]\n",
    "\n",
    "print(\"Prime palindromic numbers:\", prime_palindromes)\n",
    "\n"
   ]
  },
  {
   "cell_type": "code",
   "execution_count": null,
   "id": "c9a0929c",
   "metadata": {},
   "outputs": [],
   "source": []
  },
  {
   "cell_type": "code",
   "execution_count": null,
   "id": "46652c7e",
   "metadata": {},
   "outputs": [],
   "source": []
  }
 ],
 "metadata": {
  "kernelspec": {
   "display_name": "Python 3 (ipykernel)",
   "language": "python",
   "name": "python3"
  },
  "language_info": {
   "codemirror_mode": {
    "name": "ipython",
    "version": 3
   },
   "file_extension": ".py",
   "mimetype": "text/x-python",
   "name": "python",
   "nbconvert_exporter": "python",
   "pygments_lexer": "ipython3",
   "version": "3.10.9"
  }
 },
 "nbformat": 4,
 "nbformat_minor": 5
}
