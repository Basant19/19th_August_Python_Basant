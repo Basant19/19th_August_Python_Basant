{
 "cells": [
  {
   "cell_type": "raw",
   "id": "15ba1deb",
   "metadata": {},
   "source": [
    "'''what is python library ? why do we use python libraries \n",
    "'''\n",
    "\n",
    "A python library is a collection of already written  code to do some specific tasks.\n",
    "python code resuability.\n",
    "simplifie complex tasks. \n",
    "Libraries are often optimized for performance."
   ]
  },
  {
   "cell_type": "raw",
   "id": "5066266e",
   "metadata": {},
   "source": [
    "'''numpy and list\n",
    "'''\n",
    "numpy : \n",
    "All elements in a NumPy array must be of the same data type.\n",
    "\n",
    "NumPy arrays can have multiple dimensions (1D, 2D, 3D, etc.), allowing for complex data structures like matrices.\n",
    "        \n",
    "NumPy arrays are stored in a contiguous block of memory, which makes them more efficient for numerical computations.\n",
    "        \n",
    "        \n",
    "list : \n",
    "Python lists can contain elements of different data types.        \n",
    "       \n",
    "While Python lists can contain other lists (thus forming multidimensional lists), they are inherently a single-dimensional data structure.\n",
    "\n",
    "Python lists can grow or shrink in size dynamically, making them more flexible but less efficient in terms of memory."
   ]
  },
  {
   "cell_type": "code",
   "execution_count": 9,
   "id": "750ad3f1",
   "metadata": {},
   "outputs": [
    {
     "name": "stdout",
     "output_type": "stream",
     "text": [
      "(3, 4)\n",
      "12\n",
      "2\n"
     ]
    }
   ],
   "source": [
    "'''find the shape, size and dimension \n",
    "[[1,2,3,4],\n",
    " [5,6,7,8],\n",
    " [9,10,11,12]]\n",
    "'''\n",
    "\n",
    "import numpy as np \n",
    "arr=np.array ([[1,2,3,4],[5,6,7,8],[9,10,11,12]])\n",
    "print(arr.shape)\n",
    "print (arr.size)\n",
    "print (arr.ndim)"
   ]
  },
  {
   "cell_type": "code",
   "execution_count": 10,
   "id": "3e24214f",
   "metadata": {},
   "outputs": [
    {
     "name": "stdout",
     "output_type": "stream",
     "text": [
      "[1 2 3 4]\n"
     ]
    }
   ],
   "source": [
    "'''access the first row \n",
    "[[1,2,3,4]]\n",
    " [5,6,7,8],\n",
    " [9,10,11,12]]\n",
    "'''\n",
    "\n",
    "arr=np.array ([[1,2,3,4],[5,6,7,8],[9,10,11,12]])\n",
    "print (arr[0])"
   ]
  },
  {
   "cell_type": "code",
   "execution_count": 12,
   "id": "2d5e55eb",
   "metadata": {},
   "outputs": [
    {
     "name": "stdout",
     "output_type": "stream",
     "text": [
      "12\n"
     ]
    }
   ],
   "source": [
    "'''How do you access the element at the third row and fourth column from the given numpy array \n",
    "   [[1,2,3,4],[5,6,7,8],[9,10,11,12]]  \n",
    "'''\n",
    "\n",
    "print (arr[2][3])"
   ]
  },
  {
   "cell_type": "code",
   "execution_count": 13,
   "id": "1b7cd5c7",
   "metadata": {},
   "outputs": [
    {
     "name": "stdout",
     "output_type": "stream",
     "text": [
      "[[ 2  4]\n",
      " [10 12]]\n"
     ]
    }
   ],
   "source": [
    "'''odd index element \n",
    "'''\n",
    "\n",
    "odd_index_element = arr [::2, 1::2]  \n",
    "print (odd_index_element)"
   ]
  },
  {
   "cell_type": "code",
   "execution_count": 14,
   "id": "213f298e",
   "metadata": {},
   "outputs": [
    {
     "name": "stdout",
     "output_type": "stream",
     "text": [
      "Random 3x3 matrix with values 0 and 1:\n",
      "[[0 0 1]\n",
      " [0 1 0]\n",
      " [0 0 0]]\n"
     ]
    }
   ],
   "source": [
    "'''genrate random 3*3 matrix with value 0 and 1 \n",
    "'''\n",
    "\n",
    "arr = np.random.randint(0, 2, size=(3, 3))\n",
    "print(\"Random 3x3 matrix with values 0 and 1:\")\n",
    "print(arr)"
   ]
  },
  {
   "cell_type": "code",
   "execution_count": null,
   "id": "14b296fa",
   "metadata": {},
   "outputs": [],
   "source": [
    "'''diffrence between np.random.rand and np.random.randn\n",
    "'''\n",
    "\n",
    "uniform_array = np.random.rand(2, 3)\n",
    "print(\"Uniform Distribution Array:\")\n",
    "print(uniform_array)"
   ]
  },
  {
   "cell_type": "code",
   "execution_count": 21,
   "id": "d3e9d919",
   "metadata": {},
   "outputs": [
    {
     "name": "stdout",
     "output_type": "stream",
     "text": [
      "Original array:\n",
      "[[ 1  2  3  4]\n",
      " [ 5  6  7  8]\n",
      " [ 9 10 11 12]]\n",
      "\n",
      "Array with increased dimensions:\n",
      "[[[ 1  2  3  4]\n",
      "  [ 5  6  7  8]\n",
      "  [ 9 10 11 12]]]\n",
      "Shape of the reshaped array: (1, 3, 4)\n"
     ]
    }
   ],
   "source": [
    "'''how to increase the dimension of the following array  \n",
    "'''\n",
    "import numpy as np\n",
    "arr = np.array([[1, 2, 3, 4],\n",
    "                [5, 6, 7, 8],\n",
    "                [9, 10, 11, 12]])\n",
    "\n",
    "print(\"Original array:\")\n",
    "print(arr)\n",
    "\n",
    "reshaped_arr = arr.reshape((1, 3, 4))\n",
    "print(\"\\nArray with increased dimensions:\")\n",
    "print(reshaped_arr)\n",
    "print(\"Shape of the reshaped array:\", reshaped_arr.shape)\n"
   ]
  },
  {
   "cell_type": "code",
   "execution_count": 23,
   "id": "19c691f8",
   "metadata": {},
   "outputs": [
    {
     "name": "stdout",
     "output_type": "stream",
     "text": [
      "Original array:\n",
      "[[ 1  2  3  4]\n",
      " [ 5  6  7  8]\n",
      " [ 9 10 11 12]]\n",
      "Transposed array:\n",
      "[[ 1  5  9]\n",
      " [ 2  6 10]\n",
      " [ 3  7 11]\n",
      " [ 4  8 12]]\n"
     ]
    }
   ],
   "source": [
    "'''how to transpose \n",
    "'''\n",
    "\n",
    "\n",
    "import numpy as np\n",
    "arr = np.array([\n",
    "    [1, 2, 3, 4],\n",
    "    [5, 6, 7, 8],\n",
    "    [9, 10, 11, 12]\n",
    "])\n",
    "\n",
    "print(\"Original array:\")\n",
    "print(arr)\n",
    "print(\"Transposed array:\")\n",
    "transposed_arr = arr.T\n",
    "print(transposed_arr)\n"
   ]
  },
  {
   "cell_type": "code",
   "execution_count": 25,
   "id": "7705a6ce",
   "metadata": {},
   "outputs": [
    {
     "name": "stdout",
     "output_type": "stream",
     "text": [
      "Index-wise Multiplication:\n",
      " [[  1   4   9  16]\n",
      " [ 25  36  49  64]\n",
      " [ 81 100 121 144]]\n",
      "\n",
      "Matrix Multiplication:\n",
      " [[ 30  70 110]\n",
      " [ 70 174 278]\n",
      " [110 278 446]]\n",
      "\n",
      "Addition of matrices:\n",
      " [[ 2  4  6  8]\n",
      " [10 12 14 16]\n",
      " [18 20 22 24]]\n",
      "\n",
      "Subtraction of b from a:\n",
      " [[0 0 0 0]\n",
      " [0 0 0 0]\n",
      " [0 0 0 0]]\n",
      "\n",
      "Division of a by b:\n",
      " [[1. 1. 1. 1.]\n",
      " [1. 1. 1. 1.]\n",
      " [1. 1. 1. 1.]]\n"
     ]
    }
   ],
   "source": [
    "'''Consider the following matrix \n",
    "matrix A [[1,2,3,4] [5,6,7,8] [9,10,11,12]]\n",
    "matrix B [[1,2,3,4] [5,6,7,8] [9,10,11,12]]\n",
    "'''\n",
    "\n",
    "\n",
    "import numpy as np\n",
    "a = np.array([[1, 2, 3, 4],\n",
    "              [5, 6, 7, 8],\n",
    "              [9, 10, 11, 12]])\n",
    "\n",
    "b = np.array([[1, 2, 3, 4],\n",
    "              [5, 6, 7, 8],\n",
    "              [9, 10, 11, 12]])\n",
    "\n",
    "index_wise_multiplication = a * b\n",
    "print(\"Index-wise Multiplication:\\n\", index_wise_multiplication)\n",
    "\n",
    "\n",
    "matrix_multiplication = np.dot(a, b.T) \n",
    "print(\"\\nMatrix Multiplication:\\n\", matrix_multiplication)\n",
    "\n",
    "\n",
    "addition = a + b\n",
    "print(\"\\nAddition of matrices:\\n\", addition)\n",
    "\n",
    "subtraction = a - b\n",
    "print(\"\\nSubtraction of b from a:\\n\", subtraction)\n",
    "\n",
    "division = a / b\n",
    "print(\"\\nDivision of a by b:\\n\", division)\n",
    "\n"
   ]
  },
  {
   "cell_type": "code",
   "execution_count": 26,
   "id": "f625737e",
   "metadata": {},
   "outputs": [
    {
     "name": "stdout",
     "output_type": "stream",
     "text": [
      "Original array:\n",
      "[   1  256 1024]\n",
      "Data type: int32\n",
      "\n",
      "Swapped byte order array:\n",
      "[   1  256 1024]\n",
      "Data type: >i4\n"
     ]
    }
   ],
   "source": [
    "'''Numpy can be used to swap the byte order of an array \n",
    "'''\n",
    "\n",
    "\n",
    "import numpy as np\n",
    "\n",
    "arr = np.array([1, 256, 1024], dtype=np.int32)\n",
    "\n",
    "print(\"Original array:\")\n",
    "print(arr)\n",
    "print(\"Data type:\", arr.dtype)\n",
    "\n",
    "\n",
    "swapped_arr = arr.byteswap().newbyteorder()\n",
    "\n",
    "print(\"\\nSwapped byte order array:\")\n",
    "print(swapped_arr)\n",
    "print(\"Data type:\", swapped_arr.dtype)\n",
    "\n"
   ]
  },
  {
   "cell_type": "code",
   "execution_count": 27,
   "id": "cb7462cc",
   "metadata": {},
   "outputs": [
    {
     "name": "stdout",
     "output_type": "stream",
     "text": [
      "Matrix A:\n",
      "[[1 2]\n",
      " [3 4]]\n",
      "\n",
      "Inverse of matrix A:\n",
      "[[-2.   1. ]\n",
      " [ 1.5 -0.5]]\n",
      "\n",
      "Product of A and its inverse (should be identity matrix):\n",
      "[[1.00000000e+00 1.11022302e-16]\n",
      " [0.00000000e+00 1.00000000e+00]]\n"
     ]
    }
   ],
   "source": [
    "'''what is the signifiacnce of the np.linalg.inv function \n",
    "'''\n",
    "\n",
    "import numpy as np\n",
    "\n",
    "\n",
    "A = np.array([[1, 2], [3, 4]])\n",
    "\n",
    "A_inv = np.linalg.inv(A)\n",
    "\n",
    "print(\"Matrix A:\")\n",
    "print(A)\n",
    "\n",
    "print(\"\\nInverse of matrix A:\")\n",
    "print(A_inv)\n",
    "\n",
    "\n",
    "I = np.dot(A, A_inv)\n",
    "\n",
    "print(\"\\nProduct of A and its inverse (should be identity matrix):\")\n",
    "print(I)\n",
    "\n",
    "\n"
   ]
  },
  {
   "cell_type": "raw",
   "id": "b6b51016",
   "metadata": {},
   "source": [
    "'''what does the np.reshape function do , how is it used \n",
    "'''\n",
    "\n",
    "The np.reshape function in NumPy is used to change the shape of an array without changing its data\n",
    "\n",
    "It allows you to rearrange the elements of an array into a new shape, provided that the total number of elements remains the same.\n",
    "\n",
    "\n",
    " use example : \n",
    "arr = np.array([[1, 2, 3], [4, 5, 6]])\n",
    "flattened_arr = arr.reshape(-1)\n",
    "print(flattened_arr)\n"
   ]
  },
  {
   "cell_type": "raw",
   "id": "f9bf6641",
   "metadata": {},
   "source": [
    "'''broadcasting in numpy \n",
    "'''\n",
    "\n",
    "broadcasting in numpy refers to the ability of Numpy to perform arithmetic operations on arrays of diffrent shapes in way that allows them to be treated as if they had the same shape.\n",
    "\n",
    "\n"
   ]
  },
  {
   "cell_type": "raw",
   "id": "3a300fb8",
   "metadata": {},
   "source": []
  },
  {
   "cell_type": "code",
   "execution_count": null,
   "id": "05de6494",
   "metadata": {},
   "outputs": [],
   "source": []
  },
  {
   "cell_type": "code",
   "execution_count": null,
   "id": "55b4543c",
   "metadata": {},
   "outputs": [],
   "source": []
  }
 ],
 "metadata": {
  "kernelspec": {
   "display_name": "Python 3 (ipykernel)",
   "language": "python",
   "name": "python3"
  },
  "language_info": {
   "codemirror_mode": {
    "name": "ipython",
    "version": 3
   },
   "file_extension": ".py",
   "mimetype": "text/x-python",
   "name": "python",
   "nbconvert_exporter": "python",
   "pygments_lexer": "ipython3",
   "version": "3.10.9"
  }
 },
 "nbformat": 4,
 "nbformat_minor": 5
}
